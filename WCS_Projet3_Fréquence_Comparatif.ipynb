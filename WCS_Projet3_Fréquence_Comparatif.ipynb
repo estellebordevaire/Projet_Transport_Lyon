{
 "cells": [
  {
   "cell_type": "code",
   "execution_count": 1,
   "metadata": {},
   "outputs": [],
   "source": [
    "import pandas as pd\n",
    "import json\n",
    "import requests"
   ]
  },
  {
   "cell_type": "markdown",
   "metadata": {},
   "source": [
    "# Passage - mardi 5h-12h"
   ]
  },
  {
   "cell_type": "code",
   "execution_count": 5,
   "metadata": {},
   "outputs": [
    {
     "name": "stdout",
     "output_type": "stream",
     "text": [
      "6281614\n"
     ]
    },
    {
     "data": {
      "text/html": [
       "<div>\n",
       "<style scoped>\n",
       "    .dataframe tbody tr th:only-of-type {\n",
       "        vertical-align: middle;\n",
       "    }\n",
       "\n",
       "    .dataframe tbody tr th {\n",
       "        vertical-align: top;\n",
       "    }\n",
       "\n",
       "    .dataframe thead th {\n",
       "        text-align: right;\n",
       "    }\n",
       "</style>\n",
       "<table border=\"1\" class=\"dataframe\">\n",
       "  <thead>\n",
       "    <tr style=\"text-align: right;\">\n",
       "      <th></th>\n",
       "      <th>idtarretdestination</th>\n",
       "      <th>coursetheorique</th>\n",
       "      <th>direction</th>\n",
       "      <th>ligne</th>\n",
       "      <th>delaipassage</th>\n",
       "      <th>heurepassage</th>\n",
       "      <th>gid</th>\n",
       "      <th>last_update_fme</th>\n",
       "      <th>type</th>\n",
       "      <th>id</th>\n",
       "      <th>time_download_DDHHMMSS</th>\n",
       "      <th>Time_downLoad_DDHHMMSS</th>\n",
       "    </tr>\n",
       "  </thead>\n",
       "  <tbody>\n",
       "    <tr>\n",
       "      <th>0</th>\n",
       "      <td>35998</td>\n",
       "      <td>87A-032AZ:1:1:3</td>\n",
       "      <td>Mions Bourdelle</td>\n",
       "      <td>87A</td>\n",
       "      <td>40 min</td>\n",
       "      <td>2021-07-27 05:40:00</td>\n",
       "      <td>1</td>\n",
       "      <td>2021-07-27 04:59:32</td>\n",
       "      <td>T</td>\n",
       "      <td>1</td>\n",
       "      <td>NaN</td>\n",
       "      <td>27_04_59_42</td>\n",
       "    </tr>\n",
       "    <tr>\n",
       "      <th>1</th>\n",
       "      <td>35998</td>\n",
       "      <td>87A-032AZ:3:1:2</td>\n",
       "      <td>Mions Bourdelle</td>\n",
       "      <td>87A</td>\n",
       "      <td>50 min</td>\n",
       "      <td>2021-07-27 05:50:00</td>\n",
       "      <td>2</td>\n",
       "      <td>2021-07-27 04:59:32</td>\n",
       "      <td>T</td>\n",
       "      <td>1</td>\n",
       "      <td>NaN</td>\n",
       "      <td>27_04_59_42</td>\n",
       "    </tr>\n",
       "    <tr>\n",
       "      <th>2</th>\n",
       "      <td>47263</td>\n",
       "      <td>ZI1A-067AM:1:1:2</td>\n",
       "      <td>Saint-Priest Gare</td>\n",
       "      <td>ZI1A</td>\n",
       "      <td>45 min</td>\n",
       "      <td>2021-07-27 05:45:00</td>\n",
       "      <td>3</td>\n",
       "      <td>2021-07-27 04:59:32</td>\n",
       "      <td>T</td>\n",
       "      <td>1</td>\n",
       "      <td>NaN</td>\n",
       "      <td>27_04_59_42</td>\n",
       "    </tr>\n",
       "    <tr>\n",
       "      <th>3</th>\n",
       "      <td>47263</td>\n",
       "      <td>ZI1A-067AM:2:1:2</td>\n",
       "      <td>Saint-Priest Gare</td>\n",
       "      <td>ZI1A</td>\n",
       "      <td>06h20</td>\n",
       "      <td>2021-07-27 06:20:00</td>\n",
       "      <td>4</td>\n",
       "      <td>2021-07-27 04:59:32</td>\n",
       "      <td>T</td>\n",
       "      <td>1</td>\n",
       "      <td>NaN</td>\n",
       "      <td>27_04_59_42</td>\n",
       "    </tr>\n",
       "    <tr>\n",
       "      <th>4</th>\n",
       "      <td>11315</td>\n",
       "      <td>87A-032AZ:1:1:2</td>\n",
       "      <td>Gare de VÃ©nissieux</td>\n",
       "      <td>87A</td>\n",
       "      <td>16 min</td>\n",
       "      <td>2021-07-27 05:15:10</td>\n",
       "      <td>5</td>\n",
       "      <td>2021-07-27 04:59:32</td>\n",
       "      <td>T</td>\n",
       "      <td>2</td>\n",
       "      <td>NaN</td>\n",
       "      <td>27_04_59_42</td>\n",
       "    </tr>\n",
       "  </tbody>\n",
       "</table>\n",
       "</div>"
      ],
      "text/plain": [
       "   idtarretdestination   coursetheorique            direction ligne  \\\n",
       "0                35998   87A-032AZ:1:1:3      Mions Bourdelle   87A   \n",
       "1                35998   87A-032AZ:3:1:2      Mions Bourdelle   87A   \n",
       "2                47263  ZI1A-067AM:1:1:2    Saint-Priest Gare  ZI1A   \n",
       "3                47263  ZI1A-067AM:2:1:2    Saint-Priest Gare  ZI1A   \n",
       "4                11315   87A-032AZ:1:1:2  Gare de VÃ©nissieux   87A   \n",
       "\n",
       "  delaipassage         heurepassage  gid      last_update_fme type  id  \\\n",
       "0       40 min  2021-07-27 05:40:00    1  2021-07-27 04:59:32    T   1   \n",
       "1       50 min  2021-07-27 05:50:00    2  2021-07-27 04:59:32    T   1   \n",
       "2       45 min  2021-07-27 05:45:00    3  2021-07-27 04:59:32    T   1   \n",
       "3        06h20  2021-07-27 06:20:00    4  2021-07-27 04:59:32    T   1   \n",
       "4       16 min  2021-07-27 05:15:10    5  2021-07-27 04:59:32    T   2   \n",
       "\n",
       "   time_download_DDHHMMSS Time_downLoad_DDHHMMSS  \n",
       "0                     NaN            27_04_59_42  \n",
       "1                     NaN            27_04_59_42  \n",
       "2                     NaN            27_04_59_42  \n",
       "3                     NaN            27_04_59_42  \n",
       "4                     NaN            27_04_59_42  "
      ]
     },
     "execution_count": 5,
     "metadata": {},
     "output_type": "execute_result"
    }
   ],
   "source": [
    "traffic_mardi = pd.read_csv(\"Lyon_passagearret_EB_2707_512.csv\")\n",
    "print(len(traffic_mardi))\n",
    "traffic_mardi.head()"
   ]
  },
  {
   "cell_type": "code",
   "execution_count": 6,
   "metadata": {},
   "outputs": [
    {
     "name": "stdout",
     "output_type": "stream",
     "text": [
      "24660\n"
     ]
    },
    {
     "data": {
      "text/html": [
       "<div>\n",
       "<style scoped>\n",
       "    .dataframe tbody tr th:only-of-type {\n",
       "        vertical-align: middle;\n",
       "    }\n",
       "\n",
       "    .dataframe tbody tr th {\n",
       "        vertical-align: top;\n",
       "    }\n",
       "\n",
       "    .dataframe thead th {\n",
       "        text-align: right;\n",
       "    }\n",
       "</style>\n",
       "<table border=\"1\" class=\"dataframe\">\n",
       "  <thead>\n",
       "    <tr style=\"text-align: right;\">\n",
       "      <th></th>\n",
       "      <th>idtarretdestination</th>\n",
       "      <th>coursetheorique</th>\n",
       "      <th>direction</th>\n",
       "      <th>ligne</th>\n",
       "      <th>delaipassage</th>\n",
       "      <th>heurepassage</th>\n",
       "      <th>gid</th>\n",
       "      <th>last_update_fme</th>\n",
       "      <th>type</th>\n",
       "      <th>id</th>\n",
       "      <th>time_download_DDHHMMSS</th>\n",
       "      <th>Time_downLoad_DDHHMMSS</th>\n",
       "    </tr>\n",
       "  </thead>\n",
       "  <tbody>\n",
       "    <tr>\n",
       "      <th>817</th>\n",
       "      <td>30000</td>\n",
       "      <td>C3A-022A@:2:1:3</td>\n",
       "      <td>Gare Saint-Paul</td>\n",
       "      <td>C3A</td>\n",
       "      <td>10 min</td>\n",
       "      <td>2021-07-27 05:09:26</td>\n",
       "      <td>818</td>\n",
       "      <td>2021-07-27 04:59:33</td>\n",
       "      <td>E</td>\n",
       "      <td>664</td>\n",
       "      <td>NaN</td>\n",
       "      <td>27_04_59_42</td>\n",
       "    </tr>\n",
       "    <tr>\n",
       "      <th>818</th>\n",
       "      <td>30000</td>\n",
       "      <td>C3A-022A@:4:1:3</td>\n",
       "      <td>Gare Saint-Paul</td>\n",
       "      <td>C3A</td>\n",
       "      <td>25 min</td>\n",
       "      <td>2021-07-27 05:24:26</td>\n",
       "      <td>819</td>\n",
       "      <td>2021-07-27 04:59:33</td>\n",
       "      <td>E</td>\n",
       "      <td>664</td>\n",
       "      <td>NaN</td>\n",
       "      <td>27_04_59_42</td>\n",
       "    </tr>\n",
       "    <tr>\n",
       "      <th>1278</th>\n",
       "      <td>30000</td>\n",
       "      <td>C3A-022A@:2:1:3</td>\n",
       "      <td>Gare Saint-Paul</td>\n",
       "      <td>C3A</td>\n",
       "      <td>7 min</td>\n",
       "      <td>2021-07-27 05:06:53</td>\n",
       "      <td>1278</td>\n",
       "      <td>2021-07-27 04:59:34</td>\n",
       "      <td>E</td>\n",
       "      <td>1071</td>\n",
       "      <td>NaN</td>\n",
       "      <td>27_04_59_42</td>\n",
       "    </tr>\n",
       "    <tr>\n",
       "      <th>1279</th>\n",
       "      <td>30000</td>\n",
       "      <td>C3A-022A@:4:1:3</td>\n",
       "      <td>Gare Saint-Paul</td>\n",
       "      <td>C3A</td>\n",
       "      <td>22 min</td>\n",
       "      <td>2021-07-27 05:21:53</td>\n",
       "      <td>1279</td>\n",
       "      <td>2021-07-27 04:59:34</td>\n",
       "      <td>E</td>\n",
       "      <td>1071</td>\n",
       "      <td>NaN</td>\n",
       "      <td>27_04_59_42</td>\n",
       "    </tr>\n",
       "    <tr>\n",
       "      <th>1398</th>\n",
       "      <td>30000</td>\n",
       "      <td>C3A-022A@:3:1:2</td>\n",
       "      <td>Gare Saint-Paul</td>\n",
       "      <td>C3A</td>\n",
       "      <td>13 min</td>\n",
       "      <td>2021-07-27 05:12:10</td>\n",
       "      <td>1398</td>\n",
       "      <td>2021-07-27 04:59:34</td>\n",
       "      <td>E</td>\n",
       "      <td>1190</td>\n",
       "      <td>NaN</td>\n",
       "      <td>27_04_59_42</td>\n",
       "    </tr>\n",
       "  </tbody>\n",
       "</table>\n",
       "</div>"
      ],
      "text/plain": [
       "      idtarretdestination  coursetheorique        direction ligne  \\\n",
       "817                 30000  C3A-022A@:2:1:3  Gare Saint-Paul   C3A   \n",
       "818                 30000  C3A-022A@:4:1:3  Gare Saint-Paul   C3A   \n",
       "1278                30000  C3A-022A@:2:1:3  Gare Saint-Paul   C3A   \n",
       "1279                30000  C3A-022A@:4:1:3  Gare Saint-Paul   C3A   \n",
       "1398                30000  C3A-022A@:3:1:2  Gare Saint-Paul   C3A   \n",
       "\n",
       "     delaipassage         heurepassage   gid      last_update_fme type    id  \\\n",
       "817        10 min  2021-07-27 05:09:26   818  2021-07-27 04:59:33    E   664   \n",
       "818        25 min  2021-07-27 05:24:26   819  2021-07-27 04:59:33    E   664   \n",
       "1278        7 min  2021-07-27 05:06:53  1278  2021-07-27 04:59:34    E  1071   \n",
       "1279       22 min  2021-07-27 05:21:53  1279  2021-07-27 04:59:34    E  1071   \n",
       "1398       13 min  2021-07-27 05:12:10  1398  2021-07-27 04:59:34    E  1190   \n",
       "\n",
       "      time_download_DDHHMMSS Time_downLoad_DDHHMMSS  \n",
       "817                      NaN            27_04_59_42  \n",
       "818                      NaN            27_04_59_42  \n",
       "1278                     NaN            27_04_59_42  \n",
       "1279                     NaN            27_04_59_42  \n",
       "1398                     NaN            27_04_59_42  "
      ]
     },
     "execution_count": 6,
     "metadata": {},
     "output_type": "execute_result"
    }
   ],
   "source": [
    "# On ne sélectionne que la ligne C3A direction Gare Saint Paul (id 30000)\n",
    "traffic_mardi = traffic_mardi[traffic_mardi['ligne']=='C3A']\n",
    "traffic_mardi = traffic_mardi[traffic_mardi['idtarretdestination']==30000]\n",
    "print(len(traffic_mardi))\n",
    "traffic_mardi.head()"
   ]
  },
  {
   "cell_type": "code",
   "execution_count": 7,
   "metadata": {},
   "outputs": [
    {
     "name": "stdout",
     "output_type": "stream",
     "text": [
      "768\n"
     ]
    },
    {
     "data": {
      "text/html": [
       "<div>\n",
       "<style scoped>\n",
       "    .dataframe tbody tr th:only-of-type {\n",
       "        vertical-align: middle;\n",
       "    }\n",
       "\n",
       "    .dataframe tbody tr th {\n",
       "        vertical-align: top;\n",
       "    }\n",
       "\n",
       "    .dataframe thead th {\n",
       "        text-align: right;\n",
       "    }\n",
       "</style>\n",
       "<table border=\"1\" class=\"dataframe\">\n",
       "  <thead>\n",
       "    <tr style=\"text-align: right;\">\n",
       "      <th></th>\n",
       "      <th>idtarretdestination</th>\n",
       "      <th>coursetheorique</th>\n",
       "      <th>direction</th>\n",
       "      <th>ligne</th>\n",
       "      <th>delaipassage</th>\n",
       "      <th>heurepassage</th>\n",
       "      <th>gid</th>\n",
       "      <th>last_update_fme</th>\n",
       "      <th>type</th>\n",
       "      <th>id</th>\n",
       "      <th>time_download_DDHHMMSS</th>\n",
       "      <th>Time_downLoad_DDHHMMSS</th>\n",
       "    </tr>\n",
       "  </thead>\n",
       "  <tbody>\n",
       "    <tr>\n",
       "      <th>8107</th>\n",
       "      <td>30000</td>\n",
       "      <td>C3A-022A@:3:1:2</td>\n",
       "      <td>Gare Saint-Paul</td>\n",
       "      <td>C3A</td>\n",
       "      <td>14 min</td>\n",
       "      <td>2021-07-27 05:13:48</td>\n",
       "      <td>8108</td>\n",
       "      <td>2021-07-27 04:59:40</td>\n",
       "      <td>E</td>\n",
       "      <td>46307</td>\n",
       "      <td>NaN</td>\n",
       "      <td>27_04_59_42</td>\n",
       "    </tr>\n",
       "    <tr>\n",
       "      <th>8108</th>\n",
       "      <td>30000</td>\n",
       "      <td>C3A-022A@:1:1:2</td>\n",
       "      <td>Gare Saint-Paul</td>\n",
       "      <td>C3A</td>\n",
       "      <td>19 min</td>\n",
       "      <td>2021-07-27 05:18:48</td>\n",
       "      <td>8109</td>\n",
       "      <td>2021-07-27 04:59:40</td>\n",
       "      <td>T</td>\n",
       "      <td>46307</td>\n",
       "      <td>NaN</td>\n",
       "      <td>27_04_59_42</td>\n",
       "    </tr>\n",
       "    <tr>\n",
       "      <th>17107</th>\n",
       "      <td>30000</td>\n",
       "      <td>C3A-022A@:3:1:2</td>\n",
       "      <td>Gare Saint-Paul</td>\n",
       "      <td>C3A</td>\n",
       "      <td>14 min</td>\n",
       "      <td>2021-07-27 05:13:48</td>\n",
       "      <td>8108</td>\n",
       "      <td>2021-07-27 04:59:40</td>\n",
       "      <td>E</td>\n",
       "      <td>46307</td>\n",
       "      <td>NaN</td>\n",
       "      <td>27_04_59_43</td>\n",
       "    </tr>\n",
       "    <tr>\n",
       "      <th>17108</th>\n",
       "      <td>30000</td>\n",
       "      <td>C3A-022A@:1:1:2</td>\n",
       "      <td>Gare Saint-Paul</td>\n",
       "      <td>C3A</td>\n",
       "      <td>19 min</td>\n",
       "      <td>2021-07-27 05:18:48</td>\n",
       "      <td>8109</td>\n",
       "      <td>2021-07-27 04:59:40</td>\n",
       "      <td>T</td>\n",
       "      <td>46307</td>\n",
       "      <td>NaN</td>\n",
       "      <td>27_04_59_43</td>\n",
       "    </tr>\n",
       "    <tr>\n",
       "      <th>26435</th>\n",
       "      <td>30000</td>\n",
       "      <td>C3A-022A@:3:1:2</td>\n",
       "      <td>Gare Saint-Paul</td>\n",
       "      <td>C3A</td>\n",
       "      <td>14 min</td>\n",
       "      <td>2021-07-27 05:13:48</td>\n",
       "      <td>8108</td>\n",
       "      <td>2021-07-27 04:59:40</td>\n",
       "      <td>E</td>\n",
       "      <td>46307</td>\n",
       "      <td>NaN</td>\n",
       "      <td>27_04_59_45</td>\n",
       "    </tr>\n",
       "  </tbody>\n",
       "</table>\n",
       "</div>"
      ],
      "text/plain": [
       "       idtarretdestination  coursetheorique        direction ligne  \\\n",
       "8107                 30000  C3A-022A@:3:1:2  Gare Saint-Paul   C3A   \n",
       "8108                 30000  C3A-022A@:1:1:2  Gare Saint-Paul   C3A   \n",
       "17107                30000  C3A-022A@:3:1:2  Gare Saint-Paul   C3A   \n",
       "17108                30000  C3A-022A@:1:1:2  Gare Saint-Paul   C3A   \n",
       "26435                30000  C3A-022A@:3:1:2  Gare Saint-Paul   C3A   \n",
       "\n",
       "      delaipassage         heurepassage   gid      last_update_fme type  \\\n",
       "8107        14 min  2021-07-27 05:13:48  8108  2021-07-27 04:59:40    E   \n",
       "8108        19 min  2021-07-27 05:18:48  8109  2021-07-27 04:59:40    T   \n",
       "17107       14 min  2021-07-27 05:13:48  8108  2021-07-27 04:59:40    E   \n",
       "17108       19 min  2021-07-27 05:18:48  8109  2021-07-27 04:59:40    T   \n",
       "26435       14 min  2021-07-27 05:13:48  8108  2021-07-27 04:59:40    E   \n",
       "\n",
       "          id  time_download_DDHHMMSS Time_downLoad_DDHHMMSS  \n",
       "8107   46307                     NaN            27_04_59_42  \n",
       "8108   46307                     NaN            27_04_59_42  \n",
       "17107  46307                     NaN            27_04_59_43  \n",
       "17108  46307                     NaN            27_04_59_43  \n",
       "26435  46307                     NaN            27_04_59_45  "
      ]
     },
     "execution_count": 7,
     "metadata": {},
     "output_type": "execute_result"
    }
   ],
   "source": [
    "#Je sélectionne uniquement mon point d'arret Terreaux La Feuillee (id = 46307 // id correspondant à C3A:R)\n",
    "traffic_mardi = traffic_mardi[traffic_mardi['id']==46307]\n",
    "print(len(traffic_mardi))\n",
    "traffic_mardi.head()"
   ]
  },
  {
   "cell_type": "code",
   "execution_count": 8,
   "metadata": {},
   "outputs": [
    {
     "name": "stdout",
     "output_type": "stream",
     "text": [
      "57\n"
     ]
    },
    {
     "data": {
      "text/html": [
       "<div>\n",
       "<style scoped>\n",
       "    .dataframe tbody tr th:only-of-type {\n",
       "        vertical-align: middle;\n",
       "    }\n",
       "\n",
       "    .dataframe tbody tr th {\n",
       "        vertical-align: top;\n",
       "    }\n",
       "\n",
       "    .dataframe thead th {\n",
       "        text-align: right;\n",
       "    }\n",
       "</style>\n",
       "<table border=\"1\" class=\"dataframe\">\n",
       "  <thead>\n",
       "    <tr style=\"text-align: right;\">\n",
       "      <th></th>\n",
       "      <th>idtarretdestination</th>\n",
       "      <th>coursetheorique</th>\n",
       "      <th>direction</th>\n",
       "      <th>ligne</th>\n",
       "      <th>delaipassage</th>\n",
       "      <th>heurepassage</th>\n",
       "      <th>gid</th>\n",
       "      <th>last_update_fme</th>\n",
       "      <th>type</th>\n",
       "      <th>id</th>\n",
       "      <th>time_download_DDHHMMSS</th>\n",
       "      <th>Time_downLoad_DDHHMMSS</th>\n",
       "    </tr>\n",
       "  </thead>\n",
       "  <tbody>\n",
       "    <tr>\n",
       "      <th>0</th>\n",
       "      <td>30000</td>\n",
       "      <td>C3A-022A@:3:1:2</td>\n",
       "      <td>Gare Saint-Paul</td>\n",
       "      <td>C3A</td>\n",
       "      <td>1 min</td>\n",
       "      <td>2021-07-27 05:12:48</td>\n",
       "      <td>8711</td>\n",
       "      <td>2021-07-27 05:11:41</td>\n",
       "      <td>E</td>\n",
       "      <td>46307</td>\n",
       "      <td>NaN</td>\n",
       "      <td>27_05_11_56</td>\n",
       "    </tr>\n",
       "    <tr>\n",
       "      <th>1</th>\n",
       "      <td>30000</td>\n",
       "      <td>C3A-022A@:1:1:2</td>\n",
       "      <td>Gare Saint-Paul</td>\n",
       "      <td>C3A</td>\n",
       "      <td>Proche</td>\n",
       "      <td>2021-07-27 05:18:48</td>\n",
       "      <td>9083</td>\n",
       "      <td>2021-07-27 05:18:41</td>\n",
       "      <td>E</td>\n",
       "      <td>46307</td>\n",
       "      <td>NaN</td>\n",
       "      <td>27_05_18_57</td>\n",
       "    </tr>\n",
       "    <tr>\n",
       "      <th>2</th>\n",
       "      <td>30000</td>\n",
       "      <td>C3A-022A@:2:1:3</td>\n",
       "      <td>Gare Saint-Paul</td>\n",
       "      <td>C3A</td>\n",
       "      <td>Proche</td>\n",
       "      <td>2021-07-27 05:38:48</td>\n",
       "      <td>9890</td>\n",
       "      <td>2021-07-27 05:39:12</td>\n",
       "      <td>E</td>\n",
       "      <td>46307</td>\n",
       "      <td>NaN</td>\n",
       "      <td>27_05_39_19</td>\n",
       "    </tr>\n",
       "    <tr>\n",
       "      <th>3</th>\n",
       "      <td>30000</td>\n",
       "      <td>C3A-022A@:4:1:3</td>\n",
       "      <td>Gare Saint-Paul</td>\n",
       "      <td>C3A</td>\n",
       "      <td>Proche</td>\n",
       "      <td>2021-07-27 05:53:48</td>\n",
       "      <td>10295</td>\n",
       "      <td>2021-07-27 05:53:42</td>\n",
       "      <td>E</td>\n",
       "      <td>46307</td>\n",
       "      <td>NaN</td>\n",
       "      <td>27_05_53_47</td>\n",
       "    </tr>\n",
       "    <tr>\n",
       "      <th>4</th>\n",
       "      <td>30000</td>\n",
       "      <td>C3A-022A@:8:1:2</td>\n",
       "      <td>Gare Saint-Paul</td>\n",
       "      <td>C3A</td>\n",
       "      <td>Proche</td>\n",
       "      <td>2021-07-27 06:00:48</td>\n",
       "      <td>10421</td>\n",
       "      <td>2021-07-27 06:00:57</td>\n",
       "      <td>E</td>\n",
       "      <td>46307</td>\n",
       "      <td>NaN</td>\n",
       "      <td>27_06_01_15</td>\n",
       "    </tr>\n",
       "  </tbody>\n",
       "</table>\n",
       "</div>"
      ],
      "text/plain": [
       "   idtarretdestination  coursetheorique        direction ligne delaipassage  \\\n",
       "0                30000  C3A-022A@:3:1:2  Gare Saint-Paul   C3A        1 min   \n",
       "1                30000  C3A-022A@:1:1:2  Gare Saint-Paul   C3A       Proche   \n",
       "2                30000  C3A-022A@:2:1:3  Gare Saint-Paul   C3A       Proche   \n",
       "3                30000  C3A-022A@:4:1:3  Gare Saint-Paul   C3A       Proche   \n",
       "4                30000  C3A-022A@:8:1:2  Gare Saint-Paul   C3A       Proche   \n",
       "\n",
       "          heurepassage    gid      last_update_fme type     id  \\\n",
       "0  2021-07-27 05:12:48   8711  2021-07-27 05:11:41    E  46307   \n",
       "1  2021-07-27 05:18:48   9083  2021-07-27 05:18:41    E  46307   \n",
       "2  2021-07-27 05:38:48   9890  2021-07-27 05:39:12    E  46307   \n",
       "3  2021-07-27 05:53:48  10295  2021-07-27 05:53:42    E  46307   \n",
       "4  2021-07-27 06:00:48  10421  2021-07-27 06:00:57    E  46307   \n",
       "\n",
       "   time_download_DDHHMMSS Time_downLoad_DDHHMMSS  \n",
       "0                     NaN            27_05_11_56  \n",
       "1                     NaN            27_05_18_57  \n",
       "2                     NaN            27_05_39_19  \n",
       "3                     NaN            27_05_53_47  \n",
       "4                     NaN            27_06_01_15  "
      ]
     },
     "execution_count": 8,
     "metadata": {},
     "output_type": "execute_result"
    }
   ],
   "source": [
    "# On supprime les doublons en se basant sur la donnée course théorique puis on réinitialise l'index\n",
    "traffic_mardi = traffic_mardi.drop_duplicates(subset=['ligne', 'coursetheorique'], keep='last')\n",
    "traffic_mardi = traffic_mardi.reset_index()\n",
    "traffic_mardi = traffic_mardi.drop(columns = 'index')\n",
    "print(len(traffic_mardi))\n",
    "traffic_mardi.head()"
   ]
  },
  {
   "cell_type": "code",
   "execution_count": 9,
   "metadata": {},
   "outputs": [
    {
     "data": {
      "text/html": [
       "<div>\n",
       "<style scoped>\n",
       "    .dataframe tbody tr th:only-of-type {\n",
       "        vertical-align: middle;\n",
       "    }\n",
       "\n",
       "    .dataframe tbody tr th {\n",
       "        vertical-align: top;\n",
       "    }\n",
       "\n",
       "    .dataframe thead th {\n",
       "        text-align: right;\n",
       "    }\n",
       "</style>\n",
       "<table border=\"1\" class=\"dataframe\">\n",
       "  <thead>\n",
       "    <tr style=\"text-align: right;\">\n",
       "      <th></th>\n",
       "      <th>idtarretdestination</th>\n",
       "      <th>coursetheorique</th>\n",
       "      <th>direction</th>\n",
       "      <th>ligne</th>\n",
       "      <th>delaipassage</th>\n",
       "      <th>heurepassage</th>\n",
       "      <th>gid</th>\n",
       "      <th>last_update_fme</th>\n",
       "      <th>type</th>\n",
       "      <th>id</th>\n",
       "      <th>time_download_DDHHMMSS</th>\n",
       "      <th>Time_downLoad_DDHHMMSS</th>\n",
       "    </tr>\n",
       "  </thead>\n",
       "  <tbody>\n",
       "    <tr>\n",
       "      <th>52</th>\n",
       "      <td>30000</td>\n",
       "      <td>C3A-022A@:14:1:9</td>\n",
       "      <td>Gare Saint-Paul</td>\n",
       "      <td>C3A</td>\n",
       "      <td>4 min</td>\n",
       "      <td>2021-07-27 11:40:12</td>\n",
       "      <td>10001</td>\n",
       "      <td>2021-07-27 11:36:42</td>\n",
       "      <td>E</td>\n",
       "      <td>46307</td>\n",
       "      <td>NaN</td>\n",
       "      <td>27_11_37_01</td>\n",
       "    </tr>\n",
       "    <tr>\n",
       "      <th>53</th>\n",
       "      <td>30000</td>\n",
       "      <td>C3A-022A@:10:1:11</td>\n",
       "      <td>Gare Saint-Paul</td>\n",
       "      <td>C3A</td>\n",
       "      <td>5 min</td>\n",
       "      <td>2021-07-27 11:52:12</td>\n",
       "      <td>10005</td>\n",
       "      <td>2021-07-27 11:47:12</td>\n",
       "      <td>E</td>\n",
       "      <td>46307</td>\n",
       "      <td>NaN</td>\n",
       "      <td>27_11_47_27</td>\n",
       "    </tr>\n",
       "    <tr>\n",
       "      <th>54</th>\n",
       "      <td>30000</td>\n",
       "      <td>C3A-022A@:6:1:12</td>\n",
       "      <td>Gare Saint-Paul</td>\n",
       "      <td>C3A</td>\n",
       "      <td>11 min</td>\n",
       "      <td>2021-07-27 11:58:12</td>\n",
       "      <td>10006</td>\n",
       "      <td>2021-07-27 11:47:12</td>\n",
       "      <td>E</td>\n",
       "      <td>46307</td>\n",
       "      <td>NaN</td>\n",
       "      <td>27_11_47_27</td>\n",
       "    </tr>\n",
       "    <tr>\n",
       "      <th>55</th>\n",
       "      <td>30000</td>\n",
       "      <td>C3A-022A@:7:1:12</td>\n",
       "      <td>Gare Saint-Paul</td>\n",
       "      <td>C3A</td>\n",
       "      <td>8 min</td>\n",
       "      <td>2021-07-27 12:07:12</td>\n",
       "      <td>10013</td>\n",
       "      <td>2021-07-27 11:58:42</td>\n",
       "      <td>E</td>\n",
       "      <td>46307</td>\n",
       "      <td>NaN</td>\n",
       "      <td>27_11_58_54</td>\n",
       "    </tr>\n",
       "    <tr>\n",
       "      <th>56</th>\n",
       "      <td>30000</td>\n",
       "      <td>C3A-022A@:16:1:9</td>\n",
       "      <td>Gare Saint-Paul</td>\n",
       "      <td>C3A</td>\n",
       "      <td>11 min</td>\n",
       "      <td>2021-07-27 12:10:12</td>\n",
       "      <td>10014</td>\n",
       "      <td>2021-07-27 11:58:42</td>\n",
       "      <td>E</td>\n",
       "      <td>46307</td>\n",
       "      <td>NaN</td>\n",
       "      <td>27_11_58_54</td>\n",
       "    </tr>\n",
       "  </tbody>\n",
       "</table>\n",
       "</div>"
      ],
      "text/plain": [
       "    idtarretdestination    coursetheorique        direction ligne  \\\n",
       "52                30000   C3A-022A@:14:1:9  Gare Saint-Paul   C3A   \n",
       "53                30000  C3A-022A@:10:1:11  Gare Saint-Paul   C3A   \n",
       "54                30000   C3A-022A@:6:1:12  Gare Saint-Paul   C3A   \n",
       "55                30000   C3A-022A@:7:1:12  Gare Saint-Paul   C3A   \n",
       "56                30000   C3A-022A@:16:1:9  Gare Saint-Paul   C3A   \n",
       "\n",
       "   delaipassage         heurepassage    gid      last_update_fme type     id  \\\n",
       "52        4 min  2021-07-27 11:40:12  10001  2021-07-27 11:36:42    E  46307   \n",
       "53        5 min  2021-07-27 11:52:12  10005  2021-07-27 11:47:12    E  46307   \n",
       "54       11 min  2021-07-27 11:58:12  10006  2021-07-27 11:47:12    E  46307   \n",
       "55        8 min  2021-07-27 12:07:12  10013  2021-07-27 11:58:42    E  46307   \n",
       "56       11 min  2021-07-27 12:10:12  10014  2021-07-27 11:58:42    E  46307   \n",
       "\n",
       "    time_download_DDHHMMSS Time_downLoad_DDHHMMSS  \n",
       "52                     NaN            27_11_37_01  \n",
       "53                     NaN            27_11_47_27  \n",
       "54                     NaN            27_11_47_27  \n",
       "55                     NaN            27_11_58_54  \n",
       "56                     NaN            27_11_58_54  "
      ]
     },
     "execution_count": 9,
     "metadata": {},
     "output_type": "execute_result"
    }
   ],
   "source": [
    "traffic_mardi.tail()"
   ]
  },
  {
   "cell_type": "code",
   "execution_count": 10,
   "metadata": {},
   "outputs": [
    {
     "data": {
      "text/html": [
       "<div>\n",
       "<style scoped>\n",
       "    .dataframe tbody tr th:only-of-type {\n",
       "        vertical-align: middle;\n",
       "    }\n",
       "\n",
       "    .dataframe tbody tr th {\n",
       "        vertical-align: top;\n",
       "    }\n",
       "\n",
       "    .dataframe thead th {\n",
       "        text-align: right;\n",
       "    }\n",
       "</style>\n",
       "<table border=\"1\" class=\"dataframe\">\n",
       "  <thead>\n",
       "    <tr style=\"text-align: right;\">\n",
       "      <th></th>\n",
       "      <th>idtarretdestination</th>\n",
       "      <th>coursetheorique</th>\n",
       "      <th>direction</th>\n",
       "      <th>ligne</th>\n",
       "      <th>delaipassage</th>\n",
       "      <th>heurepassage</th>\n",
       "      <th>gid</th>\n",
       "      <th>last_update_fme</th>\n",
       "      <th>type</th>\n",
       "      <th>id</th>\n",
       "      <th>time_download_DDHHMMSS</th>\n",
       "      <th>Time_downLoad_DDHHMMSS</th>\n",
       "    </tr>\n",
       "  </thead>\n",
       "  <tbody>\n",
       "    <tr>\n",
       "      <th>50</th>\n",
       "      <td>30000</td>\n",
       "      <td>C3A-022A@:8:1:11</td>\n",
       "      <td>Gare Saint-Paul</td>\n",
       "      <td>C3A</td>\n",
       "      <td>1 min</td>\n",
       "      <td>2021-07-27 11:31:12</td>\n",
       "      <td>9985</td>\n",
       "      <td>2021-07-27 11:30:13</td>\n",
       "      <td>E</td>\n",
       "      <td>46307</td>\n",
       "      <td>NaN</td>\n",
       "      <td>27_11_30_28</td>\n",
       "    </tr>\n",
       "    <tr>\n",
       "      <th>51</th>\n",
       "      <td>30000</td>\n",
       "      <td>C3A-022A@:5:1:12</td>\n",
       "      <td>Gare Saint-Paul</td>\n",
       "      <td>C3A</td>\n",
       "      <td>Proche</td>\n",
       "      <td>2021-07-27 11:33:12</td>\n",
       "      <td>9989</td>\n",
       "      <td>2021-07-27 11:32:42</td>\n",
       "      <td>E</td>\n",
       "      <td>46307</td>\n",
       "      <td>NaN</td>\n",
       "      <td>27_11_32_56</td>\n",
       "    </tr>\n",
       "    <tr>\n",
       "      <th>52</th>\n",
       "      <td>30000</td>\n",
       "      <td>C3A-022A@:14:1:9</td>\n",
       "      <td>Gare Saint-Paul</td>\n",
       "      <td>C3A</td>\n",
       "      <td>4 min</td>\n",
       "      <td>2021-07-27 11:40:12</td>\n",
       "      <td>10001</td>\n",
       "      <td>2021-07-27 11:36:42</td>\n",
       "      <td>E</td>\n",
       "      <td>46307</td>\n",
       "      <td>NaN</td>\n",
       "      <td>27_11_37_01</td>\n",
       "    </tr>\n",
       "    <tr>\n",
       "      <th>53</th>\n",
       "      <td>30000</td>\n",
       "      <td>C3A-022A@:10:1:11</td>\n",
       "      <td>Gare Saint-Paul</td>\n",
       "      <td>C3A</td>\n",
       "      <td>5 min</td>\n",
       "      <td>2021-07-27 11:52:12</td>\n",
       "      <td>10005</td>\n",
       "      <td>2021-07-27 11:47:12</td>\n",
       "      <td>E</td>\n",
       "      <td>46307</td>\n",
       "      <td>NaN</td>\n",
       "      <td>27_11_47_27</td>\n",
       "    </tr>\n",
       "    <tr>\n",
       "      <th>54</th>\n",
       "      <td>30000</td>\n",
       "      <td>C3A-022A@:6:1:12</td>\n",
       "      <td>Gare Saint-Paul</td>\n",
       "      <td>C3A</td>\n",
       "      <td>11 min</td>\n",
       "      <td>2021-07-27 11:58:12</td>\n",
       "      <td>10006</td>\n",
       "      <td>2021-07-27 11:47:12</td>\n",
       "      <td>E</td>\n",
       "      <td>46307</td>\n",
       "      <td>NaN</td>\n",
       "      <td>27_11_47_27</td>\n",
       "    </tr>\n",
       "  </tbody>\n",
       "</table>\n",
       "</div>"
      ],
      "text/plain": [
       "    idtarretdestination    coursetheorique        direction ligne  \\\n",
       "50                30000   C3A-022A@:8:1:11  Gare Saint-Paul   C3A   \n",
       "51                30000   C3A-022A@:5:1:12  Gare Saint-Paul   C3A   \n",
       "52                30000   C3A-022A@:14:1:9  Gare Saint-Paul   C3A   \n",
       "53                30000  C3A-022A@:10:1:11  Gare Saint-Paul   C3A   \n",
       "54                30000   C3A-022A@:6:1:12  Gare Saint-Paul   C3A   \n",
       "\n",
       "   delaipassage         heurepassage    gid      last_update_fme type     id  \\\n",
       "50        1 min  2021-07-27 11:31:12   9985  2021-07-27 11:30:13    E  46307   \n",
       "51       Proche  2021-07-27 11:33:12   9989  2021-07-27 11:32:42    E  46307   \n",
       "52        4 min  2021-07-27 11:40:12  10001  2021-07-27 11:36:42    E  46307   \n",
       "53        5 min  2021-07-27 11:52:12  10005  2021-07-27 11:47:12    E  46307   \n",
       "54       11 min  2021-07-27 11:58:12  10006  2021-07-27 11:47:12    E  46307   \n",
       "\n",
       "    time_download_DDHHMMSS Time_downLoad_DDHHMMSS  \n",
       "50                     NaN            27_11_30_28  \n",
       "51                     NaN            27_11_32_56  \n",
       "52                     NaN            27_11_37_01  \n",
       "53                     NaN            27_11_47_27  \n",
       "54                     NaN            27_11_47_27  "
      ]
     },
     "execution_count": 10,
     "metadata": {},
     "output_type": "execute_result"
    }
   ],
   "source": [
    "# Je supprime les 2 dernières lignes (index = 55 et 56) \n",
    "traffic_mardi.drop(index=[55, 56], inplace=True)\n",
    "traffic_mardi.tail()"
   ]
  },
  {
   "cell_type": "markdown",
   "metadata": {},
   "source": [
    "# Passage - lundi 5h-12h"
   ]
  },
  {
   "cell_type": "code",
   "execution_count": 11,
   "metadata": {},
   "outputs": [
    {
     "name": "stdout",
     "output_type": "stream",
     "text": [
      "6554357\n"
     ]
    },
    {
     "data": {
      "text/html": [
       "<div>\n",
       "<style scoped>\n",
       "    .dataframe tbody tr th:only-of-type {\n",
       "        vertical-align: middle;\n",
       "    }\n",
       "\n",
       "    .dataframe tbody tr th {\n",
       "        vertical-align: top;\n",
       "    }\n",
       "\n",
       "    .dataframe thead th {\n",
       "        text-align: right;\n",
       "    }\n",
       "</style>\n",
       "<table border=\"1\" class=\"dataframe\">\n",
       "  <thead>\n",
       "    <tr style=\"text-align: right;\">\n",
       "      <th></th>\n",
       "      <th>idtarretdestination</th>\n",
       "      <th>coursetheorique</th>\n",
       "      <th>direction</th>\n",
       "      <th>ligne</th>\n",
       "      <th>delaipassage</th>\n",
       "      <th>heurepassage</th>\n",
       "      <th>gid</th>\n",
       "      <th>last_update_fme</th>\n",
       "      <th>type</th>\n",
       "      <th>id</th>\n",
       "      <th>time_download_DDHHMMSS</th>\n",
       "      <th>Time_downLoad_DDHHMMSS</th>\n",
       "    </tr>\n",
       "  </thead>\n",
       "  <tbody>\n",
       "    <tr>\n",
       "      <th>0</th>\n",
       "      <td>35998</td>\n",
       "      <td>87A-032AZ:1:1:3</td>\n",
       "      <td>Mions Bourdelle</td>\n",
       "      <td>87A</td>\n",
       "      <td>41 min</td>\n",
       "      <td>2021-07-26 05:40:00</td>\n",
       "      <td>1</td>\n",
       "      <td>2021-07-26 04:59:32</td>\n",
       "      <td>T</td>\n",
       "      <td>1</td>\n",
       "      <td>NaN</td>\n",
       "      <td>26_04_59_44</td>\n",
       "    </tr>\n",
       "    <tr>\n",
       "      <th>1</th>\n",
       "      <td>35998</td>\n",
       "      <td>87A-032AZ:3:1:2</td>\n",
       "      <td>Mions Bourdelle</td>\n",
       "      <td>87A</td>\n",
       "      <td>51 min</td>\n",
       "      <td>2021-07-26 05:50:00</td>\n",
       "      <td>2</td>\n",
       "      <td>2021-07-26 04:59:32</td>\n",
       "      <td>T</td>\n",
       "      <td>1</td>\n",
       "      <td>NaN</td>\n",
       "      <td>26_04_59_44</td>\n",
       "    </tr>\n",
       "    <tr>\n",
       "      <th>2</th>\n",
       "      <td>47263</td>\n",
       "      <td>ZI1A-067AM:1:1:2</td>\n",
       "      <td>Saint-Priest Gare</td>\n",
       "      <td>ZI1A</td>\n",
       "      <td>46 min</td>\n",
       "      <td>2021-07-26 05:45:00</td>\n",
       "      <td>3</td>\n",
       "      <td>2021-07-26 04:59:32</td>\n",
       "      <td>T</td>\n",
       "      <td>1</td>\n",
       "      <td>NaN</td>\n",
       "      <td>26_04_59_44</td>\n",
       "    </tr>\n",
       "    <tr>\n",
       "      <th>3</th>\n",
       "      <td>47263</td>\n",
       "      <td>ZI1A-067AM:2:1:2</td>\n",
       "      <td>Saint-Priest Gare</td>\n",
       "      <td>ZI1A</td>\n",
       "      <td>06h20</td>\n",
       "      <td>2021-07-26 06:20:00</td>\n",
       "      <td>4</td>\n",
       "      <td>2021-07-26 04:59:32</td>\n",
       "      <td>T</td>\n",
       "      <td>1</td>\n",
       "      <td>NaN</td>\n",
       "      <td>26_04_59_44</td>\n",
       "    </tr>\n",
       "    <tr>\n",
       "      <th>4</th>\n",
       "      <td>11315</td>\n",
       "      <td>87A-032AZ:1:1:2</td>\n",
       "      <td>Gare de VÃ©nissieux</td>\n",
       "      <td>87A</td>\n",
       "      <td>16 min</td>\n",
       "      <td>2021-07-26 05:15:10</td>\n",
       "      <td>5</td>\n",
       "      <td>2021-07-26 04:59:32</td>\n",
       "      <td>T</td>\n",
       "      <td>2</td>\n",
       "      <td>NaN</td>\n",
       "      <td>26_04_59_44</td>\n",
       "    </tr>\n",
       "  </tbody>\n",
       "</table>\n",
       "</div>"
      ],
      "text/plain": [
       "   idtarretdestination   coursetheorique            direction ligne  \\\n",
       "0                35998   87A-032AZ:1:1:3      Mions Bourdelle   87A   \n",
       "1                35998   87A-032AZ:3:1:2      Mions Bourdelle   87A   \n",
       "2                47263  ZI1A-067AM:1:1:2    Saint-Priest Gare  ZI1A   \n",
       "3                47263  ZI1A-067AM:2:1:2    Saint-Priest Gare  ZI1A   \n",
       "4                11315   87A-032AZ:1:1:2  Gare de VÃ©nissieux   87A   \n",
       "\n",
       "  delaipassage         heurepassage  gid      last_update_fme type  id  \\\n",
       "0       41 min  2021-07-26 05:40:00    1  2021-07-26 04:59:32    T   1   \n",
       "1       51 min  2021-07-26 05:50:00    2  2021-07-26 04:59:32    T   1   \n",
       "2       46 min  2021-07-26 05:45:00    3  2021-07-26 04:59:32    T   1   \n",
       "3        06h20  2021-07-26 06:20:00    4  2021-07-26 04:59:32    T   1   \n",
       "4       16 min  2021-07-26 05:15:10    5  2021-07-26 04:59:32    T   2   \n",
       "\n",
       "   time_download_DDHHMMSS Time_downLoad_DDHHMMSS  \n",
       "0                     NaN            26_04_59_44  \n",
       "1                     NaN            26_04_59_44  \n",
       "2                     NaN            26_04_59_44  \n",
       "3                     NaN            26_04_59_44  \n",
       "4                     NaN            26_04_59_44  "
      ]
     },
     "execution_count": 11,
     "metadata": {},
     "output_type": "execute_result"
    }
   ],
   "source": [
    "traffic_lundi = pd.read_csv(\"Lyon_passagearret_EB_2607_512.csv\")\n",
    "print(len(traffic_lundi))\n",
    "traffic_lundi.head()"
   ]
  },
  {
   "cell_type": "code",
   "execution_count": 12,
   "metadata": {},
   "outputs": [
    {
     "name": "stdout",
     "output_type": "stream",
     "text": [
      "26004\n"
     ]
    },
    {
     "data": {
      "text/html": [
       "<div>\n",
       "<style scoped>\n",
       "    .dataframe tbody tr th:only-of-type {\n",
       "        vertical-align: middle;\n",
       "    }\n",
       "\n",
       "    .dataframe tbody tr th {\n",
       "        vertical-align: top;\n",
       "    }\n",
       "\n",
       "    .dataframe thead th {\n",
       "        text-align: right;\n",
       "    }\n",
       "</style>\n",
       "<table border=\"1\" class=\"dataframe\">\n",
       "  <thead>\n",
       "    <tr style=\"text-align: right;\">\n",
       "      <th></th>\n",
       "      <th>idtarretdestination</th>\n",
       "      <th>coursetheorique</th>\n",
       "      <th>direction</th>\n",
       "      <th>ligne</th>\n",
       "      <th>delaipassage</th>\n",
       "      <th>heurepassage</th>\n",
       "      <th>gid</th>\n",
       "      <th>last_update_fme</th>\n",
       "      <th>type</th>\n",
       "      <th>id</th>\n",
       "      <th>time_download_DDHHMMSS</th>\n",
       "      <th>Time_downLoad_DDHHMMSS</th>\n",
       "    </tr>\n",
       "  </thead>\n",
       "  <tbody>\n",
       "    <tr>\n",
       "      <th>812</th>\n",
       "      <td>30000</td>\n",
       "      <td>C3A-022A@:2:1:3</td>\n",
       "      <td>Gare Saint-Paul</td>\n",
       "      <td>C3A</td>\n",
       "      <td>10 min</td>\n",
       "      <td>2021-07-26 05:09:26</td>\n",
       "      <td>813</td>\n",
       "      <td>2021-07-26 04:59:33</td>\n",
       "      <td>E</td>\n",
       "      <td>664</td>\n",
       "      <td>NaN</td>\n",
       "      <td>26_04_59_44</td>\n",
       "    </tr>\n",
       "    <tr>\n",
       "      <th>813</th>\n",
       "      <td>30000</td>\n",
       "      <td>C3A-022A@:4:1:3</td>\n",
       "      <td>Gare Saint-Paul</td>\n",
       "      <td>C3A</td>\n",
       "      <td>25 min</td>\n",
       "      <td>2021-07-26 05:24:26</td>\n",
       "      <td>814</td>\n",
       "      <td>2021-07-26 04:59:33</td>\n",
       "      <td>E</td>\n",
       "      <td>664</td>\n",
       "      <td>NaN</td>\n",
       "      <td>26_04_59_44</td>\n",
       "    </tr>\n",
       "    <tr>\n",
       "      <th>1270</th>\n",
       "      <td>30000</td>\n",
       "      <td>C3A-022A@:2:1:3</td>\n",
       "      <td>Gare Saint-Paul</td>\n",
       "      <td>C3A</td>\n",
       "      <td>7 min</td>\n",
       "      <td>2021-07-26 05:06:53</td>\n",
       "      <td>1271</td>\n",
       "      <td>2021-07-26 04:59:33</td>\n",
       "      <td>E</td>\n",
       "      <td>1071</td>\n",
       "      <td>NaN</td>\n",
       "      <td>26_04_59_44</td>\n",
       "    </tr>\n",
       "    <tr>\n",
       "      <th>1271</th>\n",
       "      <td>30000</td>\n",
       "      <td>C3A-022A@:4:1:3</td>\n",
       "      <td>Gare Saint-Paul</td>\n",
       "      <td>C3A</td>\n",
       "      <td>22 min</td>\n",
       "      <td>2021-07-26 05:21:53</td>\n",
       "      <td>1272</td>\n",
       "      <td>2021-07-26 04:59:33</td>\n",
       "      <td>E</td>\n",
       "      <td>1071</td>\n",
       "      <td>NaN</td>\n",
       "      <td>26_04_59_44</td>\n",
       "    </tr>\n",
       "    <tr>\n",
       "      <th>1389</th>\n",
       "      <td>30000</td>\n",
       "      <td>C3A-022A@:3:1:2</td>\n",
       "      <td>Gare Saint-Paul</td>\n",
       "      <td>C3A</td>\n",
       "      <td>14 min</td>\n",
       "      <td>2021-07-26 05:13:10</td>\n",
       "      <td>1390</td>\n",
       "      <td>2021-07-26 04:59:33</td>\n",
       "      <td>E</td>\n",
       "      <td>1190</td>\n",
       "      <td>NaN</td>\n",
       "      <td>26_04_59_44</td>\n",
       "    </tr>\n",
       "  </tbody>\n",
       "</table>\n",
       "</div>"
      ],
      "text/plain": [
       "      idtarretdestination  coursetheorique        direction ligne  \\\n",
       "812                 30000  C3A-022A@:2:1:3  Gare Saint-Paul   C3A   \n",
       "813                 30000  C3A-022A@:4:1:3  Gare Saint-Paul   C3A   \n",
       "1270                30000  C3A-022A@:2:1:3  Gare Saint-Paul   C3A   \n",
       "1271                30000  C3A-022A@:4:1:3  Gare Saint-Paul   C3A   \n",
       "1389                30000  C3A-022A@:3:1:2  Gare Saint-Paul   C3A   \n",
       "\n",
       "     delaipassage         heurepassage   gid      last_update_fme type    id  \\\n",
       "812        10 min  2021-07-26 05:09:26   813  2021-07-26 04:59:33    E   664   \n",
       "813        25 min  2021-07-26 05:24:26   814  2021-07-26 04:59:33    E   664   \n",
       "1270        7 min  2021-07-26 05:06:53  1271  2021-07-26 04:59:33    E  1071   \n",
       "1271       22 min  2021-07-26 05:21:53  1272  2021-07-26 04:59:33    E  1071   \n",
       "1389       14 min  2021-07-26 05:13:10  1390  2021-07-26 04:59:33    E  1190   \n",
       "\n",
       "      time_download_DDHHMMSS Time_downLoad_DDHHMMSS  \n",
       "812                      NaN            26_04_59_44  \n",
       "813                      NaN            26_04_59_44  \n",
       "1270                     NaN            26_04_59_44  \n",
       "1271                     NaN            26_04_59_44  \n",
       "1389                     NaN            26_04_59_44  "
      ]
     },
     "execution_count": 12,
     "metadata": {},
     "output_type": "execute_result"
    }
   ],
   "source": [
    "# On ne sélectionne que la ligne C3A direction Gare Saint Paul (id 30000)\n",
    "traffic_lundi = traffic_lundi[traffic_lundi['ligne']=='C3A']\n",
    "traffic_lundi = traffic_lundi[traffic_lundi['idtarretdestination']==30000]\n",
    "print(len(traffic_lundi))\n",
    "traffic_lundi.head()"
   ]
  },
  {
   "cell_type": "code",
   "execution_count": 13,
   "metadata": {},
   "outputs": [
    {
     "name": "stdout",
     "output_type": "stream",
     "text": [
      "834\n"
     ]
    },
    {
     "data": {
      "text/html": [
       "<div>\n",
       "<style scoped>\n",
       "    .dataframe tbody tr th:only-of-type {\n",
       "        vertical-align: middle;\n",
       "    }\n",
       "\n",
       "    .dataframe tbody tr th {\n",
       "        vertical-align: top;\n",
       "    }\n",
       "\n",
       "    .dataframe thead th {\n",
       "        text-align: right;\n",
       "    }\n",
       "</style>\n",
       "<table border=\"1\" class=\"dataframe\">\n",
       "  <thead>\n",
       "    <tr style=\"text-align: right;\">\n",
       "      <th></th>\n",
       "      <th>idtarretdestination</th>\n",
       "      <th>coursetheorique</th>\n",
       "      <th>direction</th>\n",
       "      <th>ligne</th>\n",
       "      <th>delaipassage</th>\n",
       "      <th>heurepassage</th>\n",
       "      <th>gid</th>\n",
       "      <th>last_update_fme</th>\n",
       "      <th>type</th>\n",
       "      <th>id</th>\n",
       "      <th>time_download_DDHHMMSS</th>\n",
       "      <th>Time_downLoad_DDHHMMSS</th>\n",
       "    </tr>\n",
       "  </thead>\n",
       "  <tbody>\n",
       "    <tr>\n",
       "      <th>8080</th>\n",
       "      <td>30000</td>\n",
       "      <td>C3A-022A@:3:1:2</td>\n",
       "      <td>Gare Saint-Paul</td>\n",
       "      <td>C3A</td>\n",
       "      <td>15 min</td>\n",
       "      <td>2021-07-26 05:14:48</td>\n",
       "      <td>8081</td>\n",
       "      <td>2021-07-26 04:59:40</td>\n",
       "      <td>E</td>\n",
       "      <td>46307</td>\n",
       "      <td>NaN</td>\n",
       "      <td>26_04_59_44</td>\n",
       "    </tr>\n",
       "    <tr>\n",
       "      <th>8081</th>\n",
       "      <td>30000</td>\n",
       "      <td>C3A-022A@:1:1:2</td>\n",
       "      <td>Gare Saint-Paul</td>\n",
       "      <td>C3A</td>\n",
       "      <td>19 min</td>\n",
       "      <td>2021-07-26 05:18:48</td>\n",
       "      <td>8082</td>\n",
       "      <td>2021-07-26 04:59:40</td>\n",
       "      <td>T</td>\n",
       "      <td>46307</td>\n",
       "      <td>NaN</td>\n",
       "      <td>26_04_59_44</td>\n",
       "    </tr>\n",
       "    <tr>\n",
       "      <th>17380</th>\n",
       "      <td>30000</td>\n",
       "      <td>C3A-022A@:3:1:2</td>\n",
       "      <td>Gare Saint-Paul</td>\n",
       "      <td>C3A</td>\n",
       "      <td>15 min</td>\n",
       "      <td>2021-07-26 05:14:48</td>\n",
       "      <td>8081</td>\n",
       "      <td>2021-07-26 04:59:40</td>\n",
       "      <td>E</td>\n",
       "      <td>46307</td>\n",
       "      <td>NaN</td>\n",
       "      <td>26_04_59_45</td>\n",
       "    </tr>\n",
       "    <tr>\n",
       "      <th>17381</th>\n",
       "      <td>30000</td>\n",
       "      <td>C3A-022A@:1:1:2</td>\n",
       "      <td>Gare Saint-Paul</td>\n",
       "      <td>C3A</td>\n",
       "      <td>19 min</td>\n",
       "      <td>2021-07-26 05:18:48</td>\n",
       "      <td>8082</td>\n",
       "      <td>2021-07-26 04:59:40</td>\n",
       "      <td>T</td>\n",
       "      <td>46307</td>\n",
       "      <td>NaN</td>\n",
       "      <td>26_04_59_45</td>\n",
       "    </tr>\n",
       "    <tr>\n",
       "      <th>26680</th>\n",
       "      <td>30000</td>\n",
       "      <td>C3A-022A@:3:1:2</td>\n",
       "      <td>Gare Saint-Paul</td>\n",
       "      <td>C3A</td>\n",
       "      <td>15 min</td>\n",
       "      <td>2021-07-26 05:14:48</td>\n",
       "      <td>8081</td>\n",
       "      <td>2021-07-26 04:59:40</td>\n",
       "      <td>E</td>\n",
       "      <td>46307</td>\n",
       "      <td>NaN</td>\n",
       "      <td>26_04_59_47</td>\n",
       "    </tr>\n",
       "  </tbody>\n",
       "</table>\n",
       "</div>"
      ],
      "text/plain": [
       "       idtarretdestination  coursetheorique        direction ligne  \\\n",
       "8080                 30000  C3A-022A@:3:1:2  Gare Saint-Paul   C3A   \n",
       "8081                 30000  C3A-022A@:1:1:2  Gare Saint-Paul   C3A   \n",
       "17380                30000  C3A-022A@:3:1:2  Gare Saint-Paul   C3A   \n",
       "17381                30000  C3A-022A@:1:1:2  Gare Saint-Paul   C3A   \n",
       "26680                30000  C3A-022A@:3:1:2  Gare Saint-Paul   C3A   \n",
       "\n",
       "      delaipassage         heurepassage   gid      last_update_fme type  \\\n",
       "8080        15 min  2021-07-26 05:14:48  8081  2021-07-26 04:59:40    E   \n",
       "8081        19 min  2021-07-26 05:18:48  8082  2021-07-26 04:59:40    T   \n",
       "17380       15 min  2021-07-26 05:14:48  8081  2021-07-26 04:59:40    E   \n",
       "17381       19 min  2021-07-26 05:18:48  8082  2021-07-26 04:59:40    T   \n",
       "26680       15 min  2021-07-26 05:14:48  8081  2021-07-26 04:59:40    E   \n",
       "\n",
       "          id  time_download_DDHHMMSS Time_downLoad_DDHHMMSS  \n",
       "8080   46307                     NaN            26_04_59_44  \n",
       "8081   46307                     NaN            26_04_59_44  \n",
       "17380  46307                     NaN            26_04_59_45  \n",
       "17381  46307                     NaN            26_04_59_45  \n",
       "26680  46307                     NaN            26_04_59_47  "
      ]
     },
     "execution_count": 13,
     "metadata": {},
     "output_type": "execute_result"
    }
   ],
   "source": [
    "#Je sélectionne uniquement mon point d'arret Terreaux La Feuillee (id = 46307 // id correspondant à C3A:R)\n",
    "traffic_lundi = traffic_lundi[traffic_lundi['id']==46307]\n",
    "print(len(traffic_lundi))\n",
    "traffic_lundi.head(5)"
   ]
  },
  {
   "cell_type": "code",
   "execution_count": 14,
   "metadata": {},
   "outputs": [
    {
     "name": "stdout",
     "output_type": "stream",
     "text": [
      "56\n"
     ]
    },
    {
     "data": {
      "text/html": [
       "<div>\n",
       "<style scoped>\n",
       "    .dataframe tbody tr th:only-of-type {\n",
       "        vertical-align: middle;\n",
       "    }\n",
       "\n",
       "    .dataframe tbody tr th {\n",
       "        vertical-align: top;\n",
       "    }\n",
       "\n",
       "    .dataframe thead th {\n",
       "        text-align: right;\n",
       "    }\n",
       "</style>\n",
       "<table border=\"1\" class=\"dataframe\">\n",
       "  <thead>\n",
       "    <tr style=\"text-align: right;\">\n",
       "      <th></th>\n",
       "      <th>idtarretdestination</th>\n",
       "      <th>coursetheorique</th>\n",
       "      <th>direction</th>\n",
       "      <th>ligne</th>\n",
       "      <th>delaipassage</th>\n",
       "      <th>heurepassage</th>\n",
       "      <th>gid</th>\n",
       "      <th>last_update_fme</th>\n",
       "      <th>type</th>\n",
       "      <th>id</th>\n",
       "      <th>time_download_DDHHMMSS</th>\n",
       "      <th>Time_downLoad_DDHHMMSS</th>\n",
       "    </tr>\n",
       "  </thead>\n",
       "  <tbody>\n",
       "    <tr>\n",
       "      <th>0</th>\n",
       "      <td>30000</td>\n",
       "      <td>C3A-022A@:3:1:2</td>\n",
       "      <td>Gare Saint-Paul</td>\n",
       "      <td>C3A</td>\n",
       "      <td>Proche</td>\n",
       "      <td>2021-07-26 05:13:48</td>\n",
       "      <td>8808</td>\n",
       "      <td>2021-07-26 05:13:11</td>\n",
       "      <td>E</td>\n",
       "      <td>46307</td>\n",
       "      <td>NaN</td>\n",
       "      <td>26_05_13_29</td>\n",
       "    </tr>\n",
       "    <tr>\n",
       "      <th>1</th>\n",
       "      <td>30000</td>\n",
       "      <td>C3A-022A@:1:1:2</td>\n",
       "      <td>Gare Saint-Paul</td>\n",
       "      <td>C3A</td>\n",
       "      <td>Proche</td>\n",
       "      <td>2021-07-26 05:17:48</td>\n",
       "      <td>9056</td>\n",
       "      <td>2021-07-26 05:18:15</td>\n",
       "      <td>E</td>\n",
       "      <td>46307</td>\n",
       "      <td>NaN</td>\n",
       "      <td>26_05_18_27</td>\n",
       "    </tr>\n",
       "    <tr>\n",
       "      <th>2</th>\n",
       "      <td>30000</td>\n",
       "      <td>C3A-022A@:2:1:3</td>\n",
       "      <td>Gare Saint-Paul</td>\n",
       "      <td>C3A</td>\n",
       "      <td>Proche</td>\n",
       "      <td>2021-07-26 05:38:48</td>\n",
       "      <td>9864</td>\n",
       "      <td>2021-07-26 05:38:12</td>\n",
       "      <td>E</td>\n",
       "      <td>46307</td>\n",
       "      <td>NaN</td>\n",
       "      <td>26_05_38_22</td>\n",
       "    </tr>\n",
       "    <tr>\n",
       "      <th>3</th>\n",
       "      <td>30000</td>\n",
       "      <td>C3A-022A@:4:1:3</td>\n",
       "      <td>Gare Saint-Paul</td>\n",
       "      <td>C3A</td>\n",
       "      <td>1 min</td>\n",
       "      <td>2021-07-26 05:52:48</td>\n",
       "      <td>10260</td>\n",
       "      <td>2021-07-26 05:51:42</td>\n",
       "      <td>E</td>\n",
       "      <td>46307</td>\n",
       "      <td>NaN</td>\n",
       "      <td>26_05_51_49</td>\n",
       "    </tr>\n",
       "    <tr>\n",
       "      <th>4</th>\n",
       "      <td>30000</td>\n",
       "      <td>C3A-022A@:8:1:2</td>\n",
       "      <td>Gare Saint-Paul</td>\n",
       "      <td>C3A</td>\n",
       "      <td>2 min</td>\n",
       "      <td>2021-07-26 06:01:48</td>\n",
       "      <td>10402</td>\n",
       "      <td>2021-07-26 05:59:42</td>\n",
       "      <td>E</td>\n",
       "      <td>46307</td>\n",
       "      <td>NaN</td>\n",
       "      <td>26_05_59_47</td>\n",
       "    </tr>\n",
       "  </tbody>\n",
       "</table>\n",
       "</div>"
      ],
      "text/plain": [
       "   idtarretdestination  coursetheorique        direction ligne delaipassage  \\\n",
       "0                30000  C3A-022A@:3:1:2  Gare Saint-Paul   C3A       Proche   \n",
       "1                30000  C3A-022A@:1:1:2  Gare Saint-Paul   C3A       Proche   \n",
       "2                30000  C3A-022A@:2:1:3  Gare Saint-Paul   C3A       Proche   \n",
       "3                30000  C3A-022A@:4:1:3  Gare Saint-Paul   C3A        1 min   \n",
       "4                30000  C3A-022A@:8:1:2  Gare Saint-Paul   C3A        2 min   \n",
       "\n",
       "          heurepassage    gid      last_update_fme type     id  \\\n",
       "0  2021-07-26 05:13:48   8808  2021-07-26 05:13:11    E  46307   \n",
       "1  2021-07-26 05:17:48   9056  2021-07-26 05:18:15    E  46307   \n",
       "2  2021-07-26 05:38:48   9864  2021-07-26 05:38:12    E  46307   \n",
       "3  2021-07-26 05:52:48  10260  2021-07-26 05:51:42    E  46307   \n",
       "4  2021-07-26 06:01:48  10402  2021-07-26 05:59:42    E  46307   \n",
       "\n",
       "   time_download_DDHHMMSS Time_downLoad_DDHHMMSS  \n",
       "0                     NaN            26_05_13_29  \n",
       "1                     NaN            26_05_18_27  \n",
       "2                     NaN            26_05_38_22  \n",
       "3                     NaN            26_05_51_49  \n",
       "4                     NaN            26_05_59_47  "
      ]
     },
     "execution_count": 14,
     "metadata": {},
     "output_type": "execute_result"
    }
   ],
   "source": [
    "# On supprime les doublons en se basant sur la donnée course théorique puis on réinitialise l'index\n",
    "traffic_lundi = traffic_lundi.drop_duplicates(subset=['ligne', 'coursetheorique'], keep='last')\n",
    "traffic_lundi = traffic_lundi.reset_index()\n",
    "traffic_lundi = traffic_lundi.drop(columns = 'index')\n",
    "print(len(traffic_lundi))\n",
    "traffic_lundi.head()"
   ]
  },
  {
   "cell_type": "code",
   "execution_count": 15,
   "metadata": {},
   "outputs": [
    {
     "data": {
      "text/html": [
       "<div>\n",
       "<style scoped>\n",
       "    .dataframe tbody tr th:only-of-type {\n",
       "        vertical-align: middle;\n",
       "    }\n",
       "\n",
       "    .dataframe tbody tr th {\n",
       "        vertical-align: top;\n",
       "    }\n",
       "\n",
       "    .dataframe thead th {\n",
       "        text-align: right;\n",
       "    }\n",
       "</style>\n",
       "<table border=\"1\" class=\"dataframe\">\n",
       "  <thead>\n",
       "    <tr style=\"text-align: right;\">\n",
       "      <th></th>\n",
       "      <th>idtarretdestination</th>\n",
       "      <th>coursetheorique</th>\n",
       "      <th>direction</th>\n",
       "      <th>ligne</th>\n",
       "      <th>delaipassage</th>\n",
       "      <th>heurepassage</th>\n",
       "      <th>gid</th>\n",
       "      <th>last_update_fme</th>\n",
       "      <th>type</th>\n",
       "      <th>id</th>\n",
       "      <th>time_download_DDHHMMSS</th>\n",
       "      <th>Time_downLoad_DDHHMMSS</th>\n",
       "    </tr>\n",
       "  </thead>\n",
       "  <tbody>\n",
       "    <tr>\n",
       "      <th>51</th>\n",
       "      <td>30000</td>\n",
       "      <td>C3A-022A@:5:1:12</td>\n",
       "      <td>Gare Saint-Paul</td>\n",
       "      <td>C3A</td>\n",
       "      <td>1 min</td>\n",
       "      <td>2021-07-26 11:34:12</td>\n",
       "      <td>9984</td>\n",
       "      <td>2021-07-26 11:32:42</td>\n",
       "      <td>E</td>\n",
       "      <td>46307</td>\n",
       "      <td>NaN</td>\n",
       "      <td>26_11_32_48</td>\n",
       "    </tr>\n",
       "    <tr>\n",
       "      <th>52</th>\n",
       "      <td>30000</td>\n",
       "      <td>C3A-022A@:14:1:9</td>\n",
       "      <td>Gare Saint-Paul</td>\n",
       "      <td>C3A</td>\n",
       "      <td>2 min</td>\n",
       "      <td>2021-07-26 11:40:12</td>\n",
       "      <td>9989</td>\n",
       "      <td>2021-07-26 11:38:42</td>\n",
       "      <td>E</td>\n",
       "      <td>46307</td>\n",
       "      <td>NaN</td>\n",
       "      <td>26_11_38_52</td>\n",
       "    </tr>\n",
       "    <tr>\n",
       "      <th>53</th>\n",
       "      <td>30000</td>\n",
       "      <td>C3A-022A@:10:1:11</td>\n",
       "      <td>Gare Saint-Paul</td>\n",
       "      <td>C3A</td>\n",
       "      <td>3 min</td>\n",
       "      <td>2021-07-26 11:55:12</td>\n",
       "      <td>9998</td>\n",
       "      <td>2021-07-26 11:52:13</td>\n",
       "      <td>E</td>\n",
       "      <td>46307</td>\n",
       "      <td>NaN</td>\n",
       "      <td>26_11_52_27</td>\n",
       "    </tr>\n",
       "    <tr>\n",
       "      <th>54</th>\n",
       "      <td>30000</td>\n",
       "      <td>C3A-022A@:6:1:12</td>\n",
       "      <td>Gare Saint-Paul</td>\n",
       "      <td>C3A</td>\n",
       "      <td>Proche</td>\n",
       "      <td>2021-07-26 11:55:12</td>\n",
       "      <td>10013</td>\n",
       "      <td>2021-07-26 11:55:42</td>\n",
       "      <td>E</td>\n",
       "      <td>46307</td>\n",
       "      <td>NaN</td>\n",
       "      <td>26_11_55_55</td>\n",
       "    </tr>\n",
       "    <tr>\n",
       "      <th>55</th>\n",
       "      <td>30000</td>\n",
       "      <td>C3A-022A@:7:1:12</td>\n",
       "      <td>Gare Saint-Paul</td>\n",
       "      <td>C3A</td>\n",
       "      <td>7 min</td>\n",
       "      <td>2021-07-26 12:02:12</td>\n",
       "      <td>10014</td>\n",
       "      <td>2021-07-26 11:55:42</td>\n",
       "      <td>T</td>\n",
       "      <td>46307</td>\n",
       "      <td>NaN</td>\n",
       "      <td>26_11_55_55</td>\n",
       "    </tr>\n",
       "  </tbody>\n",
       "</table>\n",
       "</div>"
      ],
      "text/plain": [
       "    idtarretdestination    coursetheorique        direction ligne  \\\n",
       "51                30000   C3A-022A@:5:1:12  Gare Saint-Paul   C3A   \n",
       "52                30000   C3A-022A@:14:1:9  Gare Saint-Paul   C3A   \n",
       "53                30000  C3A-022A@:10:1:11  Gare Saint-Paul   C3A   \n",
       "54                30000   C3A-022A@:6:1:12  Gare Saint-Paul   C3A   \n",
       "55                30000   C3A-022A@:7:1:12  Gare Saint-Paul   C3A   \n",
       "\n",
       "   delaipassage         heurepassage    gid      last_update_fme type     id  \\\n",
       "51        1 min  2021-07-26 11:34:12   9984  2021-07-26 11:32:42    E  46307   \n",
       "52        2 min  2021-07-26 11:40:12   9989  2021-07-26 11:38:42    E  46307   \n",
       "53        3 min  2021-07-26 11:55:12   9998  2021-07-26 11:52:13    E  46307   \n",
       "54       Proche  2021-07-26 11:55:12  10013  2021-07-26 11:55:42    E  46307   \n",
       "55        7 min  2021-07-26 12:02:12  10014  2021-07-26 11:55:42    T  46307   \n",
       "\n",
       "    time_download_DDHHMMSS Time_downLoad_DDHHMMSS  \n",
       "51                     NaN            26_11_32_48  \n",
       "52                     NaN            26_11_38_52  \n",
       "53                     NaN            26_11_52_27  \n",
       "54                     NaN            26_11_55_55  \n",
       "55                     NaN            26_11_55_55  "
      ]
     },
     "execution_count": 15,
     "metadata": {},
     "output_type": "execute_result"
    }
   ],
   "source": [
    "traffic_lundi.tail()"
   ]
  },
  {
   "cell_type": "code",
   "execution_count": 16,
   "metadata": {},
   "outputs": [
    {
     "data": {
      "text/html": [
       "<div>\n",
       "<style scoped>\n",
       "    .dataframe tbody tr th:only-of-type {\n",
       "        vertical-align: middle;\n",
       "    }\n",
       "\n",
       "    .dataframe tbody tr th {\n",
       "        vertical-align: top;\n",
       "    }\n",
       "\n",
       "    .dataframe thead th {\n",
       "        text-align: right;\n",
       "    }\n",
       "</style>\n",
       "<table border=\"1\" class=\"dataframe\">\n",
       "  <thead>\n",
       "    <tr style=\"text-align: right;\">\n",
       "      <th></th>\n",
       "      <th>idtarretdestination</th>\n",
       "      <th>coursetheorique</th>\n",
       "      <th>direction</th>\n",
       "      <th>ligne</th>\n",
       "      <th>delaipassage</th>\n",
       "      <th>heurepassage</th>\n",
       "      <th>gid</th>\n",
       "      <th>last_update_fme</th>\n",
       "      <th>type</th>\n",
       "      <th>id</th>\n",
       "      <th>time_download_DDHHMMSS</th>\n",
       "      <th>Time_downLoad_DDHHMMSS</th>\n",
       "    </tr>\n",
       "  </thead>\n",
       "  <tbody>\n",
       "    <tr>\n",
       "      <th>50</th>\n",
       "      <td>30000</td>\n",
       "      <td>C3A-022A@:8:1:11</td>\n",
       "      <td>Gare Saint-Paul</td>\n",
       "      <td>C3A</td>\n",
       "      <td>Proche</td>\n",
       "      <td>2021-07-26 11:26:12</td>\n",
       "      <td>9998</td>\n",
       "      <td>2021-07-26 11:25:42</td>\n",
       "      <td>E</td>\n",
       "      <td>46307</td>\n",
       "      <td>NaN</td>\n",
       "      <td>26_11_25_50</td>\n",
       "    </tr>\n",
       "    <tr>\n",
       "      <th>51</th>\n",
       "      <td>30000</td>\n",
       "      <td>C3A-022A@:5:1:12</td>\n",
       "      <td>Gare Saint-Paul</td>\n",
       "      <td>C3A</td>\n",
       "      <td>1 min</td>\n",
       "      <td>2021-07-26 11:34:12</td>\n",
       "      <td>9984</td>\n",
       "      <td>2021-07-26 11:32:42</td>\n",
       "      <td>E</td>\n",
       "      <td>46307</td>\n",
       "      <td>NaN</td>\n",
       "      <td>26_11_32_48</td>\n",
       "    </tr>\n",
       "    <tr>\n",
       "      <th>52</th>\n",
       "      <td>30000</td>\n",
       "      <td>C3A-022A@:14:1:9</td>\n",
       "      <td>Gare Saint-Paul</td>\n",
       "      <td>C3A</td>\n",
       "      <td>2 min</td>\n",
       "      <td>2021-07-26 11:40:12</td>\n",
       "      <td>9989</td>\n",
       "      <td>2021-07-26 11:38:42</td>\n",
       "      <td>E</td>\n",
       "      <td>46307</td>\n",
       "      <td>NaN</td>\n",
       "      <td>26_11_38_52</td>\n",
       "    </tr>\n",
       "    <tr>\n",
       "      <th>53</th>\n",
       "      <td>30000</td>\n",
       "      <td>C3A-022A@:10:1:11</td>\n",
       "      <td>Gare Saint-Paul</td>\n",
       "      <td>C3A</td>\n",
       "      <td>3 min</td>\n",
       "      <td>2021-07-26 11:55:12</td>\n",
       "      <td>9998</td>\n",
       "      <td>2021-07-26 11:52:13</td>\n",
       "      <td>E</td>\n",
       "      <td>46307</td>\n",
       "      <td>NaN</td>\n",
       "      <td>26_11_52_27</td>\n",
       "    </tr>\n",
       "    <tr>\n",
       "      <th>54</th>\n",
       "      <td>30000</td>\n",
       "      <td>C3A-022A@:6:1:12</td>\n",
       "      <td>Gare Saint-Paul</td>\n",
       "      <td>C3A</td>\n",
       "      <td>Proche</td>\n",
       "      <td>2021-07-26 11:55:12</td>\n",
       "      <td>10013</td>\n",
       "      <td>2021-07-26 11:55:42</td>\n",
       "      <td>E</td>\n",
       "      <td>46307</td>\n",
       "      <td>NaN</td>\n",
       "      <td>26_11_55_55</td>\n",
       "    </tr>\n",
       "  </tbody>\n",
       "</table>\n",
       "</div>"
      ],
      "text/plain": [
       "    idtarretdestination    coursetheorique        direction ligne  \\\n",
       "50                30000   C3A-022A@:8:1:11  Gare Saint-Paul   C3A   \n",
       "51                30000   C3A-022A@:5:1:12  Gare Saint-Paul   C3A   \n",
       "52                30000   C3A-022A@:14:1:9  Gare Saint-Paul   C3A   \n",
       "53                30000  C3A-022A@:10:1:11  Gare Saint-Paul   C3A   \n",
       "54                30000   C3A-022A@:6:1:12  Gare Saint-Paul   C3A   \n",
       "\n",
       "   delaipassage         heurepassage    gid      last_update_fme type     id  \\\n",
       "50       Proche  2021-07-26 11:26:12   9998  2021-07-26 11:25:42    E  46307   \n",
       "51        1 min  2021-07-26 11:34:12   9984  2021-07-26 11:32:42    E  46307   \n",
       "52        2 min  2021-07-26 11:40:12   9989  2021-07-26 11:38:42    E  46307   \n",
       "53        3 min  2021-07-26 11:55:12   9998  2021-07-26 11:52:13    E  46307   \n",
       "54       Proche  2021-07-26 11:55:12  10013  2021-07-26 11:55:42    E  46307   \n",
       "\n",
       "    time_download_DDHHMMSS Time_downLoad_DDHHMMSS  \n",
       "50                     NaN            26_11_25_50  \n",
       "51                     NaN            26_11_32_48  \n",
       "52                     NaN            26_11_38_52  \n",
       "53                     NaN            26_11_52_27  \n",
       "54                     NaN            26_11_55_55  "
      ]
     },
     "execution_count": 16,
     "metadata": {},
     "output_type": "execute_result"
    }
   ],
   "source": [
    "# Je supprime la dernière ligne\n",
    "traffic_lundi.drop(index=[55], inplace=True)\n",
    "traffic_lundi.tail()"
   ]
  },
  {
   "cell_type": "markdown",
   "metadata": {},
   "source": [
    "# Passage - dimanche 5h-12h"
   ]
  },
  {
   "cell_type": "code",
   "execution_count": 17,
   "metadata": {},
   "outputs": [
    {
     "name": "stdout",
     "output_type": "stream",
     "text": [
      "4694126\n"
     ]
    },
    {
     "data": {
      "text/html": [
       "<div>\n",
       "<style scoped>\n",
       "    .dataframe tbody tr th:only-of-type {\n",
       "        vertical-align: middle;\n",
       "    }\n",
       "\n",
       "    .dataframe tbody tr th {\n",
       "        vertical-align: top;\n",
       "    }\n",
       "\n",
       "    .dataframe thead th {\n",
       "        text-align: right;\n",
       "    }\n",
       "</style>\n",
       "<table border=\"1\" class=\"dataframe\">\n",
       "  <thead>\n",
       "    <tr style=\"text-align: right;\">\n",
       "      <th></th>\n",
       "      <th>idtarretdestination</th>\n",
       "      <th>coursetheorique</th>\n",
       "      <th>direction</th>\n",
       "      <th>ligne</th>\n",
       "      <th>delaipassage</th>\n",
       "      <th>heurepassage</th>\n",
       "      <th>gid</th>\n",
       "      <th>last_update_fme</th>\n",
       "      <th>type</th>\n",
       "      <th>id</th>\n",
       "      <th>time_download_DDHHMMSS</th>\n",
       "      <th>Time_downLoad_DDHHMMSS</th>\n",
       "    </tr>\n",
       "  </thead>\n",
       "  <tbody>\n",
       "    <tr>\n",
       "      <th>0</th>\n",
       "      <td>47029</td>\n",
       "      <td>C20B-1027M:1:1:3</td>\n",
       "      <td>Fort du Bruissin</td>\n",
       "      <td>C20D</td>\n",
       "      <td>06h14</td>\n",
       "      <td>2021-07-25 06:14:33</td>\n",
       "      <td>1</td>\n",
       "      <td>2021-07-25 04:58:32</td>\n",
       "      <td>T</td>\n",
       "      <td>3</td>\n",
       "      <td>NaN</td>\n",
       "      <td>25_04_59_47</td>\n",
       "    </tr>\n",
       "    <tr>\n",
       "      <th>1</th>\n",
       "      <td>33288</td>\n",
       "      <td>90B-0167M:1:1:2</td>\n",
       "      <td>Sainte Foy ChÃ¢telain</td>\n",
       "      <td>90B</td>\n",
       "      <td>06h24</td>\n",
       "      <td>2021-07-25 06:24:00</td>\n",
       "      <td>2</td>\n",
       "      <td>2021-07-25 04:58:32</td>\n",
       "      <td>T</td>\n",
       "      <td>5</td>\n",
       "      <td>NaN</td>\n",
       "      <td>25_04_59_47</td>\n",
       "    </tr>\n",
       "    <tr>\n",
       "      <th>2</th>\n",
       "      <td>42575</td>\n",
       "      <td>33A-0307T:1:1:2</td>\n",
       "      <td>Rillieux - Les Alagniers</td>\n",
       "      <td>33A</td>\n",
       "      <td>06h06</td>\n",
       "      <td>2021-07-25 06:06:18</td>\n",
       "      <td>3</td>\n",
       "      <td>2021-07-25 04:58:32</td>\n",
       "      <td>T</td>\n",
       "      <td>9</td>\n",
       "      <td>NaN</td>\n",
       "      <td>25_04_59_47</td>\n",
       "    </tr>\n",
       "    <tr>\n",
       "      <th>3</th>\n",
       "      <td>45913</td>\n",
       "      <td>C24C-1007M:1:1:2</td>\n",
       "      <td>Gymnase Catalon</td>\n",
       "      <td>C24D</td>\n",
       "      <td>06h22</td>\n",
       "      <td>2021-07-25 06:22:13</td>\n",
       "      <td>4</td>\n",
       "      <td>2021-07-25 04:58:32</td>\n",
       "      <td>T</td>\n",
       "      <td>30</td>\n",
       "      <td>NaN</td>\n",
       "      <td>25_04_59_47</td>\n",
       "    </tr>\n",
       "    <tr>\n",
       "      <th>4</th>\n",
       "      <td>38374</td>\n",
       "      <td>43A-0377R:1:1:2</td>\n",
       "      <td>Genay Proulieu</td>\n",
       "      <td>43A</td>\n",
       "      <td>05h58</td>\n",
       "      <td>2021-07-25 05:58:37</td>\n",
       "      <td>5</td>\n",
       "      <td>2021-07-25 04:58:32</td>\n",
       "      <td>T</td>\n",
       "      <td>33</td>\n",
       "      <td>NaN</td>\n",
       "      <td>25_04_59_47</td>\n",
       "    </tr>\n",
       "  </tbody>\n",
       "</table>\n",
       "</div>"
      ],
      "text/plain": [
       "   idtarretdestination   coursetheorique                 direction ligne  \\\n",
       "0                47029  C20B-1027M:1:1:3          Fort du Bruissin  C20D   \n",
       "1                33288   90B-0167M:1:1:2     Sainte Foy ChÃ¢telain   90B   \n",
       "2                42575   33A-0307T:1:1:2  Rillieux - Les Alagniers   33A   \n",
       "3                45913  C24C-1007M:1:1:2           Gymnase Catalon  C24D   \n",
       "4                38374   43A-0377R:1:1:2            Genay Proulieu   43A   \n",
       "\n",
       "  delaipassage         heurepassage  gid      last_update_fme type  id  \\\n",
       "0        06h14  2021-07-25 06:14:33    1  2021-07-25 04:58:32    T   3   \n",
       "1        06h24  2021-07-25 06:24:00    2  2021-07-25 04:58:32    T   5   \n",
       "2        06h06  2021-07-25 06:06:18    3  2021-07-25 04:58:32    T   9   \n",
       "3        06h22  2021-07-25 06:22:13    4  2021-07-25 04:58:32    T  30   \n",
       "4        05h58  2021-07-25 05:58:37    5  2021-07-25 04:58:32    T  33   \n",
       "\n",
       "   time_download_DDHHMMSS Time_downLoad_DDHHMMSS  \n",
       "0                     NaN            25_04_59_47  \n",
       "1                     NaN            25_04_59_47  \n",
       "2                     NaN            25_04_59_47  \n",
       "3                     NaN            25_04_59_47  \n",
       "4                     NaN            25_04_59_47  "
      ]
     },
     "execution_count": 17,
     "metadata": {},
     "output_type": "execute_result"
    }
   ],
   "source": [
    "traffic_dim = pd.read_csv(\"Lyon_passagearret_EB_2507_512.csv\")\n",
    "print(len(traffic_dim))\n",
    "traffic_dim.head()"
   ]
  },
  {
   "cell_type": "code",
   "execution_count": 18,
   "metadata": {},
   "outputs": [
    {
     "name": "stdout",
     "output_type": "stream",
     "text": [
      "26771\n"
     ]
    },
    {
     "data": {
      "text/html": [
       "<div>\n",
       "<style scoped>\n",
       "    .dataframe tbody tr th:only-of-type {\n",
       "        vertical-align: middle;\n",
       "    }\n",
       "\n",
       "    .dataframe tbody tr th {\n",
       "        vertical-align: top;\n",
       "    }\n",
       "\n",
       "    .dataframe thead th {\n",
       "        text-align: right;\n",
       "    }\n",
       "</style>\n",
       "<table border=\"1\" class=\"dataframe\">\n",
       "  <thead>\n",
       "    <tr style=\"text-align: right;\">\n",
       "      <th></th>\n",
       "      <th>idtarretdestination</th>\n",
       "      <th>coursetheorique</th>\n",
       "      <th>direction</th>\n",
       "      <th>ligne</th>\n",
       "      <th>delaipassage</th>\n",
       "      <th>heurepassage</th>\n",
       "      <th>gid</th>\n",
       "      <th>last_update_fme</th>\n",
       "      <th>type</th>\n",
       "      <th>id</th>\n",
       "      <th>time_download_DDHHMMSS</th>\n",
       "      <th>Time_downLoad_DDHHMMSS</th>\n",
       "    </tr>\n",
       "  </thead>\n",
       "  <tbody>\n",
       "    <tr>\n",
       "      <th>150</th>\n",
       "      <td>30000</td>\n",
       "      <td>C3A-0617@:1:1:2</td>\n",
       "      <td>Gare Saint-Paul</td>\n",
       "      <td>C3A</td>\n",
       "      <td>06h18</td>\n",
       "      <td>2021-07-25 06:18:28</td>\n",
       "      <td>151</td>\n",
       "      <td>2021-07-25 04:58:32</td>\n",
       "      <td>T</td>\n",
       "      <td>1190</td>\n",
       "      <td>NaN</td>\n",
       "      <td>25_04_59_47</td>\n",
       "    </tr>\n",
       "    <tr>\n",
       "      <th>195</th>\n",
       "      <td>30000</td>\n",
       "      <td>C3A-0617@:1:1:2</td>\n",
       "      <td>Gare Saint-Paul</td>\n",
       "      <td>C3A</td>\n",
       "      <td>59 min</td>\n",
       "      <td>2021-07-25 05:58:00</td>\n",
       "      <td>196</td>\n",
       "      <td>2021-07-25 04:58:32</td>\n",
       "      <td>T</td>\n",
       "      <td>1508</td>\n",
       "      <td>NaN</td>\n",
       "      <td>25_04_59_47</td>\n",
       "    </tr>\n",
       "    <tr>\n",
       "      <th>196</th>\n",
       "      <td>30000</td>\n",
       "      <td>C3A-0617@:2:1:2</td>\n",
       "      <td>Gare Saint-Paul</td>\n",
       "      <td>C3A</td>\n",
       "      <td>06h10</td>\n",
       "      <td>2021-07-25 06:10:00</td>\n",
       "      <td>197</td>\n",
       "      <td>2021-07-25 04:58:32</td>\n",
       "      <td>T</td>\n",
       "      <td>1508</td>\n",
       "      <td>NaN</td>\n",
       "      <td>25_04_59_47</td>\n",
       "    </tr>\n",
       "    <tr>\n",
       "      <th>417</th>\n",
       "      <td>30000</td>\n",
       "      <td>C3A-0617@:1:1:2</td>\n",
       "      <td>Gare Saint-Paul</td>\n",
       "      <td>C3A</td>\n",
       "      <td>06h10</td>\n",
       "      <td>2021-07-25 06:10:00</td>\n",
       "      <td>418</td>\n",
       "      <td>2021-07-25 04:58:32</td>\n",
       "      <td>T</td>\n",
       "      <td>2982</td>\n",
       "      <td>NaN</td>\n",
       "      <td>25_04_59_47</td>\n",
       "    </tr>\n",
       "    <tr>\n",
       "      <th>418</th>\n",
       "      <td>30000</td>\n",
       "      <td>C3A-0617@:2:1:2</td>\n",
       "      <td>Gare Saint-Paul</td>\n",
       "      <td>C3A</td>\n",
       "      <td>06h22</td>\n",
       "      <td>2021-07-25 06:22:15</td>\n",
       "      <td>419</td>\n",
       "      <td>2021-07-25 04:58:32</td>\n",
       "      <td>T</td>\n",
       "      <td>2982</td>\n",
       "      <td>NaN</td>\n",
       "      <td>25_04_59_47</td>\n",
       "    </tr>\n",
       "  </tbody>\n",
       "</table>\n",
       "</div>"
      ],
      "text/plain": [
       "     idtarretdestination  coursetheorique        direction ligne delaipassage  \\\n",
       "150                30000  C3A-0617@:1:1:2  Gare Saint-Paul   C3A        06h18   \n",
       "195                30000  C3A-0617@:1:1:2  Gare Saint-Paul   C3A       59 min   \n",
       "196                30000  C3A-0617@:2:1:2  Gare Saint-Paul   C3A        06h10   \n",
       "417                30000  C3A-0617@:1:1:2  Gare Saint-Paul   C3A        06h10   \n",
       "418                30000  C3A-0617@:2:1:2  Gare Saint-Paul   C3A        06h22   \n",
       "\n",
       "            heurepassage  gid      last_update_fme type    id  \\\n",
       "150  2021-07-25 06:18:28  151  2021-07-25 04:58:32    T  1190   \n",
       "195  2021-07-25 05:58:00  196  2021-07-25 04:58:32    T  1508   \n",
       "196  2021-07-25 06:10:00  197  2021-07-25 04:58:32    T  1508   \n",
       "417  2021-07-25 06:10:00  418  2021-07-25 04:58:32    T  2982   \n",
       "418  2021-07-25 06:22:15  419  2021-07-25 04:58:32    T  2982   \n",
       "\n",
       "     time_download_DDHHMMSS Time_downLoad_DDHHMMSS  \n",
       "150                     NaN            25_04_59_47  \n",
       "195                     NaN            25_04_59_47  \n",
       "196                     NaN            25_04_59_47  \n",
       "417                     NaN            25_04_59_47  \n",
       "418                     NaN            25_04_59_47  "
      ]
     },
     "execution_count": 18,
     "metadata": {},
     "output_type": "execute_result"
    }
   ],
   "source": [
    "# On ne sélectionne que la ligne C3A direction Gare Saint Paul (id 30000)\n",
    "traffic_dim = traffic_dim[traffic_dim['ligne']=='C3A']\n",
    "traffic_dim = traffic_dim[traffic_dim['idtarretdestination']==30000]\n",
    "print(len(traffic_dim))\n",
    "traffic_dim.head()"
   ]
  },
  {
   "cell_type": "code",
   "execution_count": 19,
   "metadata": {},
   "outputs": [
    {
     "name": "stdout",
     "output_type": "stream",
     "text": [
      "1488\n"
     ]
    },
    {
     "data": {
      "text/html": [
       "<div>\n",
       "<style scoped>\n",
       "    .dataframe tbody tr th:only-of-type {\n",
       "        vertical-align: middle;\n",
       "    }\n",
       "\n",
       "    .dataframe tbody tr th {\n",
       "        vertical-align: top;\n",
       "    }\n",
       "\n",
       "    .dataframe thead th {\n",
       "        text-align: right;\n",
       "    }\n",
       "</style>\n",
       "<table border=\"1\" class=\"dataframe\">\n",
       "  <thead>\n",
       "    <tr style=\"text-align: right;\">\n",
       "      <th></th>\n",
       "      <th>idtarretdestination</th>\n",
       "      <th>coursetheorique</th>\n",
       "      <th>direction</th>\n",
       "      <th>ligne</th>\n",
       "      <th>delaipassage</th>\n",
       "      <th>heurepassage</th>\n",
       "      <th>gid</th>\n",
       "      <th>last_update_fme</th>\n",
       "      <th>type</th>\n",
       "      <th>id</th>\n",
       "      <th>time_download_DDHHMMSS</th>\n",
       "      <th>Time_downLoad_DDHHMMSS</th>\n",
       "    </tr>\n",
       "  </thead>\n",
       "  <tbody>\n",
       "    <tr>\n",
       "      <th>1430</th>\n",
       "      <td>30000</td>\n",
       "      <td>C3A-0617@:1:1:2</td>\n",
       "      <td>Gare Saint-Paul</td>\n",
       "      <td>C3A</td>\n",
       "      <td>06h20</td>\n",
       "      <td>2021-07-25 06:20:30</td>\n",
       "      <td>1431</td>\n",
       "      <td>2021-07-25 04:58:33</td>\n",
       "      <td>T</td>\n",
       "      <td>46307</td>\n",
       "      <td>NaN</td>\n",
       "      <td>25_04_59_47</td>\n",
       "    </tr>\n",
       "    <tr>\n",
       "      <th>3052</th>\n",
       "      <td>30000</td>\n",
       "      <td>C3A-0617@:1:1:2</td>\n",
       "      <td>Gare Saint-Paul</td>\n",
       "      <td>C3A</td>\n",
       "      <td>06h20</td>\n",
       "      <td>2021-07-25 06:20:30</td>\n",
       "      <td>1431</td>\n",
       "      <td>2021-07-25 04:58:33</td>\n",
       "      <td>T</td>\n",
       "      <td>46307</td>\n",
       "      <td>NaN</td>\n",
       "      <td>25_04_59_48</td>\n",
       "    </tr>\n",
       "    <tr>\n",
       "      <th>4674</th>\n",
       "      <td>30000</td>\n",
       "      <td>C3A-0617@:1:1:2</td>\n",
       "      <td>Gare Saint-Paul</td>\n",
       "      <td>C3A</td>\n",
       "      <td>06h20</td>\n",
       "      <td>2021-07-25 06:20:30</td>\n",
       "      <td>1431</td>\n",
       "      <td>2021-07-25 04:58:33</td>\n",
       "      <td>T</td>\n",
       "      <td>46307</td>\n",
       "      <td>NaN</td>\n",
       "      <td>25_04_59_49</td>\n",
       "    </tr>\n",
       "    <tr>\n",
       "      <th>6296</th>\n",
       "      <td>30000</td>\n",
       "      <td>C3A-0617@:1:1:2</td>\n",
       "      <td>Gare Saint-Paul</td>\n",
       "      <td>C3A</td>\n",
       "      <td>06h20</td>\n",
       "      <td>2021-07-25 06:20:30</td>\n",
       "      <td>1431</td>\n",
       "      <td>2021-07-25 04:58:33</td>\n",
       "      <td>T</td>\n",
       "      <td>46307</td>\n",
       "      <td>NaN</td>\n",
       "      <td>25_04_59_50</td>\n",
       "    </tr>\n",
       "    <tr>\n",
       "      <th>7918</th>\n",
       "      <td>30000</td>\n",
       "      <td>C3A-0617@:1:1:2</td>\n",
       "      <td>Gare Saint-Paul</td>\n",
       "      <td>C3A</td>\n",
       "      <td>06h20</td>\n",
       "      <td>2021-07-25 06:20:30</td>\n",
       "      <td>1431</td>\n",
       "      <td>2021-07-25 04:58:33</td>\n",
       "      <td>T</td>\n",
       "      <td>46307</td>\n",
       "      <td>NaN</td>\n",
       "      <td>25_04_59_51</td>\n",
       "    </tr>\n",
       "  </tbody>\n",
       "</table>\n",
       "</div>"
      ],
      "text/plain": [
       "      idtarretdestination  coursetheorique        direction ligne  \\\n",
       "1430                30000  C3A-0617@:1:1:2  Gare Saint-Paul   C3A   \n",
       "3052                30000  C3A-0617@:1:1:2  Gare Saint-Paul   C3A   \n",
       "4674                30000  C3A-0617@:1:1:2  Gare Saint-Paul   C3A   \n",
       "6296                30000  C3A-0617@:1:1:2  Gare Saint-Paul   C3A   \n",
       "7918                30000  C3A-0617@:1:1:2  Gare Saint-Paul   C3A   \n",
       "\n",
       "     delaipassage         heurepassage   gid      last_update_fme type     id  \\\n",
       "1430        06h20  2021-07-25 06:20:30  1431  2021-07-25 04:58:33    T  46307   \n",
       "3052        06h20  2021-07-25 06:20:30  1431  2021-07-25 04:58:33    T  46307   \n",
       "4674        06h20  2021-07-25 06:20:30  1431  2021-07-25 04:58:33    T  46307   \n",
       "6296        06h20  2021-07-25 06:20:30  1431  2021-07-25 04:58:33    T  46307   \n",
       "7918        06h20  2021-07-25 06:20:30  1431  2021-07-25 04:58:33    T  46307   \n",
       "\n",
       "      time_download_DDHHMMSS Time_downLoad_DDHHMMSS  \n",
       "1430                     NaN            25_04_59_47  \n",
       "3052                     NaN            25_04_59_48  \n",
       "4674                     NaN            25_04_59_49  \n",
       "6296                     NaN            25_04_59_50  \n",
       "7918                     NaN            25_04_59_51  "
      ]
     },
     "execution_count": 19,
     "metadata": {},
     "output_type": "execute_result"
    }
   ],
   "source": [
    "#Je sélectionne uniquement mon point d'arret Terreaux La Feuillee (id = 46307 // id correspondant à C3A:R)\n",
    "traffic_dim = traffic_dim[traffic_dim['id']==46307]\n",
    "print(len(traffic_dim))\n",
    "traffic_dim.head()"
   ]
  },
  {
   "cell_type": "code",
   "execution_count": 20,
   "metadata": {},
   "outputs": [
    {
     "name": "stdout",
     "output_type": "stream",
     "text": [
      "35\n"
     ]
    },
    {
     "data": {
      "text/html": [
       "<div>\n",
       "<style scoped>\n",
       "    .dataframe tbody tr th:only-of-type {\n",
       "        vertical-align: middle;\n",
       "    }\n",
       "\n",
       "    .dataframe tbody tr th {\n",
       "        vertical-align: top;\n",
       "    }\n",
       "\n",
       "    .dataframe thead th {\n",
       "        text-align: right;\n",
       "    }\n",
       "</style>\n",
       "<table border=\"1\" class=\"dataframe\">\n",
       "  <thead>\n",
       "    <tr style=\"text-align: right;\">\n",
       "      <th></th>\n",
       "      <th>idtarretdestination</th>\n",
       "      <th>coursetheorique</th>\n",
       "      <th>direction</th>\n",
       "      <th>ligne</th>\n",
       "      <th>delaipassage</th>\n",
       "      <th>heurepassage</th>\n",
       "      <th>gid</th>\n",
       "      <th>last_update_fme</th>\n",
       "      <th>type</th>\n",
       "      <th>id</th>\n",
       "      <th>time_download_DDHHMMSS</th>\n",
       "      <th>Time_downLoad_DDHHMMSS</th>\n",
       "    </tr>\n",
       "  </thead>\n",
       "  <tbody>\n",
       "    <tr>\n",
       "      <th>0</th>\n",
       "      <td>30000</td>\n",
       "      <td>C3A-0617@:1:1:2</td>\n",
       "      <td>Gare Saint-Paul</td>\n",
       "      <td>C3A</td>\n",
       "      <td>Proche</td>\n",
       "      <td>2021-07-25 06:20:30</td>\n",
       "      <td>5048</td>\n",
       "      <td>2021-07-25 06:20:37</td>\n",
       "      <td>E</td>\n",
       "      <td>46307</td>\n",
       "      <td>NaN</td>\n",
       "      <td>25_06_20_53</td>\n",
       "    </tr>\n",
       "    <tr>\n",
       "      <th>1</th>\n",
       "      <td>30000</td>\n",
       "      <td>C3A-0617@:2:1:2</td>\n",
       "      <td>Gare Saint-Paul</td>\n",
       "      <td>C3A</td>\n",
       "      <td>Proche</td>\n",
       "      <td>2021-07-25 06:35:30</td>\n",
       "      <td>5470</td>\n",
       "      <td>2021-07-25 06:35:37</td>\n",
       "      <td>E</td>\n",
       "      <td>46307</td>\n",
       "      <td>NaN</td>\n",
       "      <td>25_06_35_41</td>\n",
       "    </tr>\n",
       "    <tr>\n",
       "      <th>2</th>\n",
       "      <td>30000</td>\n",
       "      <td>C3A-0617@:3:1:2</td>\n",
       "      <td>Gare Saint-Paul</td>\n",
       "      <td>C3A</td>\n",
       "      <td>Proche</td>\n",
       "      <td>2021-07-25 06:48:30</td>\n",
       "      <td>5846</td>\n",
       "      <td>2021-07-25 06:48:38</td>\n",
       "      <td>E</td>\n",
       "      <td>46307</td>\n",
       "      <td>NaN</td>\n",
       "      <td>25_06_48_39</td>\n",
       "    </tr>\n",
       "    <tr>\n",
       "      <th>3</th>\n",
       "      <td>30000</td>\n",
       "      <td>C3A-0617@:4:1:2</td>\n",
       "      <td>Gare Saint-Paul</td>\n",
       "      <td>C3A</td>\n",
       "      <td>Proche</td>\n",
       "      <td>2021-07-25 07:00:30</td>\n",
       "      <td>6130</td>\n",
       "      <td>2021-07-25 07:00:38</td>\n",
       "      <td>E</td>\n",
       "      <td>46307</td>\n",
       "      <td>NaN</td>\n",
       "      <td>25_07_00_46</td>\n",
       "    </tr>\n",
       "    <tr>\n",
       "      <th>4</th>\n",
       "      <td>30000</td>\n",
       "      <td>C3A-0617@:5:1:2</td>\n",
       "      <td>Gare Saint-Paul</td>\n",
       "      <td>C3A</td>\n",
       "      <td>2 min</td>\n",
       "      <td>2021-07-25 07:10:30</td>\n",
       "      <td>6268</td>\n",
       "      <td>2021-07-25 07:08:38</td>\n",
       "      <td>E</td>\n",
       "      <td>46307</td>\n",
       "      <td>NaN</td>\n",
       "      <td>25_07_08_37</td>\n",
       "    </tr>\n",
       "  </tbody>\n",
       "</table>\n",
       "</div>"
      ],
      "text/plain": [
       "   idtarretdestination  coursetheorique        direction ligne delaipassage  \\\n",
       "0                30000  C3A-0617@:1:1:2  Gare Saint-Paul   C3A       Proche   \n",
       "1                30000  C3A-0617@:2:1:2  Gare Saint-Paul   C3A       Proche   \n",
       "2                30000  C3A-0617@:3:1:2  Gare Saint-Paul   C3A       Proche   \n",
       "3                30000  C3A-0617@:4:1:2  Gare Saint-Paul   C3A       Proche   \n",
       "4                30000  C3A-0617@:5:1:2  Gare Saint-Paul   C3A        2 min   \n",
       "\n",
       "          heurepassage   gid      last_update_fme type     id  \\\n",
       "0  2021-07-25 06:20:30  5048  2021-07-25 06:20:37    E  46307   \n",
       "1  2021-07-25 06:35:30  5470  2021-07-25 06:35:37    E  46307   \n",
       "2  2021-07-25 06:48:30  5846  2021-07-25 06:48:38    E  46307   \n",
       "3  2021-07-25 07:00:30  6130  2021-07-25 07:00:38    E  46307   \n",
       "4  2021-07-25 07:10:30  6268  2021-07-25 07:08:38    E  46307   \n",
       "\n",
       "   time_download_DDHHMMSS Time_downLoad_DDHHMMSS  \n",
       "0                     NaN            25_06_20_53  \n",
       "1                     NaN            25_06_35_41  \n",
       "2                     NaN            25_06_48_39  \n",
       "3                     NaN            25_07_00_46  \n",
       "4                     NaN            25_07_08_37  "
      ]
     },
     "execution_count": 20,
     "metadata": {},
     "output_type": "execute_result"
    }
   ],
   "source": [
    "# On supprime les doublons en se basant sur la donnée course théorique puis on réinitialise l'index\n",
    "traffic_dim = traffic_dim.drop_duplicates(subset=['ligne', 'coursetheorique'], keep='last')\n",
    "traffic_dim = traffic_dim.reset_index()\n",
    "traffic_dim = traffic_dim.drop(columns = 'index')\n",
    "print(len(traffic_dim))\n",
    "traffic_dim.head()"
   ]
  },
  {
   "cell_type": "code",
   "execution_count": 21,
   "metadata": {},
   "outputs": [
    {
     "data": {
      "text/html": [
       "<div>\n",
       "<style scoped>\n",
       "    .dataframe tbody tr th:only-of-type {\n",
       "        vertical-align: middle;\n",
       "    }\n",
       "\n",
       "    .dataframe tbody tr th {\n",
       "        vertical-align: top;\n",
       "    }\n",
       "\n",
       "    .dataframe thead th {\n",
       "        text-align: right;\n",
       "    }\n",
       "</style>\n",
       "<table border=\"1\" class=\"dataframe\">\n",
       "  <thead>\n",
       "    <tr style=\"text-align: right;\">\n",
       "      <th></th>\n",
       "      <th>idtarretdestination</th>\n",
       "      <th>coursetheorique</th>\n",
       "      <th>direction</th>\n",
       "      <th>ligne</th>\n",
       "      <th>delaipassage</th>\n",
       "      <th>heurepassage</th>\n",
       "      <th>gid</th>\n",
       "      <th>last_update_fme</th>\n",
       "      <th>type</th>\n",
       "      <th>id</th>\n",
       "      <th>time_download_DDHHMMSS</th>\n",
       "      <th>Time_downLoad_DDHHMMSS</th>\n",
       "    </tr>\n",
       "  </thead>\n",
       "  <tbody>\n",
       "    <tr>\n",
       "      <th>30</th>\n",
       "      <td>30000</td>\n",
       "      <td>C3A-0617@:7:1:11</td>\n",
       "      <td>Gare Saint-Paul</td>\n",
       "      <td>C3A</td>\n",
       "      <td>Proche</td>\n",
       "      <td>2021-07-25 11:33:54</td>\n",
       "      <td>7504</td>\n",
       "      <td>2021-07-25 11:33:12</td>\n",
       "      <td>E</td>\n",
       "      <td>46307</td>\n",
       "      <td>NaN</td>\n",
       "      <td>25_11_33_17</td>\n",
       "    </tr>\n",
       "    <tr>\n",
       "      <th>31</th>\n",
       "      <td>30000</td>\n",
       "      <td>C3A-0617@:1:1:14</td>\n",
       "      <td>Gare Saint-Paul</td>\n",
       "      <td>C3A</td>\n",
       "      <td>Proche</td>\n",
       "      <td>2021-07-25 11:42:54</td>\n",
       "      <td>7534</td>\n",
       "      <td>2021-07-25 11:43:09</td>\n",
       "      <td>E</td>\n",
       "      <td>46307</td>\n",
       "      <td>NaN</td>\n",
       "      <td>25_11_43_18</td>\n",
       "    </tr>\n",
       "    <tr>\n",
       "      <th>32</th>\n",
       "      <td>30000</td>\n",
       "      <td>C3A-0617@:2:1:14</td>\n",
       "      <td>Gare Saint-Paul</td>\n",
       "      <td>C3A</td>\n",
       "      <td>1 min</td>\n",
       "      <td>2021-07-25 11:54:54</td>\n",
       "      <td>7560</td>\n",
       "      <td>2021-07-25 11:54:10</td>\n",
       "      <td>E</td>\n",
       "      <td>46307</td>\n",
       "      <td>NaN</td>\n",
       "      <td>25_11_54_13</td>\n",
       "    </tr>\n",
       "    <tr>\n",
       "      <th>33</th>\n",
       "      <td>30000</td>\n",
       "      <td>C3A-0617@:3:1:14</td>\n",
       "      <td>Gare Saint-Paul</td>\n",
       "      <td>C3A</td>\n",
       "      <td>6 min</td>\n",
       "      <td>2021-07-25 12:03:54</td>\n",
       "      <td>7587</td>\n",
       "      <td>2021-07-25 11:57:40</td>\n",
       "      <td>E</td>\n",
       "      <td>46307</td>\n",
       "      <td>NaN</td>\n",
       "      <td>25_11_57_38</td>\n",
       "    </tr>\n",
       "    <tr>\n",
       "      <th>34</th>\n",
       "      <td>30000</td>\n",
       "      <td>C3A-0617@:8:1:11</td>\n",
       "      <td>Gare Saint-Paul</td>\n",
       "      <td>C3A</td>\n",
       "      <td>18 min</td>\n",
       "      <td>2021-07-25 12:15:54</td>\n",
       "      <td>7588</td>\n",
       "      <td>2021-07-25 11:57:40</td>\n",
       "      <td>E</td>\n",
       "      <td>46307</td>\n",
       "      <td>NaN</td>\n",
       "      <td>25_11_57_38</td>\n",
       "    </tr>\n",
       "  </tbody>\n",
       "</table>\n",
       "</div>"
      ],
      "text/plain": [
       "    idtarretdestination   coursetheorique        direction ligne delaipassage  \\\n",
       "30                30000  C3A-0617@:7:1:11  Gare Saint-Paul   C3A       Proche   \n",
       "31                30000  C3A-0617@:1:1:14  Gare Saint-Paul   C3A       Proche   \n",
       "32                30000  C3A-0617@:2:1:14  Gare Saint-Paul   C3A        1 min   \n",
       "33                30000  C3A-0617@:3:1:14  Gare Saint-Paul   C3A        6 min   \n",
       "34                30000  C3A-0617@:8:1:11  Gare Saint-Paul   C3A       18 min   \n",
       "\n",
       "           heurepassage   gid      last_update_fme type     id  \\\n",
       "30  2021-07-25 11:33:54  7504  2021-07-25 11:33:12    E  46307   \n",
       "31  2021-07-25 11:42:54  7534  2021-07-25 11:43:09    E  46307   \n",
       "32  2021-07-25 11:54:54  7560  2021-07-25 11:54:10    E  46307   \n",
       "33  2021-07-25 12:03:54  7587  2021-07-25 11:57:40    E  46307   \n",
       "34  2021-07-25 12:15:54  7588  2021-07-25 11:57:40    E  46307   \n",
       "\n",
       "    time_download_DDHHMMSS Time_downLoad_DDHHMMSS  \n",
       "30                     NaN            25_11_33_17  \n",
       "31                     NaN            25_11_43_18  \n",
       "32                     NaN            25_11_54_13  \n",
       "33                     NaN            25_11_57_38  \n",
       "34                     NaN            25_11_57_38  "
      ]
     },
     "execution_count": 21,
     "metadata": {},
     "output_type": "execute_result"
    }
   ],
   "source": [
    "traffic_dim.tail()"
   ]
  },
  {
   "cell_type": "code",
   "execution_count": 22,
   "metadata": {},
   "outputs": [
    {
     "data": {
      "text/html": [
       "<div>\n",
       "<style scoped>\n",
       "    .dataframe tbody tr th:only-of-type {\n",
       "        vertical-align: middle;\n",
       "    }\n",
       "\n",
       "    .dataframe tbody tr th {\n",
       "        vertical-align: top;\n",
       "    }\n",
       "\n",
       "    .dataframe thead th {\n",
       "        text-align: right;\n",
       "    }\n",
       "</style>\n",
       "<table border=\"1\" class=\"dataframe\">\n",
       "  <thead>\n",
       "    <tr style=\"text-align: right;\">\n",
       "      <th></th>\n",
       "      <th>idtarretdestination</th>\n",
       "      <th>coursetheorique</th>\n",
       "      <th>direction</th>\n",
       "      <th>ligne</th>\n",
       "      <th>delaipassage</th>\n",
       "      <th>heurepassage</th>\n",
       "      <th>gid</th>\n",
       "      <th>last_update_fme</th>\n",
       "      <th>type</th>\n",
       "      <th>id</th>\n",
       "      <th>time_download_DDHHMMSS</th>\n",
       "      <th>Time_downLoad_DDHHMMSS</th>\n",
       "    </tr>\n",
       "  </thead>\n",
       "  <tbody>\n",
       "    <tr>\n",
       "      <th>28</th>\n",
       "      <td>30000</td>\n",
       "      <td>C3A-0617@:5:1:11</td>\n",
       "      <td>Gare Saint-Paul</td>\n",
       "      <td>C3A</td>\n",
       "      <td>2 min</td>\n",
       "      <td>2021-07-25 11:17:54</td>\n",
       "      <td>7523</td>\n",
       "      <td>2021-07-25 11:15:39</td>\n",
       "      <td>E</td>\n",
       "      <td>46307</td>\n",
       "      <td>NaN</td>\n",
       "      <td>25_11_15_48</td>\n",
       "    </tr>\n",
       "    <tr>\n",
       "      <th>29</th>\n",
       "      <td>30000</td>\n",
       "      <td>C3A-0617@:6:1:11</td>\n",
       "      <td>Gare Saint-Paul</td>\n",
       "      <td>C3A</td>\n",
       "      <td>3 min</td>\n",
       "      <td>2021-07-25 11:24:54</td>\n",
       "      <td>7507</td>\n",
       "      <td>2021-07-25 11:21:40</td>\n",
       "      <td>E</td>\n",
       "      <td>46307</td>\n",
       "      <td>NaN</td>\n",
       "      <td>25_11_22_00</td>\n",
       "    </tr>\n",
       "    <tr>\n",
       "      <th>30</th>\n",
       "      <td>30000</td>\n",
       "      <td>C3A-0617@:7:1:11</td>\n",
       "      <td>Gare Saint-Paul</td>\n",
       "      <td>C3A</td>\n",
       "      <td>Proche</td>\n",
       "      <td>2021-07-25 11:33:54</td>\n",
       "      <td>7504</td>\n",
       "      <td>2021-07-25 11:33:12</td>\n",
       "      <td>E</td>\n",
       "      <td>46307</td>\n",
       "      <td>NaN</td>\n",
       "      <td>25_11_33_17</td>\n",
       "    </tr>\n",
       "    <tr>\n",
       "      <th>31</th>\n",
       "      <td>30000</td>\n",
       "      <td>C3A-0617@:1:1:14</td>\n",
       "      <td>Gare Saint-Paul</td>\n",
       "      <td>C3A</td>\n",
       "      <td>Proche</td>\n",
       "      <td>2021-07-25 11:42:54</td>\n",
       "      <td>7534</td>\n",
       "      <td>2021-07-25 11:43:09</td>\n",
       "      <td>E</td>\n",
       "      <td>46307</td>\n",
       "      <td>NaN</td>\n",
       "      <td>25_11_43_18</td>\n",
       "    </tr>\n",
       "    <tr>\n",
       "      <th>32</th>\n",
       "      <td>30000</td>\n",
       "      <td>C3A-0617@:2:1:14</td>\n",
       "      <td>Gare Saint-Paul</td>\n",
       "      <td>C3A</td>\n",
       "      <td>1 min</td>\n",
       "      <td>2021-07-25 11:54:54</td>\n",
       "      <td>7560</td>\n",
       "      <td>2021-07-25 11:54:10</td>\n",
       "      <td>E</td>\n",
       "      <td>46307</td>\n",
       "      <td>NaN</td>\n",
       "      <td>25_11_54_13</td>\n",
       "    </tr>\n",
       "  </tbody>\n",
       "</table>\n",
       "</div>"
      ],
      "text/plain": [
       "    idtarretdestination   coursetheorique        direction ligne delaipassage  \\\n",
       "28                30000  C3A-0617@:5:1:11  Gare Saint-Paul   C3A        2 min   \n",
       "29                30000  C3A-0617@:6:1:11  Gare Saint-Paul   C3A        3 min   \n",
       "30                30000  C3A-0617@:7:1:11  Gare Saint-Paul   C3A       Proche   \n",
       "31                30000  C3A-0617@:1:1:14  Gare Saint-Paul   C3A       Proche   \n",
       "32                30000  C3A-0617@:2:1:14  Gare Saint-Paul   C3A        1 min   \n",
       "\n",
       "           heurepassage   gid      last_update_fme type     id  \\\n",
       "28  2021-07-25 11:17:54  7523  2021-07-25 11:15:39    E  46307   \n",
       "29  2021-07-25 11:24:54  7507  2021-07-25 11:21:40    E  46307   \n",
       "30  2021-07-25 11:33:54  7504  2021-07-25 11:33:12    E  46307   \n",
       "31  2021-07-25 11:42:54  7534  2021-07-25 11:43:09    E  46307   \n",
       "32  2021-07-25 11:54:54  7560  2021-07-25 11:54:10    E  46307   \n",
       "\n",
       "    time_download_DDHHMMSS Time_downLoad_DDHHMMSS  \n",
       "28                     NaN            25_11_15_48  \n",
       "29                     NaN            25_11_22_00  \n",
       "30                     NaN            25_11_33_17  \n",
       "31                     NaN            25_11_43_18  \n",
       "32                     NaN            25_11_54_13  "
      ]
     },
     "execution_count": 22,
     "metadata": {},
     "output_type": "execute_result"
    }
   ],
   "source": [
    "# Je supprime les 2 dernières lignes (index = 33 et 34) \n",
    "traffic_dim.drop(index=[33, 34], inplace=True)\n",
    "traffic_dim.tail()"
   ]
  },
  {
   "cell_type": "markdown",
   "metadata": {},
   "source": [
    "# Passage - samedi 5h-12h"
   ]
  },
  {
   "cell_type": "code",
   "execution_count": 23,
   "metadata": {},
   "outputs": [
    {
     "name": "stdout",
     "output_type": "stream",
     "text": [
      "5797525\n"
     ]
    },
    {
     "data": {
      "text/html": [
       "<div>\n",
       "<style scoped>\n",
       "    .dataframe tbody tr th:only-of-type {\n",
       "        vertical-align: middle;\n",
       "    }\n",
       "\n",
       "    .dataframe tbody tr th {\n",
       "        vertical-align: top;\n",
       "    }\n",
       "\n",
       "    .dataframe thead th {\n",
       "        text-align: right;\n",
       "    }\n",
       "</style>\n",
       "<table border=\"1\" class=\"dataframe\">\n",
       "  <thead>\n",
       "    <tr style=\"text-align: right;\">\n",
       "      <th></th>\n",
       "      <th>idtarretdestination</th>\n",
       "      <th>coursetheorique</th>\n",
       "      <th>direction</th>\n",
       "      <th>ligne</th>\n",
       "      <th>delaipassage</th>\n",
       "      <th>heurepassage</th>\n",
       "      <th>gid</th>\n",
       "      <th>last_update_fme</th>\n",
       "      <th>type</th>\n",
       "      <th>id</th>\n",
       "      <th>time_download_DDHHMMSS</th>\n",
       "      <th>Time_downLoad_DDHHMMSS</th>\n",
       "    </tr>\n",
       "  </thead>\n",
       "  <tbody>\n",
       "    <tr>\n",
       "      <th>0</th>\n",
       "      <td>35998</td>\n",
       "      <td>87A-0326M:1:1:3</td>\n",
       "      <td>Mions Bourdelle</td>\n",
       "      <td>87A</td>\n",
       "      <td>39 min</td>\n",
       "      <td>2021-07-24 05:38:00</td>\n",
       "      <td>1</td>\n",
       "      <td>2021-07-24 04:59:02</td>\n",
       "      <td>E</td>\n",
       "      <td>1</td>\n",
       "      <td>NaN</td>\n",
       "      <td>24_04_59_12</td>\n",
       "    </tr>\n",
       "    <tr>\n",
       "      <th>1</th>\n",
       "      <td>11315</td>\n",
       "      <td>87A-0326M:1:1:2</td>\n",
       "      <td>Gare de VÃ©nissieux</td>\n",
       "      <td>87A</td>\n",
       "      <td>17 min</td>\n",
       "      <td>2021-07-24 05:16:10</td>\n",
       "      <td>2</td>\n",
       "      <td>2021-07-24 04:59:02</td>\n",
       "      <td>E</td>\n",
       "      <td>2</td>\n",
       "      <td>NaN</td>\n",
       "      <td>24_04_59_12</td>\n",
       "    </tr>\n",
       "    <tr>\n",
       "      <th>2</th>\n",
       "      <td>11315</td>\n",
       "      <td>87A-0326M:1:1:5</td>\n",
       "      <td>Gare de VÃ©nissieux</td>\n",
       "      <td>87A</td>\n",
       "      <td>06h26</td>\n",
       "      <td>2021-07-24 06:26:10</td>\n",
       "      <td>3</td>\n",
       "      <td>2021-07-24 04:59:02</td>\n",
       "      <td>E</td>\n",
       "      <td>2</td>\n",
       "      <td>NaN</td>\n",
       "      <td>24_04_59_12</td>\n",
       "    </tr>\n",
       "    <tr>\n",
       "      <th>3</th>\n",
       "      <td>367</td>\n",
       "      <td>C20B-1026S:2:1:2</td>\n",
       "      <td>Francheville Taffignon</td>\n",
       "      <td>C20D</td>\n",
       "      <td>15 min</td>\n",
       "      <td>2021-07-24 05:14:33</td>\n",
       "      <td>4</td>\n",
       "      <td>2021-07-24 04:59:02</td>\n",
       "      <td>E</td>\n",
       "      <td>3</td>\n",
       "      <td>NaN</td>\n",
       "      <td>24_04_59_12</td>\n",
       "    </tr>\n",
       "    <tr>\n",
       "      <th>4</th>\n",
       "      <td>367</td>\n",
       "      <td>C20B-1026S:1:1:4</td>\n",
       "      <td>Francheville Taffignon</td>\n",
       "      <td>C20D</td>\n",
       "      <td>06h14</td>\n",
       "      <td>2021-07-24 06:14:33</td>\n",
       "      <td>5</td>\n",
       "      <td>2021-07-24 04:59:02</td>\n",
       "      <td>E</td>\n",
       "      <td>3</td>\n",
       "      <td>NaN</td>\n",
       "      <td>24_04_59_12</td>\n",
       "    </tr>\n",
       "  </tbody>\n",
       "</table>\n",
       "</div>"
      ],
      "text/plain": [
       "   idtarretdestination   coursetheorique               direction ligne  \\\n",
       "0                35998   87A-0326M:1:1:3         Mions Bourdelle   87A   \n",
       "1                11315   87A-0326M:1:1:2     Gare de VÃ©nissieux   87A   \n",
       "2                11315   87A-0326M:1:1:5     Gare de VÃ©nissieux   87A   \n",
       "3                  367  C20B-1026S:2:1:2  Francheville Taffignon  C20D   \n",
       "4                  367  C20B-1026S:1:1:4  Francheville Taffignon  C20D   \n",
       "\n",
       "  delaipassage         heurepassage  gid      last_update_fme type  id  \\\n",
       "0       39 min  2021-07-24 05:38:00    1  2021-07-24 04:59:02    E   1   \n",
       "1       17 min  2021-07-24 05:16:10    2  2021-07-24 04:59:02    E   2   \n",
       "2        06h26  2021-07-24 06:26:10    3  2021-07-24 04:59:02    E   2   \n",
       "3       15 min  2021-07-24 05:14:33    4  2021-07-24 04:59:02    E   3   \n",
       "4        06h14  2021-07-24 06:14:33    5  2021-07-24 04:59:02    E   3   \n",
       "\n",
       "   time_download_DDHHMMSS Time_downLoad_DDHHMMSS  \n",
       "0                     NaN            24_04_59_12  \n",
       "1                     NaN            24_04_59_12  \n",
       "2                     NaN            24_04_59_12  \n",
       "3                     NaN            24_04_59_12  \n",
       "4                     NaN            24_04_59_12  "
      ]
     },
     "execution_count": 23,
     "metadata": {},
     "output_type": "execute_result"
    }
   ],
   "source": [
    "traffic_sam = pd.read_csv(\"Lyon_passagearret_EB_2407_512.csv\")\n",
    "print(len(traffic_sam))\n",
    "traffic_sam.head()"
   ]
  },
  {
   "cell_type": "code",
   "execution_count": 24,
   "metadata": {},
   "outputs": [
    {
     "name": "stdout",
     "output_type": "stream",
     "text": [
      "27468\n"
     ]
    },
    {
     "data": {
      "text/html": [
       "<div>\n",
       "<style scoped>\n",
       "    .dataframe tbody tr th:only-of-type {\n",
       "        vertical-align: middle;\n",
       "    }\n",
       "\n",
       "    .dataframe tbody tr th {\n",
       "        vertical-align: top;\n",
       "    }\n",
       "\n",
       "    .dataframe thead th {\n",
       "        text-align: right;\n",
       "    }\n",
       "</style>\n",
       "<table border=\"1\" class=\"dataframe\">\n",
       "  <thead>\n",
       "    <tr style=\"text-align: right;\">\n",
       "      <th></th>\n",
       "      <th>idtarretdestination</th>\n",
       "      <th>coursetheorique</th>\n",
       "      <th>direction</th>\n",
       "      <th>ligne</th>\n",
       "      <th>delaipassage</th>\n",
       "      <th>heurepassage</th>\n",
       "      <th>gid</th>\n",
       "      <th>last_update_fme</th>\n",
       "      <th>type</th>\n",
       "      <th>id</th>\n",
       "      <th>time_download_DDHHMMSS</th>\n",
       "      <th>Time_downLoad_DDHHMMSS</th>\n",
       "    </tr>\n",
       "  </thead>\n",
       "  <tbody>\n",
       "    <tr>\n",
       "      <th>683</th>\n",
       "      <td>30000</td>\n",
       "      <td>C3A-0276@:2:1:3</td>\n",
       "      <td>Gare Saint-Paul</td>\n",
       "      <td>C3A</td>\n",
       "      <td>10 min</td>\n",
       "      <td>2021-07-24 05:09:14</td>\n",
       "      <td>684</td>\n",
       "      <td>2021-07-24 04:59:03</td>\n",
       "      <td>E</td>\n",
       "      <td>664</td>\n",
       "      <td>NaN</td>\n",
       "      <td>24_04_59_12</td>\n",
       "    </tr>\n",
       "    <tr>\n",
       "      <th>684</th>\n",
       "      <td>30000</td>\n",
       "      <td>C3A-0276@:4:1:3</td>\n",
       "      <td>Gare Saint-Paul</td>\n",
       "      <td>C3A</td>\n",
       "      <td>25 min</td>\n",
       "      <td>2021-07-24 05:24:14</td>\n",
       "      <td>685</td>\n",
       "      <td>2021-07-24 04:59:03</td>\n",
       "      <td>E</td>\n",
       "      <td>664</td>\n",
       "      <td>NaN</td>\n",
       "      <td>24_04_59_12</td>\n",
       "    </tr>\n",
       "    <tr>\n",
       "      <th>1058</th>\n",
       "      <td>30000</td>\n",
       "      <td>C3A-0276@:2:1:3</td>\n",
       "      <td>Gare Saint-Paul</td>\n",
       "      <td>C3A</td>\n",
       "      <td>8 min</td>\n",
       "      <td>2021-07-24 05:06:53</td>\n",
       "      <td>1058</td>\n",
       "      <td>2021-07-24 04:59:03</td>\n",
       "      <td>E</td>\n",
       "      <td>1071</td>\n",
       "      <td>NaN</td>\n",
       "      <td>24_04_59_12</td>\n",
       "    </tr>\n",
       "    <tr>\n",
       "      <th>1059</th>\n",
       "      <td>30000</td>\n",
       "      <td>C3A-0276@:4:1:3</td>\n",
       "      <td>Gare Saint-Paul</td>\n",
       "      <td>C3A</td>\n",
       "      <td>23 min</td>\n",
       "      <td>2021-07-24 05:21:53</td>\n",
       "      <td>1059</td>\n",
       "      <td>2021-07-24 04:59:03</td>\n",
       "      <td>E</td>\n",
       "      <td>1071</td>\n",
       "      <td>NaN</td>\n",
       "      <td>24_04_59_12</td>\n",
       "    </tr>\n",
       "    <tr>\n",
       "      <th>1175</th>\n",
       "      <td>30000</td>\n",
       "      <td>C3A-0276@:3:1:2</td>\n",
       "      <td>Gare Saint-Paul</td>\n",
       "      <td>C3A</td>\n",
       "      <td>11 min</td>\n",
       "      <td>2021-07-24 05:10:28</td>\n",
       "      <td>1175</td>\n",
       "      <td>2021-07-24 04:59:03</td>\n",
       "      <td>E</td>\n",
       "      <td>1190</td>\n",
       "      <td>NaN</td>\n",
       "      <td>24_04_59_12</td>\n",
       "    </tr>\n",
       "  </tbody>\n",
       "</table>\n",
       "</div>"
      ],
      "text/plain": [
       "      idtarretdestination  coursetheorique        direction ligne  \\\n",
       "683                 30000  C3A-0276@:2:1:3  Gare Saint-Paul   C3A   \n",
       "684                 30000  C3A-0276@:4:1:3  Gare Saint-Paul   C3A   \n",
       "1058                30000  C3A-0276@:2:1:3  Gare Saint-Paul   C3A   \n",
       "1059                30000  C3A-0276@:4:1:3  Gare Saint-Paul   C3A   \n",
       "1175                30000  C3A-0276@:3:1:2  Gare Saint-Paul   C3A   \n",
       "\n",
       "     delaipassage         heurepassage   gid      last_update_fme type    id  \\\n",
       "683        10 min  2021-07-24 05:09:14   684  2021-07-24 04:59:03    E   664   \n",
       "684        25 min  2021-07-24 05:24:14   685  2021-07-24 04:59:03    E   664   \n",
       "1058        8 min  2021-07-24 05:06:53  1058  2021-07-24 04:59:03    E  1071   \n",
       "1059       23 min  2021-07-24 05:21:53  1059  2021-07-24 04:59:03    E  1071   \n",
       "1175       11 min  2021-07-24 05:10:28  1175  2021-07-24 04:59:03    E  1190   \n",
       "\n",
       "      time_download_DDHHMMSS Time_downLoad_DDHHMMSS  \n",
       "683                      NaN            24_04_59_12  \n",
       "684                      NaN            24_04_59_12  \n",
       "1058                     NaN            24_04_59_12  \n",
       "1059                     NaN            24_04_59_12  \n",
       "1175                     NaN            24_04_59_12  "
      ]
     },
     "execution_count": 24,
     "metadata": {},
     "output_type": "execute_result"
    }
   ],
   "source": [
    "# On ne sélectionne que la ligne C3A direction Gare Saint Paul (id 30000)\n",
    "traffic_sam = traffic_sam[traffic_sam['ligne']=='C3A']\n",
    "traffic_sam = traffic_sam[traffic_sam['idtarretdestination']==30000]\n",
    "print(len(traffic_sam))\n",
    "traffic_sam.head()"
   ]
  },
  {
   "cell_type": "code",
   "execution_count": 25,
   "metadata": {},
   "outputs": [
    {
     "name": "stdout",
     "output_type": "stream",
     "text": [
      "894\n"
     ]
    },
    {
     "data": {
      "text/html": [
       "<div>\n",
       "<style scoped>\n",
       "    .dataframe tbody tr th:only-of-type {\n",
       "        vertical-align: middle;\n",
       "    }\n",
       "\n",
       "    .dataframe tbody tr th {\n",
       "        vertical-align: top;\n",
       "    }\n",
       "\n",
       "    .dataframe thead th {\n",
       "        text-align: right;\n",
       "    }\n",
       "</style>\n",
       "<table border=\"1\" class=\"dataframe\">\n",
       "  <thead>\n",
       "    <tr style=\"text-align: right;\">\n",
       "      <th></th>\n",
       "      <th>idtarretdestination</th>\n",
       "      <th>coursetheorique</th>\n",
       "      <th>direction</th>\n",
       "      <th>ligne</th>\n",
       "      <th>delaipassage</th>\n",
       "      <th>heurepassage</th>\n",
       "      <th>gid</th>\n",
       "      <th>last_update_fme</th>\n",
       "      <th>type</th>\n",
       "      <th>id</th>\n",
       "      <th>time_download_DDHHMMSS</th>\n",
       "      <th>Time_downLoad_DDHHMMSS</th>\n",
       "    </tr>\n",
       "  </thead>\n",
       "  <tbody>\n",
       "    <tr>\n",
       "      <th>6777</th>\n",
       "      <td>30000</td>\n",
       "      <td>C3A-0276@:3:1:2</td>\n",
       "      <td>Gare Saint-Paul</td>\n",
       "      <td>C3A</td>\n",
       "      <td>13 min</td>\n",
       "      <td>2021-07-24 05:12:30</td>\n",
       "      <td>6778</td>\n",
       "      <td>2021-07-24 04:59:09</td>\n",
       "      <td>E</td>\n",
       "      <td>46307</td>\n",
       "      <td>NaN</td>\n",
       "      <td>24_04_59_12</td>\n",
       "    </tr>\n",
       "    <tr>\n",
       "      <th>6778</th>\n",
       "      <td>30000</td>\n",
       "      <td>C3A-0276@:1:1:2</td>\n",
       "      <td>Gare Saint-Paul</td>\n",
       "      <td>C3A</td>\n",
       "      <td>18 min</td>\n",
       "      <td>2021-07-24 05:17:30</td>\n",
       "      <td>6779</td>\n",
       "      <td>2021-07-24 04:59:09</td>\n",
       "      <td>E</td>\n",
       "      <td>46307</td>\n",
       "      <td>NaN</td>\n",
       "      <td>24_04_59_12</td>\n",
       "    </tr>\n",
       "    <tr>\n",
       "      <th>14521</th>\n",
       "      <td>30000</td>\n",
       "      <td>C3A-0276@:3:1:2</td>\n",
       "      <td>Gare Saint-Paul</td>\n",
       "      <td>C3A</td>\n",
       "      <td>13 min</td>\n",
       "      <td>2021-07-24 05:12:30</td>\n",
       "      <td>6778</td>\n",
       "      <td>2021-07-24 04:59:09</td>\n",
       "      <td>E</td>\n",
       "      <td>46307</td>\n",
       "      <td>NaN</td>\n",
       "      <td>24_04_59_14</td>\n",
       "    </tr>\n",
       "    <tr>\n",
       "      <th>14522</th>\n",
       "      <td>30000</td>\n",
       "      <td>C3A-0276@:1:1:2</td>\n",
       "      <td>Gare Saint-Paul</td>\n",
       "      <td>C3A</td>\n",
       "      <td>18 min</td>\n",
       "      <td>2021-07-24 05:17:30</td>\n",
       "      <td>6779</td>\n",
       "      <td>2021-07-24 04:59:09</td>\n",
       "      <td>E</td>\n",
       "      <td>46307</td>\n",
       "      <td>NaN</td>\n",
       "      <td>24_04_59_14</td>\n",
       "    </tr>\n",
       "    <tr>\n",
       "      <th>22265</th>\n",
       "      <td>30000</td>\n",
       "      <td>C3A-0276@:3:1:2</td>\n",
       "      <td>Gare Saint-Paul</td>\n",
       "      <td>C3A</td>\n",
       "      <td>13 min</td>\n",
       "      <td>2021-07-24 05:12:30</td>\n",
       "      <td>6778</td>\n",
       "      <td>2021-07-24 04:59:09</td>\n",
       "      <td>E</td>\n",
       "      <td>46307</td>\n",
       "      <td>NaN</td>\n",
       "      <td>24_04_59_15</td>\n",
       "    </tr>\n",
       "  </tbody>\n",
       "</table>\n",
       "</div>"
      ],
      "text/plain": [
       "       idtarretdestination  coursetheorique        direction ligne  \\\n",
       "6777                 30000  C3A-0276@:3:1:2  Gare Saint-Paul   C3A   \n",
       "6778                 30000  C3A-0276@:1:1:2  Gare Saint-Paul   C3A   \n",
       "14521                30000  C3A-0276@:3:1:2  Gare Saint-Paul   C3A   \n",
       "14522                30000  C3A-0276@:1:1:2  Gare Saint-Paul   C3A   \n",
       "22265                30000  C3A-0276@:3:1:2  Gare Saint-Paul   C3A   \n",
       "\n",
       "      delaipassage         heurepassage   gid      last_update_fme type  \\\n",
       "6777        13 min  2021-07-24 05:12:30  6778  2021-07-24 04:59:09    E   \n",
       "6778        18 min  2021-07-24 05:17:30  6779  2021-07-24 04:59:09    E   \n",
       "14521       13 min  2021-07-24 05:12:30  6778  2021-07-24 04:59:09    E   \n",
       "14522       18 min  2021-07-24 05:17:30  6779  2021-07-24 04:59:09    E   \n",
       "22265       13 min  2021-07-24 05:12:30  6778  2021-07-24 04:59:09    E   \n",
       "\n",
       "          id  time_download_DDHHMMSS Time_downLoad_DDHHMMSS  \n",
       "6777   46307                     NaN            24_04_59_12  \n",
       "6778   46307                     NaN            24_04_59_12  \n",
       "14521  46307                     NaN            24_04_59_14  \n",
       "14522  46307                     NaN            24_04_59_14  \n",
       "22265  46307                     NaN            24_04_59_15  "
      ]
     },
     "execution_count": 25,
     "metadata": {},
     "output_type": "execute_result"
    }
   ],
   "source": [
    "#Je sélectionne uniquement mon point d'arret Terreaux La Feuillee (id = 46307 // id correspondant à C3A:R)\n",
    "traffic_sam = traffic_sam[traffic_sam['id']==46307]\n",
    "print(len(traffic_sam))\n",
    "traffic_sam.head()"
   ]
  },
  {
   "cell_type": "code",
   "execution_count": 26,
   "metadata": {},
   "outputs": [
    {
     "name": "stdout",
     "output_type": "stream",
     "text": [
      "47\n"
     ]
    },
    {
     "data": {
      "text/html": [
       "<div>\n",
       "<style scoped>\n",
       "    .dataframe tbody tr th:only-of-type {\n",
       "        vertical-align: middle;\n",
       "    }\n",
       "\n",
       "    .dataframe tbody tr th {\n",
       "        vertical-align: top;\n",
       "    }\n",
       "\n",
       "    .dataframe thead th {\n",
       "        text-align: right;\n",
       "    }\n",
       "</style>\n",
       "<table border=\"1\" class=\"dataframe\">\n",
       "  <thead>\n",
       "    <tr style=\"text-align: right;\">\n",
       "      <th></th>\n",
       "      <th>idtarretdestination</th>\n",
       "      <th>coursetheorique</th>\n",
       "      <th>direction</th>\n",
       "      <th>ligne</th>\n",
       "      <th>delaipassage</th>\n",
       "      <th>heurepassage</th>\n",
       "      <th>gid</th>\n",
       "      <th>last_update_fme</th>\n",
       "      <th>type</th>\n",
       "      <th>id</th>\n",
       "      <th>time_download_DDHHMMSS</th>\n",
       "      <th>Time_downLoad_DDHHMMSS</th>\n",
       "    </tr>\n",
       "  </thead>\n",
       "  <tbody>\n",
       "    <tr>\n",
       "      <th>0</th>\n",
       "      <td>30000</td>\n",
       "      <td>C3A-0276@:3:1:2</td>\n",
       "      <td>Gare Saint-Paul</td>\n",
       "      <td>C3A</td>\n",
       "      <td>Proche</td>\n",
       "      <td>2021-07-24 05:12:30</td>\n",
       "      <td>7234</td>\n",
       "      <td>2021-07-24 05:12:09</td>\n",
       "      <td>E</td>\n",
       "      <td>46307</td>\n",
       "      <td>NaN</td>\n",
       "      <td>24_05_12_27</td>\n",
       "    </tr>\n",
       "    <tr>\n",
       "      <th>1</th>\n",
       "      <td>30000</td>\n",
       "      <td>C3A-0276@:1:1:2</td>\n",
       "      <td>Gare Saint-Paul</td>\n",
       "      <td>C3A</td>\n",
       "      <td>Proche</td>\n",
       "      <td>2021-07-24 05:16:30</td>\n",
       "      <td>7341</td>\n",
       "      <td>2021-07-24 05:16:11</td>\n",
       "      <td>E</td>\n",
       "      <td>46307</td>\n",
       "      <td>NaN</td>\n",
       "      <td>24_05_16_26</td>\n",
       "    </tr>\n",
       "    <tr>\n",
       "      <th>2</th>\n",
       "      <td>30000</td>\n",
       "      <td>C3A-0276@:2:1:3</td>\n",
       "      <td>Gare Saint-Paul</td>\n",
       "      <td>C3A</td>\n",
       "      <td>Proche</td>\n",
       "      <td>2021-07-24 05:37:30</td>\n",
       "      <td>7847</td>\n",
       "      <td>2021-07-24 05:37:12</td>\n",
       "      <td>E</td>\n",
       "      <td>46307</td>\n",
       "      <td>NaN</td>\n",
       "      <td>24_05_37_18</td>\n",
       "    </tr>\n",
       "    <tr>\n",
       "      <th>3</th>\n",
       "      <td>30000</td>\n",
       "      <td>C3A-0276@:6:1:2</td>\n",
       "      <td>Gare Saint-Paul</td>\n",
       "      <td>C3A</td>\n",
       "      <td>Proche</td>\n",
       "      <td>2021-07-24 05:45:30</td>\n",
       "      <td>8054</td>\n",
       "      <td>2021-07-24 05:45:39</td>\n",
       "      <td>E</td>\n",
       "      <td>46307</td>\n",
       "      <td>NaN</td>\n",
       "      <td>24_05_45_56</td>\n",
       "    </tr>\n",
       "    <tr>\n",
       "      <th>4</th>\n",
       "      <td>30000</td>\n",
       "      <td>C3A-0276@:4:1:3</td>\n",
       "      <td>Gare Saint-Paul</td>\n",
       "      <td>C3A</td>\n",
       "      <td>Proche</td>\n",
       "      <td>2021-07-24 05:51:30</td>\n",
       "      <td>8157</td>\n",
       "      <td>2021-07-24 05:51:40</td>\n",
       "      <td>E</td>\n",
       "      <td>46307</td>\n",
       "      <td>NaN</td>\n",
       "      <td>24_05_51_55</td>\n",
       "    </tr>\n",
       "  </tbody>\n",
       "</table>\n",
       "</div>"
      ],
      "text/plain": [
       "   idtarretdestination  coursetheorique        direction ligne delaipassage  \\\n",
       "0                30000  C3A-0276@:3:1:2  Gare Saint-Paul   C3A       Proche   \n",
       "1                30000  C3A-0276@:1:1:2  Gare Saint-Paul   C3A       Proche   \n",
       "2                30000  C3A-0276@:2:1:3  Gare Saint-Paul   C3A       Proche   \n",
       "3                30000  C3A-0276@:6:1:2  Gare Saint-Paul   C3A       Proche   \n",
       "4                30000  C3A-0276@:4:1:3  Gare Saint-Paul   C3A       Proche   \n",
       "\n",
       "          heurepassage   gid      last_update_fme type     id  \\\n",
       "0  2021-07-24 05:12:30  7234  2021-07-24 05:12:09    E  46307   \n",
       "1  2021-07-24 05:16:30  7341  2021-07-24 05:16:11    E  46307   \n",
       "2  2021-07-24 05:37:30  7847  2021-07-24 05:37:12    E  46307   \n",
       "3  2021-07-24 05:45:30  8054  2021-07-24 05:45:39    E  46307   \n",
       "4  2021-07-24 05:51:30  8157  2021-07-24 05:51:40    E  46307   \n",
       "\n",
       "   time_download_DDHHMMSS Time_downLoad_DDHHMMSS  \n",
       "0                     NaN            24_05_12_27  \n",
       "1                     NaN            24_05_16_26  \n",
       "2                     NaN            24_05_37_18  \n",
       "3                     NaN            24_05_45_56  \n",
       "4                     NaN            24_05_51_55  "
      ]
     },
     "execution_count": 26,
     "metadata": {},
     "output_type": "execute_result"
    }
   ],
   "source": [
    "# On supprime les doublons en se basant sur la donnée course théorique puis on réinitialise l'index\n",
    "traffic_sam = traffic_sam.drop_duplicates(subset=['ligne', 'coursetheorique'], keep='last')\n",
    "traffic_sam = traffic_sam.reset_index()\n",
    "traffic_sam = traffic_sam.drop(columns = 'index')\n",
    "print(len(traffic_sam))\n",
    "traffic_sam.head()"
   ]
  },
  {
   "cell_type": "code",
   "execution_count": 27,
   "metadata": {},
   "outputs": [
    {
     "data": {
      "text/html": [
       "<div>\n",
       "<style scoped>\n",
       "    .dataframe tbody tr th:only-of-type {\n",
       "        vertical-align: middle;\n",
       "    }\n",
       "\n",
       "    .dataframe tbody tr th {\n",
       "        vertical-align: top;\n",
       "    }\n",
       "\n",
       "    .dataframe thead th {\n",
       "        text-align: right;\n",
       "    }\n",
       "</style>\n",
       "<table border=\"1\" class=\"dataframe\">\n",
       "  <thead>\n",
       "    <tr style=\"text-align: right;\">\n",
       "      <th></th>\n",
       "      <th>idtarretdestination</th>\n",
       "      <th>coursetheorique</th>\n",
       "      <th>direction</th>\n",
       "      <th>ligne</th>\n",
       "      <th>delaipassage</th>\n",
       "      <th>heurepassage</th>\n",
       "      <th>gid</th>\n",
       "      <th>last_update_fme</th>\n",
       "      <th>type</th>\n",
       "      <th>id</th>\n",
       "      <th>time_download_DDHHMMSS</th>\n",
       "      <th>Time_downLoad_DDHHMMSS</th>\n",
       "    </tr>\n",
       "  </thead>\n",
       "  <tbody>\n",
       "    <tr>\n",
       "      <th>42</th>\n",
       "      <td>30000</td>\n",
       "      <td>C3A-0276@:12:1:6</td>\n",
       "      <td>Gare Saint-Paul</td>\n",
       "      <td>C3A</td>\n",
       "      <td>Proche</td>\n",
       "      <td>2021-07-24 11:45:12</td>\n",
       "      <td>9208</td>\n",
       "      <td>2021-07-24 11:44:41</td>\n",
       "      <td>E</td>\n",
       "      <td>46307</td>\n",
       "      <td>NaN</td>\n",
       "      <td>24_11_44_47</td>\n",
       "    </tr>\n",
       "    <tr>\n",
       "      <th>43</th>\n",
       "      <td>30000</td>\n",
       "      <td>C3A-0276@:7:1:12</td>\n",
       "      <td>Gare Saint-Paul</td>\n",
       "      <td>C3A</td>\n",
       "      <td>1 min</td>\n",
       "      <td>2021-07-24 11:52:12</td>\n",
       "      <td>9209</td>\n",
       "      <td>2021-07-24 11:51:10</td>\n",
       "      <td>E</td>\n",
       "      <td>46307</td>\n",
       "      <td>NaN</td>\n",
       "      <td>24_11_51_25</td>\n",
       "    </tr>\n",
       "    <tr>\n",
       "      <th>44</th>\n",
       "      <td>30000</td>\n",
       "      <td>C3A-0276@:8:1:12</td>\n",
       "      <td>Gare Saint-Paul</td>\n",
       "      <td>C3A</td>\n",
       "      <td>1 min</td>\n",
       "      <td>2021-07-24 11:57:12</td>\n",
       "      <td>9209</td>\n",
       "      <td>2021-07-24 11:56:15</td>\n",
       "      <td>E</td>\n",
       "      <td>46307</td>\n",
       "      <td>NaN</td>\n",
       "      <td>24_11_56_30</td>\n",
       "    </tr>\n",
       "    <tr>\n",
       "      <th>45</th>\n",
       "      <td>30000</td>\n",
       "      <td>C3A-0276@:9:1:12</td>\n",
       "      <td>Gare Saint-Paul</td>\n",
       "      <td>C3A</td>\n",
       "      <td>8 min</td>\n",
       "      <td>2021-07-24 12:07:12</td>\n",
       "      <td>9223</td>\n",
       "      <td>2021-07-24 11:58:41</td>\n",
       "      <td>E</td>\n",
       "      <td>46307</td>\n",
       "      <td>NaN</td>\n",
       "      <td>24_11_58_56</td>\n",
       "    </tr>\n",
       "    <tr>\n",
       "      <th>46</th>\n",
       "      <td>30000</td>\n",
       "      <td>C3A-0276@:3:1:14</td>\n",
       "      <td>Gare Saint-Paul</td>\n",
       "      <td>C3A</td>\n",
       "      <td>14 min</td>\n",
       "      <td>2021-07-24 12:13:12</td>\n",
       "      <td>9224</td>\n",
       "      <td>2021-07-24 11:58:41</td>\n",
       "      <td>T</td>\n",
       "      <td>46307</td>\n",
       "      <td>NaN</td>\n",
       "      <td>24_11_58_56</td>\n",
       "    </tr>\n",
       "  </tbody>\n",
       "</table>\n",
       "</div>"
      ],
      "text/plain": [
       "    idtarretdestination   coursetheorique        direction ligne delaipassage  \\\n",
       "42                30000  C3A-0276@:12:1:6  Gare Saint-Paul   C3A       Proche   \n",
       "43                30000  C3A-0276@:7:1:12  Gare Saint-Paul   C3A        1 min   \n",
       "44                30000  C3A-0276@:8:1:12  Gare Saint-Paul   C3A        1 min   \n",
       "45                30000  C3A-0276@:9:1:12  Gare Saint-Paul   C3A        8 min   \n",
       "46                30000  C3A-0276@:3:1:14  Gare Saint-Paul   C3A       14 min   \n",
       "\n",
       "           heurepassage   gid      last_update_fme type     id  \\\n",
       "42  2021-07-24 11:45:12  9208  2021-07-24 11:44:41    E  46307   \n",
       "43  2021-07-24 11:52:12  9209  2021-07-24 11:51:10    E  46307   \n",
       "44  2021-07-24 11:57:12  9209  2021-07-24 11:56:15    E  46307   \n",
       "45  2021-07-24 12:07:12  9223  2021-07-24 11:58:41    E  46307   \n",
       "46  2021-07-24 12:13:12  9224  2021-07-24 11:58:41    T  46307   \n",
       "\n",
       "    time_download_DDHHMMSS Time_downLoad_DDHHMMSS  \n",
       "42                     NaN            24_11_44_47  \n",
       "43                     NaN            24_11_51_25  \n",
       "44                     NaN            24_11_56_30  \n",
       "45                     NaN            24_11_58_56  \n",
       "46                     NaN            24_11_58_56  "
      ]
     },
     "execution_count": 27,
     "metadata": {},
     "output_type": "execute_result"
    }
   ],
   "source": [
    "traffic_sam.tail()"
   ]
  },
  {
   "cell_type": "code",
   "execution_count": 28,
   "metadata": {},
   "outputs": [
    {
     "data": {
      "text/html": [
       "<div>\n",
       "<style scoped>\n",
       "    .dataframe tbody tr th:only-of-type {\n",
       "        vertical-align: middle;\n",
       "    }\n",
       "\n",
       "    .dataframe tbody tr th {\n",
       "        vertical-align: top;\n",
       "    }\n",
       "\n",
       "    .dataframe thead th {\n",
       "        text-align: right;\n",
       "    }\n",
       "</style>\n",
       "<table border=\"1\" class=\"dataframe\">\n",
       "  <thead>\n",
       "    <tr style=\"text-align: right;\">\n",
       "      <th></th>\n",
       "      <th>idtarretdestination</th>\n",
       "      <th>coursetheorique</th>\n",
       "      <th>direction</th>\n",
       "      <th>ligne</th>\n",
       "      <th>delaipassage</th>\n",
       "      <th>heurepassage</th>\n",
       "      <th>gid</th>\n",
       "      <th>last_update_fme</th>\n",
       "      <th>type</th>\n",
       "      <th>id</th>\n",
       "      <th>time_download_DDHHMMSS</th>\n",
       "      <th>Time_downLoad_DDHHMMSS</th>\n",
       "    </tr>\n",
       "  </thead>\n",
       "  <tbody>\n",
       "    <tr>\n",
       "      <th>40</th>\n",
       "      <td>30000</td>\n",
       "      <td>C3A-0276@:14:1:3</td>\n",
       "      <td>Gare Saint-Paul</td>\n",
       "      <td>C3A</td>\n",
       "      <td>2 min</td>\n",
       "      <td>2021-07-24 11:25:12</td>\n",
       "      <td>9188</td>\n",
       "      <td>2021-07-24 11:23:11</td>\n",
       "      <td>E</td>\n",
       "      <td>46307</td>\n",
       "      <td>NaN</td>\n",
       "      <td>24_11_23_22</td>\n",
       "    </tr>\n",
       "    <tr>\n",
       "      <th>41</th>\n",
       "      <td>30000</td>\n",
       "      <td>C3A-0276@:10:1:11</td>\n",
       "      <td>Gare Saint-Paul</td>\n",
       "      <td>C3A</td>\n",
       "      <td>7 min</td>\n",
       "      <td>2021-07-24 11:33:12</td>\n",
       "      <td>9184</td>\n",
       "      <td>2021-07-24 11:26:12</td>\n",
       "      <td>E</td>\n",
       "      <td>46307</td>\n",
       "      <td>NaN</td>\n",
       "      <td>24_11_26_30</td>\n",
       "    </tr>\n",
       "    <tr>\n",
       "      <th>42</th>\n",
       "      <td>30000</td>\n",
       "      <td>C3A-0276@:12:1:6</td>\n",
       "      <td>Gare Saint-Paul</td>\n",
       "      <td>C3A</td>\n",
       "      <td>Proche</td>\n",
       "      <td>2021-07-24 11:45:12</td>\n",
       "      <td>9208</td>\n",
       "      <td>2021-07-24 11:44:41</td>\n",
       "      <td>E</td>\n",
       "      <td>46307</td>\n",
       "      <td>NaN</td>\n",
       "      <td>24_11_44_47</td>\n",
       "    </tr>\n",
       "    <tr>\n",
       "      <th>43</th>\n",
       "      <td>30000</td>\n",
       "      <td>C3A-0276@:7:1:12</td>\n",
       "      <td>Gare Saint-Paul</td>\n",
       "      <td>C3A</td>\n",
       "      <td>1 min</td>\n",
       "      <td>2021-07-24 11:52:12</td>\n",
       "      <td>9209</td>\n",
       "      <td>2021-07-24 11:51:10</td>\n",
       "      <td>E</td>\n",
       "      <td>46307</td>\n",
       "      <td>NaN</td>\n",
       "      <td>24_11_51_25</td>\n",
       "    </tr>\n",
       "    <tr>\n",
       "      <th>44</th>\n",
       "      <td>30000</td>\n",
       "      <td>C3A-0276@:8:1:12</td>\n",
       "      <td>Gare Saint-Paul</td>\n",
       "      <td>C3A</td>\n",
       "      <td>1 min</td>\n",
       "      <td>2021-07-24 11:57:12</td>\n",
       "      <td>9209</td>\n",
       "      <td>2021-07-24 11:56:15</td>\n",
       "      <td>E</td>\n",
       "      <td>46307</td>\n",
       "      <td>NaN</td>\n",
       "      <td>24_11_56_30</td>\n",
       "    </tr>\n",
       "  </tbody>\n",
       "</table>\n",
       "</div>"
      ],
      "text/plain": [
       "    idtarretdestination    coursetheorique        direction ligne  \\\n",
       "40                30000   C3A-0276@:14:1:3  Gare Saint-Paul   C3A   \n",
       "41                30000  C3A-0276@:10:1:11  Gare Saint-Paul   C3A   \n",
       "42                30000   C3A-0276@:12:1:6  Gare Saint-Paul   C3A   \n",
       "43                30000   C3A-0276@:7:1:12  Gare Saint-Paul   C3A   \n",
       "44                30000   C3A-0276@:8:1:12  Gare Saint-Paul   C3A   \n",
       "\n",
       "   delaipassage         heurepassage   gid      last_update_fme type     id  \\\n",
       "40        2 min  2021-07-24 11:25:12  9188  2021-07-24 11:23:11    E  46307   \n",
       "41        7 min  2021-07-24 11:33:12  9184  2021-07-24 11:26:12    E  46307   \n",
       "42       Proche  2021-07-24 11:45:12  9208  2021-07-24 11:44:41    E  46307   \n",
       "43        1 min  2021-07-24 11:52:12  9209  2021-07-24 11:51:10    E  46307   \n",
       "44        1 min  2021-07-24 11:57:12  9209  2021-07-24 11:56:15    E  46307   \n",
       "\n",
       "    time_download_DDHHMMSS Time_downLoad_DDHHMMSS  \n",
       "40                     NaN            24_11_23_22  \n",
       "41                     NaN            24_11_26_30  \n",
       "42                     NaN            24_11_44_47  \n",
       "43                     NaN            24_11_51_25  \n",
       "44                     NaN            24_11_56_30  "
      ]
     },
     "execution_count": 28,
     "metadata": {},
     "output_type": "execute_result"
    }
   ],
   "source": [
    "# Je supprime les 2 dernières lignes (index = 45 et 46) \n",
    "traffic_sam.drop(index=[45, 46], inplace=True)\n",
    "traffic_sam.tail()"
   ]
  },
  {
   "cell_type": "markdown",
   "metadata": {},
   "source": [
    "# Fusion des 4 DataFrames"
   ]
  },
  {
   "cell_type": "code",
   "execution_count": 29,
   "metadata": {},
   "outputs": [
    {
     "name": "stdout",
     "output_type": "stream",
     "text": [
      "188\n"
     ]
    },
    {
     "data": {
      "text/html": [
       "<div>\n",
       "<style scoped>\n",
       "    .dataframe tbody tr th:only-of-type {\n",
       "        vertical-align: middle;\n",
       "    }\n",
       "\n",
       "    .dataframe tbody tr th {\n",
       "        vertical-align: top;\n",
       "    }\n",
       "\n",
       "    .dataframe thead th {\n",
       "        text-align: right;\n",
       "    }\n",
       "</style>\n",
       "<table border=\"1\" class=\"dataframe\">\n",
       "  <thead>\n",
       "    <tr style=\"text-align: right;\">\n",
       "      <th></th>\n",
       "      <th>idtarretdestination</th>\n",
       "      <th>coursetheorique</th>\n",
       "      <th>direction</th>\n",
       "      <th>ligne</th>\n",
       "      <th>delaipassage</th>\n",
       "      <th>heurepassage</th>\n",
       "      <th>gid</th>\n",
       "      <th>last_update_fme</th>\n",
       "      <th>type</th>\n",
       "      <th>id</th>\n",
       "      <th>time_download_DDHHMMSS</th>\n",
       "      <th>Time_downLoad_DDHHMMSS</th>\n",
       "    </tr>\n",
       "  </thead>\n",
       "  <tbody>\n",
       "    <tr>\n",
       "      <th>0</th>\n",
       "      <td>30000</td>\n",
       "      <td>C3A-0276@:3:1:2</td>\n",
       "      <td>Gare Saint-Paul</td>\n",
       "      <td>C3A</td>\n",
       "      <td>Proche</td>\n",
       "      <td>2021-07-24 05:12:30</td>\n",
       "      <td>7234</td>\n",
       "      <td>2021-07-24 05:12:09</td>\n",
       "      <td>E</td>\n",
       "      <td>46307</td>\n",
       "      <td>NaN</td>\n",
       "      <td>24_05_12_27</td>\n",
       "    </tr>\n",
       "    <tr>\n",
       "      <th>1</th>\n",
       "      <td>30000</td>\n",
       "      <td>C3A-0276@:1:1:2</td>\n",
       "      <td>Gare Saint-Paul</td>\n",
       "      <td>C3A</td>\n",
       "      <td>Proche</td>\n",
       "      <td>2021-07-24 05:16:30</td>\n",
       "      <td>7341</td>\n",
       "      <td>2021-07-24 05:16:11</td>\n",
       "      <td>E</td>\n",
       "      <td>46307</td>\n",
       "      <td>NaN</td>\n",
       "      <td>24_05_16_26</td>\n",
       "    </tr>\n",
       "    <tr>\n",
       "      <th>2</th>\n",
       "      <td>30000</td>\n",
       "      <td>C3A-0276@:2:1:3</td>\n",
       "      <td>Gare Saint-Paul</td>\n",
       "      <td>C3A</td>\n",
       "      <td>Proche</td>\n",
       "      <td>2021-07-24 05:37:30</td>\n",
       "      <td>7847</td>\n",
       "      <td>2021-07-24 05:37:12</td>\n",
       "      <td>E</td>\n",
       "      <td>46307</td>\n",
       "      <td>NaN</td>\n",
       "      <td>24_05_37_18</td>\n",
       "    </tr>\n",
       "    <tr>\n",
       "      <th>3</th>\n",
       "      <td>30000</td>\n",
       "      <td>C3A-0276@:6:1:2</td>\n",
       "      <td>Gare Saint-Paul</td>\n",
       "      <td>C3A</td>\n",
       "      <td>Proche</td>\n",
       "      <td>2021-07-24 05:45:30</td>\n",
       "      <td>8054</td>\n",
       "      <td>2021-07-24 05:45:39</td>\n",
       "      <td>E</td>\n",
       "      <td>46307</td>\n",
       "      <td>NaN</td>\n",
       "      <td>24_05_45_56</td>\n",
       "    </tr>\n",
       "    <tr>\n",
       "      <th>4</th>\n",
       "      <td>30000</td>\n",
       "      <td>C3A-0276@:4:1:3</td>\n",
       "      <td>Gare Saint-Paul</td>\n",
       "      <td>C3A</td>\n",
       "      <td>Proche</td>\n",
       "      <td>2021-07-24 05:51:30</td>\n",
       "      <td>8157</td>\n",
       "      <td>2021-07-24 05:51:40</td>\n",
       "      <td>E</td>\n",
       "      <td>46307</td>\n",
       "      <td>NaN</td>\n",
       "      <td>24_05_51_55</td>\n",
       "    </tr>\n",
       "  </tbody>\n",
       "</table>\n",
       "</div>"
      ],
      "text/plain": [
       "   idtarretdestination  coursetheorique        direction ligne delaipassage  \\\n",
       "0                30000  C3A-0276@:3:1:2  Gare Saint-Paul   C3A       Proche   \n",
       "1                30000  C3A-0276@:1:1:2  Gare Saint-Paul   C3A       Proche   \n",
       "2                30000  C3A-0276@:2:1:3  Gare Saint-Paul   C3A       Proche   \n",
       "3                30000  C3A-0276@:6:1:2  Gare Saint-Paul   C3A       Proche   \n",
       "4                30000  C3A-0276@:4:1:3  Gare Saint-Paul   C3A       Proche   \n",
       "\n",
       "          heurepassage   gid      last_update_fme type     id  \\\n",
       "0  2021-07-24 05:12:30  7234  2021-07-24 05:12:09    E  46307   \n",
       "1  2021-07-24 05:16:30  7341  2021-07-24 05:16:11    E  46307   \n",
       "2  2021-07-24 05:37:30  7847  2021-07-24 05:37:12    E  46307   \n",
       "3  2021-07-24 05:45:30  8054  2021-07-24 05:45:39    E  46307   \n",
       "4  2021-07-24 05:51:30  8157  2021-07-24 05:51:40    E  46307   \n",
       "\n",
       "   time_download_DDHHMMSS Time_downLoad_DDHHMMSS  \n",
       "0                     NaN            24_05_12_27  \n",
       "1                     NaN            24_05_16_26  \n",
       "2                     NaN            24_05_37_18  \n",
       "3                     NaN            24_05_45_56  \n",
       "4                     NaN            24_05_51_55  "
      ]
     },
     "execution_count": 29,
     "metadata": {},
     "output_type": "execute_result"
    }
   ],
   "source": [
    "traffic = pd.concat([traffic_sam, traffic_dim, traffic_lundi, traffic_mardi], ignore_index = True)\n",
    "print(len(traffic))\n",
    "traffic.head()"
   ]
  },
  {
   "cell_type": "markdown",
   "metadata": {},
   "source": [
    "# Comparaison de la fréquence de passage"
   ]
  },
  {
   "cell_type": "code",
   "execution_count": 30,
   "metadata": {},
   "outputs": [],
   "source": [
    "# Je convertis l'heure de passage en Datetime :\n",
    "import pandas as pd\n",
    "traffic['heurepassage'] = pd.to_datetime(traffic['heurepassage'])"
   ]
  },
  {
   "cell_type": "code",
   "execution_count": 31,
   "metadata": {},
   "outputs": [
    {
     "data": {
      "text/html": [
       "<div>\n",
       "<style scoped>\n",
       "    .dataframe tbody tr th:only-of-type {\n",
       "        vertical-align: middle;\n",
       "    }\n",
       "\n",
       "    .dataframe tbody tr th {\n",
       "        vertical-align: top;\n",
       "    }\n",
       "\n",
       "    .dataframe thead th {\n",
       "        text-align: right;\n",
       "    }\n",
       "</style>\n",
       "<table border=\"1\" class=\"dataframe\">\n",
       "  <thead>\n",
       "    <tr style=\"text-align: right;\">\n",
       "      <th></th>\n",
       "      <th>idtarretdestination</th>\n",
       "      <th>coursetheorique</th>\n",
       "      <th>direction</th>\n",
       "      <th>ligne</th>\n",
       "      <th>delaipassage</th>\n",
       "      <th>heurepassage</th>\n",
       "      <th>gid</th>\n",
       "      <th>last_update_fme</th>\n",
       "      <th>type</th>\n",
       "      <th>id</th>\n",
       "      <th>time_download_DDHHMMSS</th>\n",
       "      <th>Time_downLoad_DDHHMMSS</th>\n",
       "      <th>annee passage</th>\n",
       "      <th>mois passage</th>\n",
       "      <th>jour passage</th>\n",
       "      <th>heure passage</th>\n",
       "      <th>minute passage</th>\n",
       "    </tr>\n",
       "  </thead>\n",
       "  <tbody>\n",
       "    <tr>\n",
       "      <th>0</th>\n",
       "      <td>30000</td>\n",
       "      <td>C3A-0276@:3:1:2</td>\n",
       "      <td>Gare Saint-Paul</td>\n",
       "      <td>C3A</td>\n",
       "      <td>Proche</td>\n",
       "      <td>2021-07-24 05:12:30</td>\n",
       "      <td>7234</td>\n",
       "      <td>2021-07-24 05:12:09</td>\n",
       "      <td>E</td>\n",
       "      <td>46307</td>\n",
       "      <td>NaN</td>\n",
       "      <td>24_05_12_27</td>\n",
       "      <td>2021</td>\n",
       "      <td>7</td>\n",
       "      <td>24</td>\n",
       "      <td>5</td>\n",
       "      <td>12</td>\n",
       "    </tr>\n",
       "    <tr>\n",
       "      <th>1</th>\n",
       "      <td>30000</td>\n",
       "      <td>C3A-0276@:1:1:2</td>\n",
       "      <td>Gare Saint-Paul</td>\n",
       "      <td>C3A</td>\n",
       "      <td>Proche</td>\n",
       "      <td>2021-07-24 05:16:30</td>\n",
       "      <td>7341</td>\n",
       "      <td>2021-07-24 05:16:11</td>\n",
       "      <td>E</td>\n",
       "      <td>46307</td>\n",
       "      <td>NaN</td>\n",
       "      <td>24_05_16_26</td>\n",
       "      <td>2021</td>\n",
       "      <td>7</td>\n",
       "      <td>24</td>\n",
       "      <td>5</td>\n",
       "      <td>16</td>\n",
       "    </tr>\n",
       "    <tr>\n",
       "      <th>2</th>\n",
       "      <td>30000</td>\n",
       "      <td>C3A-0276@:2:1:3</td>\n",
       "      <td>Gare Saint-Paul</td>\n",
       "      <td>C3A</td>\n",
       "      <td>Proche</td>\n",
       "      <td>2021-07-24 05:37:30</td>\n",
       "      <td>7847</td>\n",
       "      <td>2021-07-24 05:37:12</td>\n",
       "      <td>E</td>\n",
       "      <td>46307</td>\n",
       "      <td>NaN</td>\n",
       "      <td>24_05_37_18</td>\n",
       "      <td>2021</td>\n",
       "      <td>7</td>\n",
       "      <td>24</td>\n",
       "      <td>5</td>\n",
       "      <td>37</td>\n",
       "    </tr>\n",
       "    <tr>\n",
       "      <th>3</th>\n",
       "      <td>30000</td>\n",
       "      <td>C3A-0276@:6:1:2</td>\n",
       "      <td>Gare Saint-Paul</td>\n",
       "      <td>C3A</td>\n",
       "      <td>Proche</td>\n",
       "      <td>2021-07-24 05:45:30</td>\n",
       "      <td>8054</td>\n",
       "      <td>2021-07-24 05:45:39</td>\n",
       "      <td>E</td>\n",
       "      <td>46307</td>\n",
       "      <td>NaN</td>\n",
       "      <td>24_05_45_56</td>\n",
       "      <td>2021</td>\n",
       "      <td>7</td>\n",
       "      <td>24</td>\n",
       "      <td>5</td>\n",
       "      <td>45</td>\n",
       "    </tr>\n",
       "    <tr>\n",
       "      <th>4</th>\n",
       "      <td>30000</td>\n",
       "      <td>C3A-0276@:4:1:3</td>\n",
       "      <td>Gare Saint-Paul</td>\n",
       "      <td>C3A</td>\n",
       "      <td>Proche</td>\n",
       "      <td>2021-07-24 05:51:30</td>\n",
       "      <td>8157</td>\n",
       "      <td>2021-07-24 05:51:40</td>\n",
       "      <td>E</td>\n",
       "      <td>46307</td>\n",
       "      <td>NaN</td>\n",
       "      <td>24_05_51_55</td>\n",
       "      <td>2021</td>\n",
       "      <td>7</td>\n",
       "      <td>24</td>\n",
       "      <td>5</td>\n",
       "      <td>51</td>\n",
       "    </tr>\n",
       "  </tbody>\n",
       "</table>\n",
       "</div>"
      ],
      "text/plain": [
       "   idtarretdestination  coursetheorique        direction ligne delaipassage  \\\n",
       "0                30000  C3A-0276@:3:1:2  Gare Saint-Paul   C3A       Proche   \n",
       "1                30000  C3A-0276@:1:1:2  Gare Saint-Paul   C3A       Proche   \n",
       "2                30000  C3A-0276@:2:1:3  Gare Saint-Paul   C3A       Proche   \n",
       "3                30000  C3A-0276@:6:1:2  Gare Saint-Paul   C3A       Proche   \n",
       "4                30000  C3A-0276@:4:1:3  Gare Saint-Paul   C3A       Proche   \n",
       "\n",
       "         heurepassage   gid      last_update_fme type     id  \\\n",
       "0 2021-07-24 05:12:30  7234  2021-07-24 05:12:09    E  46307   \n",
       "1 2021-07-24 05:16:30  7341  2021-07-24 05:16:11    E  46307   \n",
       "2 2021-07-24 05:37:30  7847  2021-07-24 05:37:12    E  46307   \n",
       "3 2021-07-24 05:45:30  8054  2021-07-24 05:45:39    E  46307   \n",
       "4 2021-07-24 05:51:30  8157  2021-07-24 05:51:40    E  46307   \n",
       "\n",
       "   time_download_DDHHMMSS Time_downLoad_DDHHMMSS  annee passage  mois passage  \\\n",
       "0                     NaN            24_05_12_27           2021             7   \n",
       "1                     NaN            24_05_16_26           2021             7   \n",
       "2                     NaN            24_05_37_18           2021             7   \n",
       "3                     NaN            24_05_45_56           2021             7   \n",
       "4                     NaN            24_05_51_55           2021             7   \n",
       "\n",
       "   jour passage  heure passage  minute passage  \n",
       "0            24              5              12  \n",
       "1            24              5              16  \n",
       "2            24              5              37  \n",
       "3            24              5              45  \n",
       "4            24              5              51  "
      ]
     },
     "execution_count": 31,
     "metadata": {},
     "output_type": "execute_result"
    }
   ],
   "source": [
    "# J'extrais de la colonne heure de passage l'année, le mois, le jour et la minute de passage du bus\n",
    "traffic['annee passage'] = traffic['heurepassage'].dt.year\n",
    "traffic['mois passage'] = traffic['heurepassage'].dt.month\n",
    "traffic['jour passage'] = traffic['heurepassage'].dt.day\n",
    "traffic['heure passage'] = traffic['heurepassage'].dt.hour\n",
    "traffic['minute passage'] = traffic['heurepassage'].dt.minute\n",
    "traffic.head(5)"
   ]
  },
  {
   "cell_type": "code",
   "execution_count": 32,
   "metadata": {},
   "outputs": [
    {
     "data": {
      "text/plain": [
       "'5h-6h'"
      ]
     },
     "execution_count": 32,
     "metadata": {},
     "output_type": "execute_result"
    }
   ],
   "source": [
    "def plage_horaire(heure):\n",
    "    plage = str(heure) + 'h-' + str(heure+1) + 'h'\n",
    "    return plage\n",
    "\n",
    "plage_horaire(5)"
   ]
  },
  {
   "cell_type": "code",
   "execution_count": 33,
   "metadata": {},
   "outputs": [
    {
     "data": {
      "text/plain": [
       "'samedi'"
      ]
     },
     "execution_count": 33,
     "metadata": {},
     "output_type": "execute_result"
    }
   ],
   "source": [
    "def fonc_jour(jour):\n",
    "    if jour == 24:\n",
    "        libelle_jour = 'samedi'\n",
    "    if jour == 25:\n",
    "        libelle_jour = 'dimanche'\n",
    "    if jour == 26:\n",
    "        libelle_jour = 'lundi'\n",
    "    if jour == 27:\n",
    "        libelle_jour = 'mardi'\n",
    "    return libelle_jour\n",
    "\n",
    "fonc_jour(24)"
   ]
  },
  {
   "cell_type": "code",
   "execution_count": 34,
   "metadata": {},
   "outputs": [
    {
     "data": {
      "text/html": [
       "<div>\n",
       "<style scoped>\n",
       "    .dataframe tbody tr th:only-of-type {\n",
       "        vertical-align: middle;\n",
       "    }\n",
       "\n",
       "    .dataframe tbody tr th {\n",
       "        vertical-align: top;\n",
       "    }\n",
       "\n",
       "    .dataframe thead th {\n",
       "        text-align: right;\n",
       "    }\n",
       "</style>\n",
       "<table border=\"1\" class=\"dataframe\">\n",
       "  <thead>\n",
       "    <tr style=\"text-align: right;\">\n",
       "      <th></th>\n",
       "      <th>idtarretdestination</th>\n",
       "      <th>coursetheorique</th>\n",
       "      <th>direction</th>\n",
       "      <th>ligne</th>\n",
       "      <th>delaipassage</th>\n",
       "      <th>heurepassage</th>\n",
       "      <th>gid</th>\n",
       "      <th>last_update_fme</th>\n",
       "      <th>type</th>\n",
       "      <th>id</th>\n",
       "      <th>time_download_DDHHMMSS</th>\n",
       "      <th>Time_downLoad_DDHHMMSS</th>\n",
       "      <th>annee passage</th>\n",
       "      <th>mois passage</th>\n",
       "      <th>jour passage</th>\n",
       "      <th>heure passage</th>\n",
       "      <th>minute passage</th>\n",
       "      <th>plage horaire</th>\n",
       "      <th>jour</th>\n",
       "      <th>groupement</th>\n",
       "    </tr>\n",
       "  </thead>\n",
       "  <tbody>\n",
       "    <tr>\n",
       "      <th>0</th>\n",
       "      <td>30000</td>\n",
       "      <td>C3A-0276@:3:1:2</td>\n",
       "      <td>Gare Saint-Paul</td>\n",
       "      <td>C3A</td>\n",
       "      <td>Proche</td>\n",
       "      <td>2021-07-24 05:12:30</td>\n",
       "      <td>7234</td>\n",
       "      <td>2021-07-24 05:12:09</td>\n",
       "      <td>E</td>\n",
       "      <td>46307</td>\n",
       "      <td>NaN</td>\n",
       "      <td>24_05_12_27</td>\n",
       "      <td>2021</td>\n",
       "      <td>7</td>\n",
       "      <td>24</td>\n",
       "      <td>5</td>\n",
       "      <td>12</td>\n",
       "      <td>5h-6h</td>\n",
       "      <td>samedi</td>\n",
       "      <td>detail</td>\n",
       "    </tr>\n",
       "    <tr>\n",
       "      <th>1</th>\n",
       "      <td>30000</td>\n",
       "      <td>C3A-0276@:1:1:2</td>\n",
       "      <td>Gare Saint-Paul</td>\n",
       "      <td>C3A</td>\n",
       "      <td>Proche</td>\n",
       "      <td>2021-07-24 05:16:30</td>\n",
       "      <td>7341</td>\n",
       "      <td>2021-07-24 05:16:11</td>\n",
       "      <td>E</td>\n",
       "      <td>46307</td>\n",
       "      <td>NaN</td>\n",
       "      <td>24_05_16_26</td>\n",
       "      <td>2021</td>\n",
       "      <td>7</td>\n",
       "      <td>24</td>\n",
       "      <td>5</td>\n",
       "      <td>16</td>\n",
       "      <td>5h-6h</td>\n",
       "      <td>samedi</td>\n",
       "      <td>detail</td>\n",
       "    </tr>\n",
       "    <tr>\n",
       "      <th>2</th>\n",
       "      <td>30000</td>\n",
       "      <td>C3A-0276@:2:1:3</td>\n",
       "      <td>Gare Saint-Paul</td>\n",
       "      <td>C3A</td>\n",
       "      <td>Proche</td>\n",
       "      <td>2021-07-24 05:37:30</td>\n",
       "      <td>7847</td>\n",
       "      <td>2021-07-24 05:37:12</td>\n",
       "      <td>E</td>\n",
       "      <td>46307</td>\n",
       "      <td>NaN</td>\n",
       "      <td>24_05_37_18</td>\n",
       "      <td>2021</td>\n",
       "      <td>7</td>\n",
       "      <td>24</td>\n",
       "      <td>5</td>\n",
       "      <td>37</td>\n",
       "      <td>5h-6h</td>\n",
       "      <td>samedi</td>\n",
       "      <td>detail</td>\n",
       "    </tr>\n",
       "    <tr>\n",
       "      <th>3</th>\n",
       "      <td>30000</td>\n",
       "      <td>C3A-0276@:6:1:2</td>\n",
       "      <td>Gare Saint-Paul</td>\n",
       "      <td>C3A</td>\n",
       "      <td>Proche</td>\n",
       "      <td>2021-07-24 05:45:30</td>\n",
       "      <td>8054</td>\n",
       "      <td>2021-07-24 05:45:39</td>\n",
       "      <td>E</td>\n",
       "      <td>46307</td>\n",
       "      <td>NaN</td>\n",
       "      <td>24_05_45_56</td>\n",
       "      <td>2021</td>\n",
       "      <td>7</td>\n",
       "      <td>24</td>\n",
       "      <td>5</td>\n",
       "      <td>45</td>\n",
       "      <td>5h-6h</td>\n",
       "      <td>samedi</td>\n",
       "      <td>detail</td>\n",
       "    </tr>\n",
       "    <tr>\n",
       "      <th>4</th>\n",
       "      <td>30000</td>\n",
       "      <td>C3A-0276@:4:1:3</td>\n",
       "      <td>Gare Saint-Paul</td>\n",
       "      <td>C3A</td>\n",
       "      <td>Proche</td>\n",
       "      <td>2021-07-24 05:51:30</td>\n",
       "      <td>8157</td>\n",
       "      <td>2021-07-24 05:51:40</td>\n",
       "      <td>E</td>\n",
       "      <td>46307</td>\n",
       "      <td>NaN</td>\n",
       "      <td>24_05_51_55</td>\n",
       "      <td>2021</td>\n",
       "      <td>7</td>\n",
       "      <td>24</td>\n",
       "      <td>5</td>\n",
       "      <td>51</td>\n",
       "      <td>5h-6h</td>\n",
       "      <td>samedi</td>\n",
       "      <td>detail</td>\n",
       "    </tr>\n",
       "    <tr>\n",
       "      <th>5</th>\n",
       "      <td>30000</td>\n",
       "      <td>C3A-0276@:5:1:3</td>\n",
       "      <td>Gare Saint-Paul</td>\n",
       "      <td>C3A</td>\n",
       "      <td>Proche</td>\n",
       "      <td>2021-07-24 06:07:30</td>\n",
       "      <td>8375</td>\n",
       "      <td>2021-07-24 06:07:40</td>\n",
       "      <td>E</td>\n",
       "      <td>46307</td>\n",
       "      <td>NaN</td>\n",
       "      <td>24_06_07_50</td>\n",
       "      <td>2021</td>\n",
       "      <td>7</td>\n",
       "      <td>24</td>\n",
       "      <td>6</td>\n",
       "      <td>7</td>\n",
       "      <td>6h-7h</td>\n",
       "      <td>samedi</td>\n",
       "      <td>detail</td>\n",
       "    </tr>\n",
       "    <tr>\n",
       "      <th>6</th>\n",
       "      <td>30000</td>\n",
       "      <td>C3A-0276@:10:1:2</td>\n",
       "      <td>Gare Saint-Paul</td>\n",
       "      <td>C3A</td>\n",
       "      <td>3 min</td>\n",
       "      <td>2021-07-24 06:15:30</td>\n",
       "      <td>8434</td>\n",
       "      <td>2021-07-24 06:12:40</td>\n",
       "      <td>E</td>\n",
       "      <td>46307</td>\n",
       "      <td>NaN</td>\n",
       "      <td>24_06_12_42</td>\n",
       "      <td>2021</td>\n",
       "      <td>7</td>\n",
       "      <td>24</td>\n",
       "      <td>6</td>\n",
       "      <td>15</td>\n",
       "      <td>6h-7h</td>\n",
       "      <td>samedi</td>\n",
       "      <td>detail</td>\n",
       "    </tr>\n",
       "    <tr>\n",
       "      <th>7</th>\n",
       "      <td>30000</td>\n",
       "      <td>C3A-0276@:7:1:3</td>\n",
       "      <td>Gare Saint-Paul</td>\n",
       "      <td>C3A</td>\n",
       "      <td>Proche</td>\n",
       "      <td>2021-07-24 06:21:30</td>\n",
       "      <td>8533</td>\n",
       "      <td>2021-07-24 06:21:40</td>\n",
       "      <td>E</td>\n",
       "      <td>46307</td>\n",
       "      <td>NaN</td>\n",
       "      <td>24_06_22_04</td>\n",
       "      <td>2021</td>\n",
       "      <td>7</td>\n",
       "      <td>24</td>\n",
       "      <td>6</td>\n",
       "      <td>21</td>\n",
       "      <td>6h-7h</td>\n",
       "      <td>samedi</td>\n",
       "      <td>detail</td>\n",
       "    </tr>\n",
       "    <tr>\n",
       "      <th>8</th>\n",
       "      <td>30000</td>\n",
       "      <td>C3A-0276@:8:1:3</td>\n",
       "      <td>Gare Saint-Paul</td>\n",
       "      <td>C3A</td>\n",
       "      <td>Proche</td>\n",
       "      <td>2021-07-24 06:35:30</td>\n",
       "      <td>8569</td>\n",
       "      <td>2021-07-24 06:35:40</td>\n",
       "      <td>E</td>\n",
       "      <td>46307</td>\n",
       "      <td>NaN</td>\n",
       "      <td>24_06_36_03</td>\n",
       "      <td>2021</td>\n",
       "      <td>7</td>\n",
       "      <td>24</td>\n",
       "      <td>6</td>\n",
       "      <td>35</td>\n",
       "      <td>6h-7h</td>\n",
       "      <td>samedi</td>\n",
       "      <td>detail</td>\n",
       "    </tr>\n",
       "    <tr>\n",
       "      <th>9</th>\n",
       "      <td>30000</td>\n",
       "      <td>C3A-0276@:9:1:3</td>\n",
       "      <td>Gare Saint-Paul</td>\n",
       "      <td>C3A</td>\n",
       "      <td>Proche</td>\n",
       "      <td>2021-07-24 06:45:30</td>\n",
       "      <td>8648</td>\n",
       "      <td>2021-07-24 06:45:40</td>\n",
       "      <td>E</td>\n",
       "      <td>46307</td>\n",
       "      <td>NaN</td>\n",
       "      <td>24_06_46_05</td>\n",
       "      <td>2021</td>\n",
       "      <td>7</td>\n",
       "      <td>24</td>\n",
       "      <td>6</td>\n",
       "      <td>45</td>\n",
       "      <td>6h-7h</td>\n",
       "      <td>samedi</td>\n",
       "      <td>detail</td>\n",
       "    </tr>\n",
       "    <tr>\n",
       "      <th>10</th>\n",
       "      <td>30000</td>\n",
       "      <td>C3A-0276@:3:1:5</td>\n",
       "      <td>Gare Saint-Paul</td>\n",
       "      <td>C3A</td>\n",
       "      <td>Proche</td>\n",
       "      <td>2021-07-24 06:54:30</td>\n",
       "      <td>8704</td>\n",
       "      <td>2021-07-24 06:54:40</td>\n",
       "      <td>E</td>\n",
       "      <td>46307</td>\n",
       "      <td>NaN</td>\n",
       "      <td>24_06_54_53</td>\n",
       "      <td>2021</td>\n",
       "      <td>7</td>\n",
       "      <td>24</td>\n",
       "      <td>6</td>\n",
       "      <td>54</td>\n",
       "      <td>6h-7h</td>\n",
       "      <td>samedi</td>\n",
       "      <td>detail</td>\n",
       "    </tr>\n",
       "    <tr>\n",
       "      <th>11</th>\n",
       "      <td>30000</td>\n",
       "      <td>C3A-0276@:1:1:5</td>\n",
       "      <td>Gare Saint-Paul</td>\n",
       "      <td>C3A</td>\n",
       "      <td>2 min</td>\n",
       "      <td>2021-07-24 07:06:30</td>\n",
       "      <td>8706</td>\n",
       "      <td>2021-07-24 07:04:10</td>\n",
       "      <td>E</td>\n",
       "      <td>46307</td>\n",
       "      <td>NaN</td>\n",
       "      <td>24_07_04_11</td>\n",
       "      <td>2021</td>\n",
       "      <td>7</td>\n",
       "      <td>24</td>\n",
       "      <td>7</td>\n",
       "      <td>6</td>\n",
       "      <td>7h-8h</td>\n",
       "      <td>samedi</td>\n",
       "      <td>detail</td>\n",
       "    </tr>\n",
       "    <tr>\n",
       "      <th>12</th>\n",
       "      <td>30000</td>\n",
       "      <td>C3A-0276@:2:1:6</td>\n",
       "      <td>Gare Saint-Paul</td>\n",
       "      <td>C3A</td>\n",
       "      <td>Proche</td>\n",
       "      <td>2021-07-24 07:15:30</td>\n",
       "      <td>8736</td>\n",
       "      <td>2021-07-24 07:15:15</td>\n",
       "      <td>E</td>\n",
       "      <td>46307</td>\n",
       "      <td>NaN</td>\n",
       "      <td>24_07_15_25</td>\n",
       "      <td>2021</td>\n",
       "      <td>7</td>\n",
       "      <td>24</td>\n",
       "      <td>7</td>\n",
       "      <td>15</td>\n",
       "      <td>7h-8h</td>\n",
       "      <td>samedi</td>\n",
       "      <td>detail</td>\n",
       "    </tr>\n",
       "    <tr>\n",
       "      <th>13</th>\n",
       "      <td>30000</td>\n",
       "      <td>C3A-0276@:6:1:5</td>\n",
       "      <td>Gare Saint-Paul</td>\n",
       "      <td>C3A</td>\n",
       "      <td>4 min</td>\n",
       "      <td>2021-07-24 07:24:30</td>\n",
       "      <td>8760</td>\n",
       "      <td>2021-07-24 07:20:41</td>\n",
       "      <td>E</td>\n",
       "      <td>46307</td>\n",
       "      <td>NaN</td>\n",
       "      <td>24_07_21_03</td>\n",
       "      <td>2021</td>\n",
       "      <td>7</td>\n",
       "      <td>24</td>\n",
       "      <td>7</td>\n",
       "      <td>24</td>\n",
       "      <td>7h-8h</td>\n",
       "      <td>samedi</td>\n",
       "      <td>detail</td>\n",
       "    </tr>\n",
       "    <tr>\n",
       "      <th>14</th>\n",
       "      <td>30000</td>\n",
       "      <td>C3A-0276@:4:1:6</td>\n",
       "      <td>Gare Saint-Paul</td>\n",
       "      <td>C3A</td>\n",
       "      <td>11 min</td>\n",
       "      <td>2021-07-24 07:36:30</td>\n",
       "      <td>8737</td>\n",
       "      <td>2021-07-24 07:25:40</td>\n",
       "      <td>E</td>\n",
       "      <td>46307</td>\n",
       "      <td>NaN</td>\n",
       "      <td>24_07_26_04</td>\n",
       "      <td>2021</td>\n",
       "      <td>7</td>\n",
       "      <td>24</td>\n",
       "      <td>7</td>\n",
       "      <td>36</td>\n",
       "      <td>7h-8h</td>\n",
       "      <td>samedi</td>\n",
       "      <td>detail</td>\n",
       "    </tr>\n",
       "  </tbody>\n",
       "</table>\n",
       "</div>"
      ],
      "text/plain": [
       "    idtarretdestination   coursetheorique        direction ligne delaipassage  \\\n",
       "0                 30000   C3A-0276@:3:1:2  Gare Saint-Paul   C3A       Proche   \n",
       "1                 30000   C3A-0276@:1:1:2  Gare Saint-Paul   C3A       Proche   \n",
       "2                 30000   C3A-0276@:2:1:3  Gare Saint-Paul   C3A       Proche   \n",
       "3                 30000   C3A-0276@:6:1:2  Gare Saint-Paul   C3A       Proche   \n",
       "4                 30000   C3A-0276@:4:1:3  Gare Saint-Paul   C3A       Proche   \n",
       "5                 30000   C3A-0276@:5:1:3  Gare Saint-Paul   C3A       Proche   \n",
       "6                 30000  C3A-0276@:10:1:2  Gare Saint-Paul   C3A        3 min   \n",
       "7                 30000   C3A-0276@:7:1:3  Gare Saint-Paul   C3A       Proche   \n",
       "8                 30000   C3A-0276@:8:1:3  Gare Saint-Paul   C3A       Proche   \n",
       "9                 30000   C3A-0276@:9:1:3  Gare Saint-Paul   C3A       Proche   \n",
       "10                30000   C3A-0276@:3:1:5  Gare Saint-Paul   C3A       Proche   \n",
       "11                30000   C3A-0276@:1:1:5  Gare Saint-Paul   C3A        2 min   \n",
       "12                30000   C3A-0276@:2:1:6  Gare Saint-Paul   C3A       Proche   \n",
       "13                30000   C3A-0276@:6:1:5  Gare Saint-Paul   C3A        4 min   \n",
       "14                30000   C3A-0276@:4:1:6  Gare Saint-Paul   C3A       11 min   \n",
       "\n",
       "          heurepassage   gid      last_update_fme type     id  \\\n",
       "0  2021-07-24 05:12:30  7234  2021-07-24 05:12:09    E  46307   \n",
       "1  2021-07-24 05:16:30  7341  2021-07-24 05:16:11    E  46307   \n",
       "2  2021-07-24 05:37:30  7847  2021-07-24 05:37:12    E  46307   \n",
       "3  2021-07-24 05:45:30  8054  2021-07-24 05:45:39    E  46307   \n",
       "4  2021-07-24 05:51:30  8157  2021-07-24 05:51:40    E  46307   \n",
       "5  2021-07-24 06:07:30  8375  2021-07-24 06:07:40    E  46307   \n",
       "6  2021-07-24 06:15:30  8434  2021-07-24 06:12:40    E  46307   \n",
       "7  2021-07-24 06:21:30  8533  2021-07-24 06:21:40    E  46307   \n",
       "8  2021-07-24 06:35:30  8569  2021-07-24 06:35:40    E  46307   \n",
       "9  2021-07-24 06:45:30  8648  2021-07-24 06:45:40    E  46307   \n",
       "10 2021-07-24 06:54:30  8704  2021-07-24 06:54:40    E  46307   \n",
       "11 2021-07-24 07:06:30  8706  2021-07-24 07:04:10    E  46307   \n",
       "12 2021-07-24 07:15:30  8736  2021-07-24 07:15:15    E  46307   \n",
       "13 2021-07-24 07:24:30  8760  2021-07-24 07:20:41    E  46307   \n",
       "14 2021-07-24 07:36:30  8737  2021-07-24 07:25:40    E  46307   \n",
       "\n",
       "    time_download_DDHHMMSS Time_downLoad_DDHHMMSS  annee passage  \\\n",
       "0                      NaN            24_05_12_27           2021   \n",
       "1                      NaN            24_05_16_26           2021   \n",
       "2                      NaN            24_05_37_18           2021   \n",
       "3                      NaN            24_05_45_56           2021   \n",
       "4                      NaN            24_05_51_55           2021   \n",
       "5                      NaN            24_06_07_50           2021   \n",
       "6                      NaN            24_06_12_42           2021   \n",
       "7                      NaN            24_06_22_04           2021   \n",
       "8                      NaN            24_06_36_03           2021   \n",
       "9                      NaN            24_06_46_05           2021   \n",
       "10                     NaN            24_06_54_53           2021   \n",
       "11                     NaN            24_07_04_11           2021   \n",
       "12                     NaN            24_07_15_25           2021   \n",
       "13                     NaN            24_07_21_03           2021   \n",
       "14                     NaN            24_07_26_04           2021   \n",
       "\n",
       "    mois passage  jour passage  heure passage  minute passage plage horaire  \\\n",
       "0              7            24              5              12         5h-6h   \n",
       "1              7            24              5              16         5h-6h   \n",
       "2              7            24              5              37         5h-6h   \n",
       "3              7            24              5              45         5h-6h   \n",
       "4              7            24              5              51         5h-6h   \n",
       "5              7            24              6               7         6h-7h   \n",
       "6              7            24              6              15         6h-7h   \n",
       "7              7            24              6              21         6h-7h   \n",
       "8              7            24              6              35         6h-7h   \n",
       "9              7            24              6              45         6h-7h   \n",
       "10             7            24              6              54         6h-7h   \n",
       "11             7            24              7               6         7h-8h   \n",
       "12             7            24              7              15         7h-8h   \n",
       "13             7            24              7              24         7h-8h   \n",
       "14             7            24              7              36         7h-8h   \n",
       "\n",
       "      jour groupement  \n",
       "0   samedi     detail  \n",
       "1   samedi     detail  \n",
       "2   samedi     detail  \n",
       "3   samedi     detail  \n",
       "4   samedi     detail  \n",
       "5   samedi     detail  \n",
       "6   samedi     detail  \n",
       "7   samedi     detail  \n",
       "8   samedi     detail  \n",
       "9   samedi     detail  \n",
       "10  samedi     detail  \n",
       "11  samedi     detail  \n",
       "12  samedi     detail  \n",
       "13  samedi     detail  \n",
       "14  samedi     detail  "
      ]
     },
     "execution_count": 34,
     "metadata": {},
     "output_type": "execute_result"
    }
   ],
   "source": [
    "traffic['plage horaire'] = \"\"\n",
    "traffic['plage horaire'] = traffic['heure passage'].apply(plage_horaire)\n",
    "traffic['jour'] = traffic['jour passage'].apply(fonc_jour)\n",
    "traffic['groupement'] = 'detail'\n",
    "traffic.head(15)"
   ]
  },
  {
   "cell_type": "code",
   "execution_count": 35,
   "metadata": {},
   "outputs": [
    {
     "data": {
      "text/html": [
       "<div>\n",
       "<style scoped>\n",
       "    .dataframe tbody tr th:only-of-type {\n",
       "        vertical-align: middle;\n",
       "    }\n",
       "\n",
       "    .dataframe tbody tr th {\n",
       "        vertical-align: top;\n",
       "    }\n",
       "\n",
       "    .dataframe thead th {\n",
       "        text-align: right;\n",
       "    }\n",
       "</style>\n",
       "<table border=\"1\" class=\"dataframe\">\n",
       "  <thead>\n",
       "    <tr style=\"text-align: right;\">\n",
       "      <th></th>\n",
       "      <th>ligne</th>\n",
       "      <th>jour passage</th>\n",
       "      <th>jour</th>\n",
       "      <th>heure passage</th>\n",
       "      <th>plage horaire</th>\n",
       "      <th>coursetheorique</th>\n",
       "    </tr>\n",
       "  </thead>\n",
       "  <tbody>\n",
       "    <tr>\n",
       "      <th>0</th>\n",
       "      <td>C3A</td>\n",
       "      <td>24</td>\n",
       "      <td>samedi</td>\n",
       "      <td>5</td>\n",
       "      <td>5h-6h</td>\n",
       "      <td>5</td>\n",
       "    </tr>\n",
       "    <tr>\n",
       "      <th>1</th>\n",
       "      <td>C3A</td>\n",
       "      <td>24</td>\n",
       "      <td>samedi</td>\n",
       "      <td>6</td>\n",
       "      <td>6h-7h</td>\n",
       "      <td>6</td>\n",
       "    </tr>\n",
       "    <tr>\n",
       "      <th>2</th>\n",
       "      <td>C3A</td>\n",
       "      <td>24</td>\n",
       "      <td>samedi</td>\n",
       "      <td>7</td>\n",
       "      <td>7h-8h</td>\n",
       "      <td>6</td>\n",
       "    </tr>\n",
       "    <tr>\n",
       "      <th>3</th>\n",
       "      <td>C3A</td>\n",
       "      <td>24</td>\n",
       "      <td>samedi</td>\n",
       "      <td>8</td>\n",
       "      <td>8h-9h</td>\n",
       "      <td>6</td>\n",
       "    </tr>\n",
       "    <tr>\n",
       "      <th>4</th>\n",
       "      <td>C3A</td>\n",
       "      <td>24</td>\n",
       "      <td>samedi</td>\n",
       "      <td>9</td>\n",
       "      <td>9h-10h</td>\n",
       "      <td>7</td>\n",
       "    </tr>\n",
       "    <tr>\n",
       "      <th>5</th>\n",
       "      <td>C3A</td>\n",
       "      <td>24</td>\n",
       "      <td>samedi</td>\n",
       "      <td>10</td>\n",
       "      <td>10h-11h</td>\n",
       "      <td>8</td>\n",
       "    </tr>\n",
       "    <tr>\n",
       "      <th>6</th>\n",
       "      <td>C3A</td>\n",
       "      <td>24</td>\n",
       "      <td>samedi</td>\n",
       "      <td>11</td>\n",
       "      <td>11h-12h</td>\n",
       "      <td>7</td>\n",
       "    </tr>\n",
       "    <tr>\n",
       "      <th>7</th>\n",
       "      <td>C3A</td>\n",
       "      <td>25</td>\n",
       "      <td>dimanche</td>\n",
       "      <td>6</td>\n",
       "      <td>6h-7h</td>\n",
       "      <td>3</td>\n",
       "    </tr>\n",
       "    <tr>\n",
       "      <th>8</th>\n",
       "      <td>C3A</td>\n",
       "      <td>25</td>\n",
       "      <td>dimanche</td>\n",
       "      <td>7</td>\n",
       "      <td>7h-8h</td>\n",
       "      <td>7</td>\n",
       "    </tr>\n",
       "    <tr>\n",
       "      <th>9</th>\n",
       "      <td>C3A</td>\n",
       "      <td>25</td>\n",
       "      <td>dimanche</td>\n",
       "      <td>8</td>\n",
       "      <td>8h-9h</td>\n",
       "      <td>5</td>\n",
       "    </tr>\n",
       "    <tr>\n",
       "      <th>10</th>\n",
       "      <td>C3A</td>\n",
       "      <td>25</td>\n",
       "      <td>dimanche</td>\n",
       "      <td>9</td>\n",
       "      <td>9h-10h</td>\n",
       "      <td>6</td>\n",
       "    </tr>\n",
       "    <tr>\n",
       "      <th>11</th>\n",
       "      <td>C3A</td>\n",
       "      <td>25</td>\n",
       "      <td>dimanche</td>\n",
       "      <td>10</td>\n",
       "      <td>10h-11h</td>\n",
       "      <td>6</td>\n",
       "    </tr>\n",
       "    <tr>\n",
       "      <th>12</th>\n",
       "      <td>C3A</td>\n",
       "      <td>25</td>\n",
       "      <td>dimanche</td>\n",
       "      <td>11</td>\n",
       "      <td>11h-12h</td>\n",
       "      <td>6</td>\n",
       "    </tr>\n",
       "    <tr>\n",
       "      <th>13</th>\n",
       "      <td>C3A</td>\n",
       "      <td>26</td>\n",
       "      <td>lundi</td>\n",
       "      <td>5</td>\n",
       "      <td>5h-6h</td>\n",
       "      <td>4</td>\n",
       "    </tr>\n",
       "    <tr>\n",
       "      <th>14</th>\n",
       "      <td>C3A</td>\n",
       "      <td>26</td>\n",
       "      <td>lundi</td>\n",
       "      <td>6</td>\n",
       "      <td>6h-7h</td>\n",
       "      <td>9</td>\n",
       "    </tr>\n",
       "    <tr>\n",
       "      <th>15</th>\n",
       "      <td>C3A</td>\n",
       "      <td>26</td>\n",
       "      <td>lundi</td>\n",
       "      <td>7</td>\n",
       "      <td>7h-8h</td>\n",
       "      <td>8</td>\n",
       "    </tr>\n",
       "    <tr>\n",
       "      <th>16</th>\n",
       "      <td>C3A</td>\n",
       "      <td>26</td>\n",
       "      <td>lundi</td>\n",
       "      <td>8</td>\n",
       "      <td>8h-9h</td>\n",
       "      <td>9</td>\n",
       "    </tr>\n",
       "    <tr>\n",
       "      <th>17</th>\n",
       "      <td>C3A</td>\n",
       "      <td>26</td>\n",
       "      <td>lundi</td>\n",
       "      <td>9</td>\n",
       "      <td>9h-10h</td>\n",
       "      <td>8</td>\n",
       "    </tr>\n",
       "    <tr>\n",
       "      <th>18</th>\n",
       "      <td>C3A</td>\n",
       "      <td>26</td>\n",
       "      <td>lundi</td>\n",
       "      <td>10</td>\n",
       "      <td>10h-11h</td>\n",
       "      <td>7</td>\n",
       "    </tr>\n",
       "    <tr>\n",
       "      <th>19</th>\n",
       "      <td>C3A</td>\n",
       "      <td>26</td>\n",
       "      <td>lundi</td>\n",
       "      <td>11</td>\n",
       "      <td>11h-12h</td>\n",
       "      <td>10</td>\n",
       "    </tr>\n",
       "    <tr>\n",
       "      <th>20</th>\n",
       "      <td>C3A</td>\n",
       "      <td>27</td>\n",
       "      <td>mardi</td>\n",
       "      <td>5</td>\n",
       "      <td>5h-6h</td>\n",
       "      <td>4</td>\n",
       "    </tr>\n",
       "    <tr>\n",
       "      <th>21</th>\n",
       "      <td>C3A</td>\n",
       "      <td>27</td>\n",
       "      <td>mardi</td>\n",
       "      <td>6</td>\n",
       "      <td>6h-7h</td>\n",
       "      <td>9</td>\n",
       "    </tr>\n",
       "    <tr>\n",
       "      <th>22</th>\n",
       "      <td>C3A</td>\n",
       "      <td>27</td>\n",
       "      <td>mardi</td>\n",
       "      <td>7</td>\n",
       "      <td>7h-8h</td>\n",
       "      <td>8</td>\n",
       "    </tr>\n",
       "    <tr>\n",
       "      <th>23</th>\n",
       "      <td>C3A</td>\n",
       "      <td>27</td>\n",
       "      <td>mardi</td>\n",
       "      <td>8</td>\n",
       "      <td>8h-9h</td>\n",
       "      <td>8</td>\n",
       "    </tr>\n",
       "    <tr>\n",
       "      <th>24</th>\n",
       "      <td>C3A</td>\n",
       "      <td>27</td>\n",
       "      <td>mardi</td>\n",
       "      <td>9</td>\n",
       "      <td>9h-10h</td>\n",
       "      <td>9</td>\n",
       "    </tr>\n",
       "    <tr>\n",
       "      <th>25</th>\n",
       "      <td>C3A</td>\n",
       "      <td>27</td>\n",
       "      <td>mardi</td>\n",
       "      <td>10</td>\n",
       "      <td>10h-11h</td>\n",
       "      <td>8</td>\n",
       "    </tr>\n",
       "    <tr>\n",
       "      <th>26</th>\n",
       "      <td>C3A</td>\n",
       "      <td>27</td>\n",
       "      <td>mardi</td>\n",
       "      <td>11</td>\n",
       "      <td>11h-12h</td>\n",
       "      <td>9</td>\n",
       "    </tr>\n",
       "  </tbody>\n",
       "</table>\n",
       "</div>"
      ],
      "text/plain": [
       "   ligne  jour passage      jour  heure passage plage horaire  coursetheorique\n",
       "0    C3A            24    samedi              5         5h-6h                5\n",
       "1    C3A            24    samedi              6         6h-7h                6\n",
       "2    C3A            24    samedi              7         7h-8h                6\n",
       "3    C3A            24    samedi              8         8h-9h                6\n",
       "4    C3A            24    samedi              9        9h-10h                7\n",
       "5    C3A            24    samedi             10       10h-11h                8\n",
       "6    C3A            24    samedi             11       11h-12h                7\n",
       "7    C3A            25  dimanche              6         6h-7h                3\n",
       "8    C3A            25  dimanche              7         7h-8h                7\n",
       "9    C3A            25  dimanche              8         8h-9h                5\n",
       "10   C3A            25  dimanche              9        9h-10h                6\n",
       "11   C3A            25  dimanche             10       10h-11h                6\n",
       "12   C3A            25  dimanche             11       11h-12h                6\n",
       "13   C3A            26     lundi              5         5h-6h                4\n",
       "14   C3A            26     lundi              6         6h-7h                9\n",
       "15   C3A            26     lundi              7         7h-8h                8\n",
       "16   C3A            26     lundi              8         8h-9h                9\n",
       "17   C3A            26     lundi              9        9h-10h                8\n",
       "18   C3A            26     lundi             10       10h-11h                7\n",
       "19   C3A            26     lundi             11       11h-12h               10\n",
       "20   C3A            27     mardi              5         5h-6h                4\n",
       "21   C3A            27     mardi              6         6h-7h                9\n",
       "22   C3A            27     mardi              7         7h-8h                8\n",
       "23   C3A            27     mardi              8         8h-9h                8\n",
       "24   C3A            27     mardi              9        9h-10h                9\n",
       "25   C3A            27     mardi             10       10h-11h                8\n",
       "26   C3A            27     mardi             11       11h-12h                9"
      ]
     },
     "execution_count": 35,
     "metadata": {},
     "output_type": "execute_result"
    }
   ],
   "source": [
    "# Pivot_Table\n",
    "traffic_pivot = traffic.pivot_table(index = (\"ligne\", \"jour passage\", \"jour\", \"heure passage\", \"plage horaire\"), values=\"coursetheorique\", aggfunc = \"count\")\n",
    "traffic_pivot = traffic_pivot.reset_index()\n",
    "traffic_pivot"
   ]
  },
  {
   "cell_type": "code",
   "execution_count": 36,
   "metadata": {},
   "outputs": [
    {
     "name": "stdout",
     "output_type": "stream",
     "text": [
      "188\n"
     ]
    },
    {
     "data": {
      "text/html": [
       "<div>\n",
       "<style scoped>\n",
       "    .dataframe tbody tr th:only-of-type {\n",
       "        vertical-align: middle;\n",
       "    }\n",
       "\n",
       "    .dataframe tbody tr th {\n",
       "        vertical-align: top;\n",
       "    }\n",
       "\n",
       "    .dataframe thead th {\n",
       "        text-align: right;\n",
       "    }\n",
       "</style>\n",
       "<table border=\"1\" class=\"dataframe\">\n",
       "  <thead>\n",
       "    <tr style=\"text-align: right;\">\n",
       "      <th></th>\n",
       "      <th>ligne</th>\n",
       "      <th>jour passage</th>\n",
       "      <th>jour</th>\n",
       "      <th>heure passage</th>\n",
       "      <th>plage horaire</th>\n",
       "      <th>nombre de bus</th>\n",
       "    </tr>\n",
       "  </thead>\n",
       "  <tbody>\n",
       "    <tr>\n",
       "      <th>0</th>\n",
       "      <td>C3A</td>\n",
       "      <td>24</td>\n",
       "      <td>samedi</td>\n",
       "      <td>5</td>\n",
       "      <td>5h-6h</td>\n",
       "      <td>5</td>\n",
       "    </tr>\n",
       "    <tr>\n",
       "      <th>1</th>\n",
       "      <td>C3A</td>\n",
       "      <td>24</td>\n",
       "      <td>samedi</td>\n",
       "      <td>6</td>\n",
       "      <td>6h-7h</td>\n",
       "      <td>6</td>\n",
       "    </tr>\n",
       "    <tr>\n",
       "      <th>2</th>\n",
       "      <td>C3A</td>\n",
       "      <td>24</td>\n",
       "      <td>samedi</td>\n",
       "      <td>7</td>\n",
       "      <td>7h-8h</td>\n",
       "      <td>6</td>\n",
       "    </tr>\n",
       "    <tr>\n",
       "      <th>3</th>\n",
       "      <td>C3A</td>\n",
       "      <td>24</td>\n",
       "      <td>samedi</td>\n",
       "      <td>8</td>\n",
       "      <td>8h-9h</td>\n",
       "      <td>6</td>\n",
       "    </tr>\n",
       "    <tr>\n",
       "      <th>4</th>\n",
       "      <td>C3A</td>\n",
       "      <td>24</td>\n",
       "      <td>samedi</td>\n",
       "      <td>9</td>\n",
       "      <td>9h-10h</td>\n",
       "      <td>7</td>\n",
       "    </tr>\n",
       "    <tr>\n",
       "      <th>5</th>\n",
       "      <td>C3A</td>\n",
       "      <td>24</td>\n",
       "      <td>samedi</td>\n",
       "      <td>10</td>\n",
       "      <td>10h-11h</td>\n",
       "      <td>8</td>\n",
       "    </tr>\n",
       "    <tr>\n",
       "      <th>6</th>\n",
       "      <td>C3A</td>\n",
       "      <td>24</td>\n",
       "      <td>samedi</td>\n",
       "      <td>11</td>\n",
       "      <td>11h-12h</td>\n",
       "      <td>7</td>\n",
       "    </tr>\n",
       "    <tr>\n",
       "      <th>7</th>\n",
       "      <td>C3A</td>\n",
       "      <td>25</td>\n",
       "      <td>dimanche</td>\n",
       "      <td>6</td>\n",
       "      <td>6h-7h</td>\n",
       "      <td>3</td>\n",
       "    </tr>\n",
       "    <tr>\n",
       "      <th>8</th>\n",
       "      <td>C3A</td>\n",
       "      <td>25</td>\n",
       "      <td>dimanche</td>\n",
       "      <td>7</td>\n",
       "      <td>7h-8h</td>\n",
       "      <td>7</td>\n",
       "    </tr>\n",
       "    <tr>\n",
       "      <th>9</th>\n",
       "      <td>C3A</td>\n",
       "      <td>25</td>\n",
       "      <td>dimanche</td>\n",
       "      <td>8</td>\n",
       "      <td>8h-9h</td>\n",
       "      <td>5</td>\n",
       "    </tr>\n",
       "    <tr>\n",
       "      <th>10</th>\n",
       "      <td>C3A</td>\n",
       "      <td>25</td>\n",
       "      <td>dimanche</td>\n",
       "      <td>9</td>\n",
       "      <td>9h-10h</td>\n",
       "      <td>6</td>\n",
       "    </tr>\n",
       "    <tr>\n",
       "      <th>11</th>\n",
       "      <td>C3A</td>\n",
       "      <td>25</td>\n",
       "      <td>dimanche</td>\n",
       "      <td>10</td>\n",
       "      <td>10h-11h</td>\n",
       "      <td>6</td>\n",
       "    </tr>\n",
       "    <tr>\n",
       "      <th>12</th>\n",
       "      <td>C3A</td>\n",
       "      <td>25</td>\n",
       "      <td>dimanche</td>\n",
       "      <td>11</td>\n",
       "      <td>11h-12h</td>\n",
       "      <td>6</td>\n",
       "    </tr>\n",
       "    <tr>\n",
       "      <th>13</th>\n",
       "      <td>C3A</td>\n",
       "      <td>26</td>\n",
       "      <td>lundi</td>\n",
       "      <td>5</td>\n",
       "      <td>5h-6h</td>\n",
       "      <td>4</td>\n",
       "    </tr>\n",
       "    <tr>\n",
       "      <th>14</th>\n",
       "      <td>C3A</td>\n",
       "      <td>26</td>\n",
       "      <td>lundi</td>\n",
       "      <td>6</td>\n",
       "      <td>6h-7h</td>\n",
       "      <td>9</td>\n",
       "    </tr>\n",
       "    <tr>\n",
       "      <th>15</th>\n",
       "      <td>C3A</td>\n",
       "      <td>26</td>\n",
       "      <td>lundi</td>\n",
       "      <td>7</td>\n",
       "      <td>7h-8h</td>\n",
       "      <td>8</td>\n",
       "    </tr>\n",
       "    <tr>\n",
       "      <th>16</th>\n",
       "      <td>C3A</td>\n",
       "      <td>26</td>\n",
       "      <td>lundi</td>\n",
       "      <td>8</td>\n",
       "      <td>8h-9h</td>\n",
       "      <td>9</td>\n",
       "    </tr>\n",
       "    <tr>\n",
       "      <th>17</th>\n",
       "      <td>C3A</td>\n",
       "      <td>26</td>\n",
       "      <td>lundi</td>\n",
       "      <td>9</td>\n",
       "      <td>9h-10h</td>\n",
       "      <td>8</td>\n",
       "    </tr>\n",
       "    <tr>\n",
       "      <th>18</th>\n",
       "      <td>C3A</td>\n",
       "      <td>26</td>\n",
       "      <td>lundi</td>\n",
       "      <td>10</td>\n",
       "      <td>10h-11h</td>\n",
       "      <td>7</td>\n",
       "    </tr>\n",
       "    <tr>\n",
       "      <th>19</th>\n",
       "      <td>C3A</td>\n",
       "      <td>26</td>\n",
       "      <td>lundi</td>\n",
       "      <td>11</td>\n",
       "      <td>11h-12h</td>\n",
       "      <td>10</td>\n",
       "    </tr>\n",
       "    <tr>\n",
       "      <th>20</th>\n",
       "      <td>C3A</td>\n",
       "      <td>27</td>\n",
       "      <td>mardi</td>\n",
       "      <td>5</td>\n",
       "      <td>5h-6h</td>\n",
       "      <td>4</td>\n",
       "    </tr>\n",
       "    <tr>\n",
       "      <th>21</th>\n",
       "      <td>C3A</td>\n",
       "      <td>27</td>\n",
       "      <td>mardi</td>\n",
       "      <td>6</td>\n",
       "      <td>6h-7h</td>\n",
       "      <td>9</td>\n",
       "    </tr>\n",
       "    <tr>\n",
       "      <th>22</th>\n",
       "      <td>C3A</td>\n",
       "      <td>27</td>\n",
       "      <td>mardi</td>\n",
       "      <td>7</td>\n",
       "      <td>7h-8h</td>\n",
       "      <td>8</td>\n",
       "    </tr>\n",
       "    <tr>\n",
       "      <th>23</th>\n",
       "      <td>C3A</td>\n",
       "      <td>27</td>\n",
       "      <td>mardi</td>\n",
       "      <td>8</td>\n",
       "      <td>8h-9h</td>\n",
       "      <td>8</td>\n",
       "    </tr>\n",
       "    <tr>\n",
       "      <th>24</th>\n",
       "      <td>C3A</td>\n",
       "      <td>27</td>\n",
       "      <td>mardi</td>\n",
       "      <td>9</td>\n",
       "      <td>9h-10h</td>\n",
       "      <td>9</td>\n",
       "    </tr>\n",
       "    <tr>\n",
       "      <th>25</th>\n",
       "      <td>C3A</td>\n",
       "      <td>27</td>\n",
       "      <td>mardi</td>\n",
       "      <td>10</td>\n",
       "      <td>10h-11h</td>\n",
       "      <td>8</td>\n",
       "    </tr>\n",
       "    <tr>\n",
       "      <th>26</th>\n",
       "      <td>C3A</td>\n",
       "      <td>27</td>\n",
       "      <td>mardi</td>\n",
       "      <td>11</td>\n",
       "      <td>11h-12h</td>\n",
       "      <td>9</td>\n",
       "    </tr>\n",
       "  </tbody>\n",
       "</table>\n",
       "</div>"
      ],
      "text/plain": [
       "   ligne  jour passage      jour  heure passage plage horaire  nombre de bus\n",
       "0    C3A            24    samedi              5         5h-6h              5\n",
       "1    C3A            24    samedi              6         6h-7h              6\n",
       "2    C3A            24    samedi              7         7h-8h              6\n",
       "3    C3A            24    samedi              8         8h-9h              6\n",
       "4    C3A            24    samedi              9        9h-10h              7\n",
       "5    C3A            24    samedi             10       10h-11h              8\n",
       "6    C3A            24    samedi             11       11h-12h              7\n",
       "7    C3A            25  dimanche              6         6h-7h              3\n",
       "8    C3A            25  dimanche              7         7h-8h              7\n",
       "9    C3A            25  dimanche              8         8h-9h              5\n",
       "10   C3A            25  dimanche              9        9h-10h              6\n",
       "11   C3A            25  dimanche             10       10h-11h              6\n",
       "12   C3A            25  dimanche             11       11h-12h              6\n",
       "13   C3A            26     lundi              5         5h-6h              4\n",
       "14   C3A            26     lundi              6         6h-7h              9\n",
       "15   C3A            26     lundi              7         7h-8h              8\n",
       "16   C3A            26     lundi              8         8h-9h              9\n",
       "17   C3A            26     lundi              9        9h-10h              8\n",
       "18   C3A            26     lundi             10       10h-11h              7\n",
       "19   C3A            26     lundi             11       11h-12h             10\n",
       "20   C3A            27     mardi              5         5h-6h              4\n",
       "21   C3A            27     mardi              6         6h-7h              9\n",
       "22   C3A            27     mardi              7         7h-8h              8\n",
       "23   C3A            27     mardi              8         8h-9h              8\n",
       "24   C3A            27     mardi              9        9h-10h              9\n",
       "25   C3A            27     mardi             10       10h-11h              8\n",
       "26   C3A            27     mardi             11       11h-12h              9"
      ]
     },
     "execution_count": 36,
     "metadata": {},
     "output_type": "execute_result"
    }
   ],
   "source": [
    "# On renomme les colonnes\n",
    "traffic_pivot.rename(columns={'coursetheorique' : \"nombre de bus\"}, inplace=True)\n",
    "print(traffic_pivot['nombre de bus'].sum())\n",
    "traffic_pivot"
   ]
  },
  {
   "cell_type": "markdown",
   "metadata": {},
   "source": [
    "# Graphe de fréquence de passage de la ligne C3 : Plotly avec animation "
   ]
  },
  {
   "cell_type": "code",
   "execution_count": 48,
   "metadata": {},
   "outputs": [
    {
     "data": {
      "application/vnd.plotly.v1+json": {
       "config": {
        "plotlyServerURL": "https://plot.ly"
       },
       "data": [
        {
         "alignmentgroup": "True",
         "hovertemplate": "jour=samedi<br>plage horaire=%{x}<br>nombre=%{text}<extra></extra>",
         "legendgroup": "samedi",
         "marker": {
          "color": "#636efa",
          "pattern": {
           "shape": ""
          }
         },
         "name": "samedi",
         "offsetgroup": "samedi",
         "orientation": "v",
         "showlegend": true,
         "text": [
          "5",
          "6",
          "6",
          "6",
          "7",
          "8",
          "7"
         ],
         "textfont": {
          "size": 10
         },
         "textposition": "outside",
         "type": "bar",
         "x": [
          "5h-6h",
          "6h-7h",
          "7h-8h",
          "8h-9h",
          "9h-10h",
          "10h-11h",
          "11h-12h"
         ],
         "xaxis": "x4",
         "y": [
          5,
          6,
          6,
          6,
          7,
          8,
          7
         ],
         "yaxis": "y4"
        },
        {
         "alignmentgroup": "True",
         "hovertemplate": "jour=dimanche<br>plage horaire=%{x}<br>nombre=%{text}<extra></extra>",
         "legendgroup": "dimanche",
         "marker": {
          "color": "#EF553B",
          "pattern": {
           "shape": ""
          }
         },
         "name": "dimanche",
         "offsetgroup": "dimanche",
         "orientation": "v",
         "showlegend": true,
         "text": [
          "3",
          "7",
          "5",
          "6",
          "6",
          "6"
         ],
         "textfont": {
          "size": 10
         },
         "textposition": "outside",
         "type": "bar",
         "x": [
          "6h-7h",
          "7h-8h",
          "8h-9h",
          "9h-10h",
          "10h-11h",
          "11h-12h"
         ],
         "xaxis": "x3",
         "y": [
          3,
          7,
          5,
          6,
          6,
          6
         ],
         "yaxis": "y3"
        },
        {
         "alignmentgroup": "True",
         "hovertemplate": "jour=lundi<br>plage horaire=%{x}<br>nombre=%{text}<extra></extra>",
         "legendgroup": "lundi",
         "marker": {
          "color": "#00cc96",
          "pattern": {
           "shape": ""
          }
         },
         "name": "lundi",
         "offsetgroup": "lundi",
         "orientation": "v",
         "showlegend": true,
         "text": [
          "4",
          "9",
          "8",
          "9",
          "8",
          "7",
          "10"
         ],
         "textfont": {
          "size": 10
         },
         "textposition": "outside",
         "type": "bar",
         "x": [
          "5h-6h",
          "6h-7h",
          "7h-8h",
          "8h-9h",
          "9h-10h",
          "10h-11h",
          "11h-12h"
         ],
         "xaxis": "x2",
         "y": [
          4,
          9,
          8,
          9,
          8,
          7,
          10
         ],
         "yaxis": "y2"
        },
        {
         "alignmentgroup": "True",
         "hovertemplate": "jour=mardi<br>plage horaire=%{x}<br>nombre=%{text}<extra></extra>",
         "legendgroup": "mardi",
         "marker": {
          "color": "#ab63fa",
          "pattern": {
           "shape": ""
          }
         },
         "name": "mardi",
         "offsetgroup": "mardi",
         "orientation": "v",
         "showlegend": true,
         "text": [
          "4",
          "9",
          "8",
          "8",
          "9",
          "8",
          "9"
         ],
         "textfont": {
          "size": 10
         },
         "textposition": "outside",
         "type": "bar",
         "x": [
          "5h-6h",
          "6h-7h",
          "7h-8h",
          "8h-9h",
          "9h-10h",
          "10h-11h",
          "11h-12h"
         ],
         "xaxis": "x",
         "y": [
          4,
          9,
          8,
          8,
          9,
          8,
          9
         ],
         "yaxis": "y"
        }
       ],
       "layout": {
        "annotations": [
         {
          "font": {},
          "showarrow": false,
          "text": "mardi",
          "textangle": 90,
          "x": 0.98,
          "xanchor": "left",
          "xref": "paper",
          "y": 0.11375,
          "yanchor": "middle",
          "yref": "paper"
         },
         {
          "font": {},
          "showarrow": false,
          "text": "lundi",
          "textangle": 90,
          "x": 0.98,
          "xanchor": "left",
          "xref": "paper",
          "y": 0.37124999999999997,
          "yanchor": "middle",
          "yref": "paper"
         },
         {
          "font": {},
          "showarrow": false,
          "text": "dimanche",
          "textangle": 90,
          "x": 0.98,
          "xanchor": "left",
          "xref": "paper",
          "y": 0.62875,
          "yanchor": "middle",
          "yref": "paper"
         },
         {
          "font": {},
          "showarrow": false,
          "text": "samedi",
          "textangle": 90,
          "x": 0.98,
          "xanchor": "left",
          "xref": "paper",
          "y": 0.88625,
          "yanchor": "middle",
          "yref": "paper"
         }
        ],
        "autosize": false,
        "barmode": "relative",
        "height": 600,
        "legend": {
         "orientation": "h",
         "title": {
          "text": "jour"
         },
         "tracegroupgap": 0,
         "x": 0.8,
         "xanchor": "right",
         "y": 1.02,
         "yanchor": "bottom"
        },
        "template": {
         "data": {
          "bar": [
           {
            "error_x": {
             "color": "#2a3f5f"
            },
            "error_y": {
             "color": "#2a3f5f"
            },
            "marker": {
             "line": {
              "color": "#E5ECF6",
              "width": 0.5
             },
             "pattern": {
              "fillmode": "overlay",
              "size": 10,
              "solidity": 0.2
             }
            },
            "type": "bar"
           }
          ],
          "barpolar": [
           {
            "marker": {
             "line": {
              "color": "#E5ECF6",
              "width": 0.5
             },
             "pattern": {
              "fillmode": "overlay",
              "size": 10,
              "solidity": 0.2
             }
            },
            "type": "barpolar"
           }
          ],
          "carpet": [
           {
            "aaxis": {
             "endlinecolor": "#2a3f5f",
             "gridcolor": "white",
             "linecolor": "white",
             "minorgridcolor": "white",
             "startlinecolor": "#2a3f5f"
            },
            "baxis": {
             "endlinecolor": "#2a3f5f",
             "gridcolor": "white",
             "linecolor": "white",
             "minorgridcolor": "white",
             "startlinecolor": "#2a3f5f"
            },
            "type": "carpet"
           }
          ],
          "choropleth": [
           {
            "colorbar": {
             "outlinewidth": 0,
             "ticks": ""
            },
            "type": "choropleth"
           }
          ],
          "contour": [
           {
            "colorbar": {
             "outlinewidth": 0,
             "ticks": ""
            },
            "colorscale": [
             [
              0,
              "#0d0887"
             ],
             [
              0.1111111111111111,
              "#46039f"
             ],
             [
              0.2222222222222222,
              "#7201a8"
             ],
             [
              0.3333333333333333,
              "#9c179e"
             ],
             [
              0.4444444444444444,
              "#bd3786"
             ],
             [
              0.5555555555555556,
              "#d8576b"
             ],
             [
              0.6666666666666666,
              "#ed7953"
             ],
             [
              0.7777777777777778,
              "#fb9f3a"
             ],
             [
              0.8888888888888888,
              "#fdca26"
             ],
             [
              1,
              "#f0f921"
             ]
            ],
            "type": "contour"
           }
          ],
          "contourcarpet": [
           {
            "colorbar": {
             "outlinewidth": 0,
             "ticks": ""
            },
            "type": "contourcarpet"
           }
          ],
          "heatmap": [
           {
            "colorbar": {
             "outlinewidth": 0,
             "ticks": ""
            },
            "colorscale": [
             [
              0,
              "#0d0887"
             ],
             [
              0.1111111111111111,
              "#46039f"
             ],
             [
              0.2222222222222222,
              "#7201a8"
             ],
             [
              0.3333333333333333,
              "#9c179e"
             ],
             [
              0.4444444444444444,
              "#bd3786"
             ],
             [
              0.5555555555555556,
              "#d8576b"
             ],
             [
              0.6666666666666666,
              "#ed7953"
             ],
             [
              0.7777777777777778,
              "#fb9f3a"
             ],
             [
              0.8888888888888888,
              "#fdca26"
             ],
             [
              1,
              "#f0f921"
             ]
            ],
            "type": "heatmap"
           }
          ],
          "heatmapgl": [
           {
            "colorbar": {
             "outlinewidth": 0,
             "ticks": ""
            },
            "colorscale": [
             [
              0,
              "#0d0887"
             ],
             [
              0.1111111111111111,
              "#46039f"
             ],
             [
              0.2222222222222222,
              "#7201a8"
             ],
             [
              0.3333333333333333,
              "#9c179e"
             ],
             [
              0.4444444444444444,
              "#bd3786"
             ],
             [
              0.5555555555555556,
              "#d8576b"
             ],
             [
              0.6666666666666666,
              "#ed7953"
             ],
             [
              0.7777777777777778,
              "#fb9f3a"
             ],
             [
              0.8888888888888888,
              "#fdca26"
             ],
             [
              1,
              "#f0f921"
             ]
            ],
            "type": "heatmapgl"
           }
          ],
          "histogram": [
           {
            "marker": {
             "pattern": {
              "fillmode": "overlay",
              "size": 10,
              "solidity": 0.2
             }
            },
            "type": "histogram"
           }
          ],
          "histogram2d": [
           {
            "colorbar": {
             "outlinewidth": 0,
             "ticks": ""
            },
            "colorscale": [
             [
              0,
              "#0d0887"
             ],
             [
              0.1111111111111111,
              "#46039f"
             ],
             [
              0.2222222222222222,
              "#7201a8"
             ],
             [
              0.3333333333333333,
              "#9c179e"
             ],
             [
              0.4444444444444444,
              "#bd3786"
             ],
             [
              0.5555555555555556,
              "#d8576b"
             ],
             [
              0.6666666666666666,
              "#ed7953"
             ],
             [
              0.7777777777777778,
              "#fb9f3a"
             ],
             [
              0.8888888888888888,
              "#fdca26"
             ],
             [
              1,
              "#f0f921"
             ]
            ],
            "type": "histogram2d"
           }
          ],
          "histogram2dcontour": [
           {
            "colorbar": {
             "outlinewidth": 0,
             "ticks": ""
            },
            "colorscale": [
             [
              0,
              "#0d0887"
             ],
             [
              0.1111111111111111,
              "#46039f"
             ],
             [
              0.2222222222222222,
              "#7201a8"
             ],
             [
              0.3333333333333333,
              "#9c179e"
             ],
             [
              0.4444444444444444,
              "#bd3786"
             ],
             [
              0.5555555555555556,
              "#d8576b"
             ],
             [
              0.6666666666666666,
              "#ed7953"
             ],
             [
              0.7777777777777778,
              "#fb9f3a"
             ],
             [
              0.8888888888888888,
              "#fdca26"
             ],
             [
              1,
              "#f0f921"
             ]
            ],
            "type": "histogram2dcontour"
           }
          ],
          "mesh3d": [
           {
            "colorbar": {
             "outlinewidth": 0,
             "ticks": ""
            },
            "type": "mesh3d"
           }
          ],
          "parcoords": [
           {
            "line": {
             "colorbar": {
              "outlinewidth": 0,
              "ticks": ""
             }
            },
            "type": "parcoords"
           }
          ],
          "pie": [
           {
            "automargin": true,
            "type": "pie"
           }
          ],
          "scatter": [
           {
            "marker": {
             "colorbar": {
              "outlinewidth": 0,
              "ticks": ""
             }
            },
            "type": "scatter"
           }
          ],
          "scatter3d": [
           {
            "line": {
             "colorbar": {
              "outlinewidth": 0,
              "ticks": ""
             }
            },
            "marker": {
             "colorbar": {
              "outlinewidth": 0,
              "ticks": ""
             }
            },
            "type": "scatter3d"
           }
          ],
          "scattercarpet": [
           {
            "marker": {
             "colorbar": {
              "outlinewidth": 0,
              "ticks": ""
             }
            },
            "type": "scattercarpet"
           }
          ],
          "scattergeo": [
           {
            "marker": {
             "colorbar": {
              "outlinewidth": 0,
              "ticks": ""
             }
            },
            "type": "scattergeo"
           }
          ],
          "scattergl": [
           {
            "marker": {
             "colorbar": {
              "outlinewidth": 0,
              "ticks": ""
             }
            },
            "type": "scattergl"
           }
          ],
          "scattermapbox": [
           {
            "marker": {
             "colorbar": {
              "outlinewidth": 0,
              "ticks": ""
             }
            },
            "type": "scattermapbox"
           }
          ],
          "scatterpolar": [
           {
            "marker": {
             "colorbar": {
              "outlinewidth": 0,
              "ticks": ""
             }
            },
            "type": "scatterpolar"
           }
          ],
          "scatterpolargl": [
           {
            "marker": {
             "colorbar": {
              "outlinewidth": 0,
              "ticks": ""
             }
            },
            "type": "scatterpolargl"
           }
          ],
          "scatterternary": [
           {
            "marker": {
             "colorbar": {
              "outlinewidth": 0,
              "ticks": ""
             }
            },
            "type": "scatterternary"
           }
          ],
          "surface": [
           {
            "colorbar": {
             "outlinewidth": 0,
             "ticks": ""
            },
            "colorscale": [
             [
              0,
              "#0d0887"
             ],
             [
              0.1111111111111111,
              "#46039f"
             ],
             [
              0.2222222222222222,
              "#7201a8"
             ],
             [
              0.3333333333333333,
              "#9c179e"
             ],
             [
              0.4444444444444444,
              "#bd3786"
             ],
             [
              0.5555555555555556,
              "#d8576b"
             ],
             [
              0.6666666666666666,
              "#ed7953"
             ],
             [
              0.7777777777777778,
              "#fb9f3a"
             ],
             [
              0.8888888888888888,
              "#fdca26"
             ],
             [
              1,
              "#f0f921"
             ]
            ],
            "type": "surface"
           }
          ],
          "table": [
           {
            "cells": {
             "fill": {
              "color": "#EBF0F8"
             },
             "line": {
              "color": "white"
             }
            },
            "header": {
             "fill": {
              "color": "#C8D4E3"
             },
             "line": {
              "color": "white"
             }
            },
            "type": "table"
           }
          ]
         },
         "layout": {
          "annotationdefaults": {
           "arrowcolor": "#2a3f5f",
           "arrowhead": 0,
           "arrowwidth": 1
          },
          "autotypenumbers": "strict",
          "coloraxis": {
           "colorbar": {
            "outlinewidth": 0,
            "ticks": ""
           }
          },
          "colorscale": {
           "diverging": [
            [
             0,
             "#8e0152"
            ],
            [
             0.1,
             "#c51b7d"
            ],
            [
             0.2,
             "#de77ae"
            ],
            [
             0.3,
             "#f1b6da"
            ],
            [
             0.4,
             "#fde0ef"
            ],
            [
             0.5,
             "#f7f7f7"
            ],
            [
             0.6,
             "#e6f5d0"
            ],
            [
             0.7,
             "#b8e186"
            ],
            [
             0.8,
             "#7fbc41"
            ],
            [
             0.9,
             "#4d9221"
            ],
            [
             1,
             "#276419"
            ]
           ],
           "sequential": [
            [
             0,
             "#0d0887"
            ],
            [
             0.1111111111111111,
             "#46039f"
            ],
            [
             0.2222222222222222,
             "#7201a8"
            ],
            [
             0.3333333333333333,
             "#9c179e"
            ],
            [
             0.4444444444444444,
             "#bd3786"
            ],
            [
             0.5555555555555556,
             "#d8576b"
            ],
            [
             0.6666666666666666,
             "#ed7953"
            ],
            [
             0.7777777777777778,
             "#fb9f3a"
            ],
            [
             0.8888888888888888,
             "#fdca26"
            ],
            [
             1,
             "#f0f921"
            ]
           ],
           "sequentialminus": [
            [
             0,
             "#0d0887"
            ],
            [
             0.1111111111111111,
             "#46039f"
            ],
            [
             0.2222222222222222,
             "#7201a8"
            ],
            [
             0.3333333333333333,
             "#9c179e"
            ],
            [
             0.4444444444444444,
             "#bd3786"
            ],
            [
             0.5555555555555556,
             "#d8576b"
            ],
            [
             0.6666666666666666,
             "#ed7953"
            ],
            [
             0.7777777777777778,
             "#fb9f3a"
            ],
            [
             0.8888888888888888,
             "#fdca26"
            ],
            [
             1,
             "#f0f921"
            ]
           ]
          },
          "colorway": [
           "#636efa",
           "#EF553B",
           "#00cc96",
           "#ab63fa",
           "#FFA15A",
           "#19d3f3",
           "#FF6692",
           "#B6E880",
           "#FF97FF",
           "#FECB52"
          ],
          "font": {
           "color": "#2a3f5f"
          },
          "geo": {
           "bgcolor": "white",
           "lakecolor": "white",
           "landcolor": "#E5ECF6",
           "showlakes": true,
           "showland": true,
           "subunitcolor": "white"
          },
          "hoverlabel": {
           "align": "left"
          },
          "hovermode": "closest",
          "mapbox": {
           "style": "light"
          },
          "paper_bgcolor": "white",
          "plot_bgcolor": "#E5ECF6",
          "polar": {
           "angularaxis": {
            "gridcolor": "white",
            "linecolor": "white",
            "ticks": ""
           },
           "bgcolor": "#E5ECF6",
           "radialaxis": {
            "gridcolor": "white",
            "linecolor": "white",
            "ticks": ""
           }
          },
          "scene": {
           "xaxis": {
            "backgroundcolor": "#E5ECF6",
            "gridcolor": "white",
            "gridwidth": 2,
            "linecolor": "white",
            "showbackground": true,
            "ticks": "",
            "zerolinecolor": "white"
           },
           "yaxis": {
            "backgroundcolor": "#E5ECF6",
            "gridcolor": "white",
            "gridwidth": 2,
            "linecolor": "white",
            "showbackground": true,
            "ticks": "",
            "zerolinecolor": "white"
           },
           "zaxis": {
            "backgroundcolor": "#E5ECF6",
            "gridcolor": "white",
            "gridwidth": 2,
            "linecolor": "white",
            "showbackground": true,
            "ticks": "",
            "zerolinecolor": "white"
           }
          },
          "shapedefaults": {
           "line": {
            "color": "#2a3f5f"
           }
          },
          "ternary": {
           "aaxis": {
            "gridcolor": "white",
            "linecolor": "white",
            "ticks": ""
           },
           "baxis": {
            "gridcolor": "white",
            "linecolor": "white",
            "ticks": ""
           },
           "bgcolor": "#E5ECF6",
           "caxis": {
            "gridcolor": "white",
            "linecolor": "white",
            "ticks": ""
           }
          },
          "title": {
           "x": 0.05
          },
          "xaxis": {
           "automargin": true,
           "gridcolor": "white",
           "linecolor": "white",
           "ticks": "",
           "title": {
            "standoff": 15
           },
           "zerolinecolor": "white",
           "zerolinewidth": 2
          },
          "yaxis": {
           "automargin": true,
           "gridcolor": "white",
           "linecolor": "white",
           "ticks": "",
           "title": {
            "standoff": 15
           },
           "zerolinecolor": "white",
           "zerolinewidth": 2
          }
         }
        },
        "title": {
         "text": "Fréquence de passage de la ligne de bus C3 (par heure)",
         "x": 0.45
        },
        "width": 700,
        "xaxis": {
         "anchor": "y",
         "domain": [
          0,
          0.98
         ],
         "title": {
          "text": "plage horaire"
         }
        },
        "xaxis2": {
         "anchor": "y2",
         "domain": [
          0,
          0.98
         ],
         "matches": "x",
         "showticklabels": false
        },
        "xaxis3": {
         "anchor": "y3",
         "domain": [
          0,
          0.98
         ],
         "matches": "x",
         "showticklabels": false
        },
        "xaxis4": {
         "anchor": "y4",
         "domain": [
          0,
          0.98
         ],
         "matches": "x",
         "showticklabels": false
        },
        "yaxis": {
         "anchor": "x",
         "domain": [
          0,
          0.2275
         ],
         "dtick": 2,
         "tick0": 0,
         "title": {
          "text": "nombre"
         }
        },
        "yaxis2": {
         "anchor": "x2",
         "domain": [
          0.2575,
          0.485
         ],
         "dtick": 2,
         "matches": "y",
         "tick0": 0,
         "title": {
          "text": "nombre"
         }
        },
        "yaxis3": {
         "anchor": "x3",
         "domain": [
          0.515,
          0.7425
         ],
         "dtick": 2,
         "matches": "y",
         "tick0": 0,
         "title": {
          "text": "nombre"
         }
        },
        "yaxis4": {
         "anchor": "x4",
         "domain": [
          0.7725,
          1
         ],
         "dtick": 2,
         "matches": "y",
         "tick0": 0,
         "title": {
          "text": "nombre"
         }
        }
       }
      },
      "text/html": [
       "<div>                            <div id=\"461c50b2-73a5-4aab-b28d-b1240f1e1eaa\" class=\"plotly-graph-div\" style=\"height:600px; width:700px;\"></div>            <script type=\"text/javascript\">                require([\"plotly\"], function(Plotly) {                    window.PLOTLYENV=window.PLOTLYENV || {};                                    if (document.getElementById(\"461c50b2-73a5-4aab-b28d-b1240f1e1eaa\")) {                    Plotly.newPlot(                        \"461c50b2-73a5-4aab-b28d-b1240f1e1eaa\",                        [{\"alignmentgroup\":\"True\",\"hovertemplate\":\"jour=samedi<br>plage horaire=%{x}<br>nombre=%{text}<extra></extra>\",\"legendgroup\":\"samedi\",\"marker\":{\"color\":\"#636efa\",\"pattern\":{\"shape\":\"\"}},\"name\":\"samedi\",\"offsetgroup\":\"samedi\",\"orientation\":\"v\",\"showlegend\":true,\"text\":[\"5\",\"6\",\"6\",\"6\",\"7\",\"8\",\"7\"],\"textfont\":{\"size\":10},\"textposition\":\"outside\",\"type\":\"bar\",\"x\":[\"5h-6h\",\"6h-7h\",\"7h-8h\",\"8h-9h\",\"9h-10h\",\"10h-11h\",\"11h-12h\"],\"xaxis\":\"x4\",\"y\":[5,6,6,6,7,8,7],\"yaxis\":\"y4\"},{\"alignmentgroup\":\"True\",\"hovertemplate\":\"jour=dimanche<br>plage horaire=%{x}<br>nombre=%{text}<extra></extra>\",\"legendgroup\":\"dimanche\",\"marker\":{\"color\":\"#EF553B\",\"pattern\":{\"shape\":\"\"}},\"name\":\"dimanche\",\"offsetgroup\":\"dimanche\",\"orientation\":\"v\",\"showlegend\":true,\"text\":[\"3\",\"7\",\"5\",\"6\",\"6\",\"6\"],\"textfont\":{\"size\":10},\"textposition\":\"outside\",\"type\":\"bar\",\"x\":[\"6h-7h\",\"7h-8h\",\"8h-9h\",\"9h-10h\",\"10h-11h\",\"11h-12h\"],\"xaxis\":\"x3\",\"y\":[3,7,5,6,6,6],\"yaxis\":\"y3\"},{\"alignmentgroup\":\"True\",\"hovertemplate\":\"jour=lundi<br>plage horaire=%{x}<br>nombre=%{text}<extra></extra>\",\"legendgroup\":\"lundi\",\"marker\":{\"color\":\"#00cc96\",\"pattern\":{\"shape\":\"\"}},\"name\":\"lundi\",\"offsetgroup\":\"lundi\",\"orientation\":\"v\",\"showlegend\":true,\"text\":[\"4\",\"9\",\"8\",\"9\",\"8\",\"7\",\"10\"],\"textfont\":{\"size\":10},\"textposition\":\"outside\",\"type\":\"bar\",\"x\":[\"5h-6h\",\"6h-7h\",\"7h-8h\",\"8h-9h\",\"9h-10h\",\"10h-11h\",\"11h-12h\"],\"xaxis\":\"x2\",\"y\":[4,9,8,9,8,7,10],\"yaxis\":\"y2\"},{\"alignmentgroup\":\"True\",\"hovertemplate\":\"jour=mardi<br>plage horaire=%{x}<br>nombre=%{text}<extra></extra>\",\"legendgroup\":\"mardi\",\"marker\":{\"color\":\"#ab63fa\",\"pattern\":{\"shape\":\"\"}},\"name\":\"mardi\",\"offsetgroup\":\"mardi\",\"orientation\":\"v\",\"showlegend\":true,\"text\":[\"4\",\"9\",\"8\",\"8\",\"9\",\"8\",\"9\"],\"textfont\":{\"size\":10},\"textposition\":\"outside\",\"type\":\"bar\",\"x\":[\"5h-6h\",\"6h-7h\",\"7h-8h\",\"8h-9h\",\"9h-10h\",\"10h-11h\",\"11h-12h\"],\"xaxis\":\"x\",\"y\":[4,9,8,8,9,8,9],\"yaxis\":\"y\"}],                        {\"annotations\":[{\"font\":{},\"showarrow\":false,\"text\":\"mardi\",\"textangle\":90,\"x\":0.98,\"xanchor\":\"left\",\"xref\":\"paper\",\"y\":0.11375,\"yanchor\":\"middle\",\"yref\":\"paper\"},{\"font\":{},\"showarrow\":false,\"text\":\"lundi\",\"textangle\":90,\"x\":0.98,\"xanchor\":\"left\",\"xref\":\"paper\",\"y\":0.37124999999999997,\"yanchor\":\"middle\",\"yref\":\"paper\"},{\"font\":{},\"showarrow\":false,\"text\":\"dimanche\",\"textangle\":90,\"x\":0.98,\"xanchor\":\"left\",\"xref\":\"paper\",\"y\":0.62875,\"yanchor\":\"middle\",\"yref\":\"paper\"},{\"font\":{},\"showarrow\":false,\"text\":\"samedi\",\"textangle\":90,\"x\":0.98,\"xanchor\":\"left\",\"xref\":\"paper\",\"y\":0.88625,\"yanchor\":\"middle\",\"yref\":\"paper\"}],\"autosize\":false,\"barmode\":\"relative\",\"height\":600,\"legend\":{\"orientation\":\"h\",\"title\":{\"text\":\"jour\"},\"tracegroupgap\":0,\"x\":0.8,\"xanchor\":\"right\",\"y\":1.02,\"yanchor\":\"bottom\"},\"template\":{\"data\":{\"bar\":[{\"error_x\":{\"color\":\"#2a3f5f\"},\"error_y\":{\"color\":\"#2a3f5f\"},\"marker\":{\"line\":{\"color\":\"#E5ECF6\",\"width\":0.5},\"pattern\":{\"fillmode\":\"overlay\",\"size\":10,\"solidity\":0.2}},\"type\":\"bar\"}],\"barpolar\":[{\"marker\":{\"line\":{\"color\":\"#E5ECF6\",\"width\":0.5},\"pattern\":{\"fillmode\":\"overlay\",\"size\":10,\"solidity\":0.2}},\"type\":\"barpolar\"}],\"carpet\":[{\"aaxis\":{\"endlinecolor\":\"#2a3f5f\",\"gridcolor\":\"white\",\"linecolor\":\"white\",\"minorgridcolor\":\"white\",\"startlinecolor\":\"#2a3f5f\"},\"baxis\":{\"endlinecolor\":\"#2a3f5f\",\"gridcolor\":\"white\",\"linecolor\":\"white\",\"minorgridcolor\":\"white\",\"startlinecolor\":\"#2a3f5f\"},\"type\":\"carpet\"}],\"choropleth\":[{\"colorbar\":{\"outlinewidth\":0,\"ticks\":\"\"},\"type\":\"choropleth\"}],\"contour\":[{\"colorbar\":{\"outlinewidth\":0,\"ticks\":\"\"},\"colorscale\":[[0.0,\"#0d0887\"],[0.1111111111111111,\"#46039f\"],[0.2222222222222222,\"#7201a8\"],[0.3333333333333333,\"#9c179e\"],[0.4444444444444444,\"#bd3786\"],[0.5555555555555556,\"#d8576b\"],[0.6666666666666666,\"#ed7953\"],[0.7777777777777778,\"#fb9f3a\"],[0.8888888888888888,\"#fdca26\"],[1.0,\"#f0f921\"]],\"type\":\"contour\"}],\"contourcarpet\":[{\"colorbar\":{\"outlinewidth\":0,\"ticks\":\"\"},\"type\":\"contourcarpet\"}],\"heatmap\":[{\"colorbar\":{\"outlinewidth\":0,\"ticks\":\"\"},\"colorscale\":[[0.0,\"#0d0887\"],[0.1111111111111111,\"#46039f\"],[0.2222222222222222,\"#7201a8\"],[0.3333333333333333,\"#9c179e\"],[0.4444444444444444,\"#bd3786\"],[0.5555555555555556,\"#d8576b\"],[0.6666666666666666,\"#ed7953\"],[0.7777777777777778,\"#fb9f3a\"],[0.8888888888888888,\"#fdca26\"],[1.0,\"#f0f921\"]],\"type\":\"heatmap\"}],\"heatmapgl\":[{\"colorbar\":{\"outlinewidth\":0,\"ticks\":\"\"},\"colorscale\":[[0.0,\"#0d0887\"],[0.1111111111111111,\"#46039f\"],[0.2222222222222222,\"#7201a8\"],[0.3333333333333333,\"#9c179e\"],[0.4444444444444444,\"#bd3786\"],[0.5555555555555556,\"#d8576b\"],[0.6666666666666666,\"#ed7953\"],[0.7777777777777778,\"#fb9f3a\"],[0.8888888888888888,\"#fdca26\"],[1.0,\"#f0f921\"]],\"type\":\"heatmapgl\"}],\"histogram\":[{\"marker\":{\"pattern\":{\"fillmode\":\"overlay\",\"size\":10,\"solidity\":0.2}},\"type\":\"histogram\"}],\"histogram2d\":[{\"colorbar\":{\"outlinewidth\":0,\"ticks\":\"\"},\"colorscale\":[[0.0,\"#0d0887\"],[0.1111111111111111,\"#46039f\"],[0.2222222222222222,\"#7201a8\"],[0.3333333333333333,\"#9c179e\"],[0.4444444444444444,\"#bd3786\"],[0.5555555555555556,\"#d8576b\"],[0.6666666666666666,\"#ed7953\"],[0.7777777777777778,\"#fb9f3a\"],[0.8888888888888888,\"#fdca26\"],[1.0,\"#f0f921\"]],\"type\":\"histogram2d\"}],\"histogram2dcontour\":[{\"colorbar\":{\"outlinewidth\":0,\"ticks\":\"\"},\"colorscale\":[[0.0,\"#0d0887\"],[0.1111111111111111,\"#46039f\"],[0.2222222222222222,\"#7201a8\"],[0.3333333333333333,\"#9c179e\"],[0.4444444444444444,\"#bd3786\"],[0.5555555555555556,\"#d8576b\"],[0.6666666666666666,\"#ed7953\"],[0.7777777777777778,\"#fb9f3a\"],[0.8888888888888888,\"#fdca26\"],[1.0,\"#f0f921\"]],\"type\":\"histogram2dcontour\"}],\"mesh3d\":[{\"colorbar\":{\"outlinewidth\":0,\"ticks\":\"\"},\"type\":\"mesh3d\"}],\"parcoords\":[{\"line\":{\"colorbar\":{\"outlinewidth\":0,\"ticks\":\"\"}},\"type\":\"parcoords\"}],\"pie\":[{\"automargin\":true,\"type\":\"pie\"}],\"scatter\":[{\"marker\":{\"colorbar\":{\"outlinewidth\":0,\"ticks\":\"\"}},\"type\":\"scatter\"}],\"scatter3d\":[{\"line\":{\"colorbar\":{\"outlinewidth\":0,\"ticks\":\"\"}},\"marker\":{\"colorbar\":{\"outlinewidth\":0,\"ticks\":\"\"}},\"type\":\"scatter3d\"}],\"scattercarpet\":[{\"marker\":{\"colorbar\":{\"outlinewidth\":0,\"ticks\":\"\"}},\"type\":\"scattercarpet\"}],\"scattergeo\":[{\"marker\":{\"colorbar\":{\"outlinewidth\":0,\"ticks\":\"\"}},\"type\":\"scattergeo\"}],\"scattergl\":[{\"marker\":{\"colorbar\":{\"outlinewidth\":0,\"ticks\":\"\"}},\"type\":\"scattergl\"}],\"scattermapbox\":[{\"marker\":{\"colorbar\":{\"outlinewidth\":0,\"ticks\":\"\"}},\"type\":\"scattermapbox\"}],\"scatterpolar\":[{\"marker\":{\"colorbar\":{\"outlinewidth\":0,\"ticks\":\"\"}},\"type\":\"scatterpolar\"}],\"scatterpolargl\":[{\"marker\":{\"colorbar\":{\"outlinewidth\":0,\"ticks\":\"\"}},\"type\":\"scatterpolargl\"}],\"scatterternary\":[{\"marker\":{\"colorbar\":{\"outlinewidth\":0,\"ticks\":\"\"}},\"type\":\"scatterternary\"}],\"surface\":[{\"colorbar\":{\"outlinewidth\":0,\"ticks\":\"\"},\"colorscale\":[[0.0,\"#0d0887\"],[0.1111111111111111,\"#46039f\"],[0.2222222222222222,\"#7201a8\"],[0.3333333333333333,\"#9c179e\"],[0.4444444444444444,\"#bd3786\"],[0.5555555555555556,\"#d8576b\"],[0.6666666666666666,\"#ed7953\"],[0.7777777777777778,\"#fb9f3a\"],[0.8888888888888888,\"#fdca26\"],[1.0,\"#f0f921\"]],\"type\":\"surface\"}],\"table\":[{\"cells\":{\"fill\":{\"color\":\"#EBF0F8\"},\"line\":{\"color\":\"white\"}},\"header\":{\"fill\":{\"color\":\"#C8D4E3\"},\"line\":{\"color\":\"white\"}},\"type\":\"table\"}]},\"layout\":{\"annotationdefaults\":{\"arrowcolor\":\"#2a3f5f\",\"arrowhead\":0,\"arrowwidth\":1},\"autotypenumbers\":\"strict\",\"coloraxis\":{\"colorbar\":{\"outlinewidth\":0,\"ticks\":\"\"}},\"colorscale\":{\"diverging\":[[0,\"#8e0152\"],[0.1,\"#c51b7d\"],[0.2,\"#de77ae\"],[0.3,\"#f1b6da\"],[0.4,\"#fde0ef\"],[0.5,\"#f7f7f7\"],[0.6,\"#e6f5d0\"],[0.7,\"#b8e186\"],[0.8,\"#7fbc41\"],[0.9,\"#4d9221\"],[1,\"#276419\"]],\"sequential\":[[0.0,\"#0d0887\"],[0.1111111111111111,\"#46039f\"],[0.2222222222222222,\"#7201a8\"],[0.3333333333333333,\"#9c179e\"],[0.4444444444444444,\"#bd3786\"],[0.5555555555555556,\"#d8576b\"],[0.6666666666666666,\"#ed7953\"],[0.7777777777777778,\"#fb9f3a\"],[0.8888888888888888,\"#fdca26\"],[1.0,\"#f0f921\"]],\"sequentialminus\":[[0.0,\"#0d0887\"],[0.1111111111111111,\"#46039f\"],[0.2222222222222222,\"#7201a8\"],[0.3333333333333333,\"#9c179e\"],[0.4444444444444444,\"#bd3786\"],[0.5555555555555556,\"#d8576b\"],[0.6666666666666666,\"#ed7953\"],[0.7777777777777778,\"#fb9f3a\"],[0.8888888888888888,\"#fdca26\"],[1.0,\"#f0f921\"]]},\"colorway\":[\"#636efa\",\"#EF553B\",\"#00cc96\",\"#ab63fa\",\"#FFA15A\",\"#19d3f3\",\"#FF6692\",\"#B6E880\",\"#FF97FF\",\"#FECB52\"],\"font\":{\"color\":\"#2a3f5f\"},\"geo\":{\"bgcolor\":\"white\",\"lakecolor\":\"white\",\"landcolor\":\"#E5ECF6\",\"showlakes\":true,\"showland\":true,\"subunitcolor\":\"white\"},\"hoverlabel\":{\"align\":\"left\"},\"hovermode\":\"closest\",\"mapbox\":{\"style\":\"light\"},\"paper_bgcolor\":\"white\",\"plot_bgcolor\":\"#E5ECF6\",\"polar\":{\"angularaxis\":{\"gridcolor\":\"white\",\"linecolor\":\"white\",\"ticks\":\"\"},\"bgcolor\":\"#E5ECF6\",\"radialaxis\":{\"gridcolor\":\"white\",\"linecolor\":\"white\",\"ticks\":\"\"}},\"scene\":{\"xaxis\":{\"backgroundcolor\":\"#E5ECF6\",\"gridcolor\":\"white\",\"gridwidth\":2,\"linecolor\":\"white\",\"showbackground\":true,\"ticks\":\"\",\"zerolinecolor\":\"white\"},\"yaxis\":{\"backgroundcolor\":\"#E5ECF6\",\"gridcolor\":\"white\",\"gridwidth\":2,\"linecolor\":\"white\",\"showbackground\":true,\"ticks\":\"\",\"zerolinecolor\":\"white\"},\"zaxis\":{\"backgroundcolor\":\"#E5ECF6\",\"gridcolor\":\"white\",\"gridwidth\":2,\"linecolor\":\"white\",\"showbackground\":true,\"ticks\":\"\",\"zerolinecolor\":\"white\"}},\"shapedefaults\":{\"line\":{\"color\":\"#2a3f5f\"}},\"ternary\":{\"aaxis\":{\"gridcolor\":\"white\",\"linecolor\":\"white\",\"ticks\":\"\"},\"baxis\":{\"gridcolor\":\"white\",\"linecolor\":\"white\",\"ticks\":\"\"},\"bgcolor\":\"#E5ECF6\",\"caxis\":{\"gridcolor\":\"white\",\"linecolor\":\"white\",\"ticks\":\"\"}},\"title\":{\"x\":0.05},\"xaxis\":{\"automargin\":true,\"gridcolor\":\"white\",\"linecolor\":\"white\",\"ticks\":\"\",\"title\":{\"standoff\":15},\"zerolinecolor\":\"white\",\"zerolinewidth\":2},\"yaxis\":{\"automargin\":true,\"gridcolor\":\"white\",\"linecolor\":\"white\",\"ticks\":\"\",\"title\":{\"standoff\":15},\"zerolinecolor\":\"white\",\"zerolinewidth\":2}}},\"title\":{\"text\":\"Fr\\u00e9quence de passage de la ligne de bus C3 (par heure)\",\"x\":0.45},\"width\":700,\"xaxis\":{\"anchor\":\"y\",\"domain\":[0.0,0.98],\"title\":{\"text\":\"plage horaire\"}},\"xaxis2\":{\"anchor\":\"y2\",\"domain\":[0.0,0.98],\"matches\":\"x\",\"showticklabels\":false},\"xaxis3\":{\"anchor\":\"y3\",\"domain\":[0.0,0.98],\"matches\":\"x\",\"showticklabels\":false},\"xaxis4\":{\"anchor\":\"y4\",\"domain\":[0.0,0.98],\"matches\":\"x\",\"showticklabels\":false},\"yaxis\":{\"anchor\":\"x\",\"domain\":[0.0,0.2275],\"dtick\":2,\"tick0\":0,\"title\":{\"text\":\"nombre\"}},\"yaxis2\":{\"anchor\":\"x2\",\"domain\":[0.2575,0.485],\"dtick\":2,\"matches\":\"y\",\"tick0\":0,\"title\":{\"text\":\"nombre\"}},\"yaxis3\":{\"anchor\":\"x3\",\"domain\":[0.515,0.7425],\"dtick\":2,\"matches\":\"y\",\"tick0\":0,\"title\":{\"text\":\"nombre\"}},\"yaxis4\":{\"anchor\":\"x4\",\"domain\":[0.7725,1.0],\"dtick\":2,\"matches\":\"y\",\"tick0\":0,\"title\":{\"text\":\"nombre\"}}},                        {\"responsive\": true}                    ).then(function(){\n",
       "                            \n",
       "var gd = document.getElementById('461c50b2-73a5-4aab-b28d-b1240f1e1eaa');\n",
       "var x = new MutationObserver(function (mutations, observer) {{\n",
       "        var display = window.getComputedStyle(gd).display;\n",
       "        if (!display || display === 'none') {{\n",
       "            console.log([gd, 'removed!']);\n",
       "            Plotly.purge(gd);\n",
       "            observer.disconnect();\n",
       "        }}\n",
       "}});\n",
       "\n",
       "// Listen for the removal of the full notebook cells\n",
       "var notebookContainer = gd.closest('#notebook-container');\n",
       "if (notebookContainer) {{\n",
       "    x.observe(notebookContainer, {childList: true});\n",
       "}}\n",
       "\n",
       "// Listen for the clearing of the current output cell\n",
       "var outputEl = gd.closest('.output');\n",
       "if (outputEl) {{\n",
       "    x.observe(outputEl, {childList: true});\n",
       "}}\n",
       "\n",
       "                        })                };                });            </script>        </div>"
      ]
     },
     "metadata": {},
     "output_type": "display_data"
    }
   ],
   "source": [
    "import plotly.express as px\n",
    "import pandas as pd\n",
    "import numpy as np\n",
    "\n",
    "fig = px.bar(data_frame = traffic_pivot, \n",
    "             x= \"plage horaire\", \n",
    "             y=\"nombre de bus\",\n",
    "             labels={'nombre de bus' : \"nombre\", \"jour\" : \"jour\"},\n",
    "             color=\"jour\",\n",
    "             text=\"nombre de bus\",\n",
    "             facet_row=\"jour\",\n",
    "             title = \"Fréquence de passage de la ligne de bus C3 (par heure)\")\n",
    "    \n",
    "     \n",
    "# Pour forcer un écart de 2 au niveau de l'axe des y\n",
    "fig.update_yaxes(tick0=0, dtick = 2)\n",
    "\n",
    "# Personnalisation de l'affichage du nombre de bus sur chaque bar\n",
    "fig.update_traces(textposition='outside', textfont_size=10)\n",
    "\n",
    "# Pour ne pas afficher la legende\n",
    "#fig.update_layout(showlegend=False)\n",
    "fig.update_layout(legend=dict(\n",
    "    orientation=\"h\",\n",
    "    yanchor=\"bottom\",\n",
    "    y=1.02,\n",
    "    xanchor=\"right\",\n",
    "    x=0.80))\n",
    "\n",
    "# Pour personnaliser l'affichage du libellé lié au facet_row\n",
    "fig.for_each_annotation(lambda a: a.update(text=a.text.split(\"=\")[-1]))\n",
    "\n",
    "# Pour centrer le titre\n",
    "fig.update_layout(title_x = 0.45)\n",
    "\n",
    "# Pour redimensionner la figure\n",
    "fig.update_layout(autosize=False, width=700, height=600)\n",
    "\n",
    "fig.show()\n",
    "\n",
    "#fig.write_html(\"Frequence_passage_comparaison.html\")"
   ]
  },
  {
   "cell_type": "code",
   "execution_count": 49,
   "metadata": {},
   "outputs": [
    {
     "data": {
      "text/html": [
       "<div>\n",
       "<style scoped>\n",
       "    .dataframe tbody tr th:only-of-type {\n",
       "        vertical-align: middle;\n",
       "    }\n",
       "\n",
       "    .dataframe tbody tr th {\n",
       "        vertical-align: top;\n",
       "    }\n",
       "\n",
       "    .dataframe thead th {\n",
       "        text-align: right;\n",
       "    }\n",
       "</style>\n",
       "<table border=\"1\" class=\"dataframe\">\n",
       "  <thead>\n",
       "    <tr style=\"text-align: right;\">\n",
       "      <th></th>\n",
       "      <th>ligne</th>\n",
       "      <th>jour passage</th>\n",
       "      <th>jour</th>\n",
       "      <th>coursetheorique</th>\n",
       "    </tr>\n",
       "  </thead>\n",
       "  <tbody>\n",
       "    <tr>\n",
       "      <th>0</th>\n",
       "      <td>C3A</td>\n",
       "      <td>24</td>\n",
       "      <td>samedi</td>\n",
       "      <td>45</td>\n",
       "    </tr>\n",
       "    <tr>\n",
       "      <th>1</th>\n",
       "      <td>C3A</td>\n",
       "      <td>25</td>\n",
       "      <td>dimanche</td>\n",
       "      <td>33</td>\n",
       "    </tr>\n",
       "    <tr>\n",
       "      <th>2</th>\n",
       "      <td>C3A</td>\n",
       "      <td>26</td>\n",
       "      <td>lundi</td>\n",
       "      <td>55</td>\n",
       "    </tr>\n",
       "    <tr>\n",
       "      <th>3</th>\n",
       "      <td>C3A</td>\n",
       "      <td>27</td>\n",
       "      <td>mardi</td>\n",
       "      <td>55</td>\n",
       "    </tr>\n",
       "  </tbody>\n",
       "</table>\n",
       "</div>"
      ],
      "text/plain": [
       "  ligne  jour passage      jour  coursetheorique\n",
       "0   C3A            24    samedi               45\n",
       "1   C3A            25  dimanche               33\n",
       "2   C3A            26     lundi               55\n",
       "3   C3A            27     mardi               55"
      ]
     },
     "execution_count": 49,
     "metadata": {},
     "output_type": "execute_result"
    }
   ],
   "source": [
    "traffic_total = traffic.pivot_table(index = (\"ligne\", \"jour passage\", \"jour\"), values=\"coursetheorique\", aggfunc = \"count\")\n",
    "traffic_total = traffic_total.reset_index()\n",
    "traffic_total"
   ]
  },
  {
   "cell_type": "code",
   "execution_count": 39,
   "metadata": {},
   "outputs": [
    {
     "data": {
      "application/vnd.plotly.v1+json": {
       "config": {
        "plotlyServerURL": "https://plot.ly"
       },
       "data": [
        {
         "alignmentgroup": "True",
         "hovertemplate": " =%{text}<extra></extra>",
         "legendgroup": "samedi",
         "marker": {
          "color": "#636efa",
          "pattern": {
           "shape": ""
          }
         },
         "name": "samedi",
         "offsetgroup": "samedi",
         "orientation": "v",
         "showlegend": true,
         "text": [
          "45"
         ],
         "textfont": {
          "size": 15
         },
         "textposition": "outside",
         "type": "bar",
         "x": [
          "samedi"
         ],
         "xaxis": "x",
         "y": [
          45
         ],
         "yaxis": "y"
        },
        {
         "alignmentgroup": "True",
         "hovertemplate": " =%{text}<extra></extra>",
         "legendgroup": "dimanche",
         "marker": {
          "color": "#EF553B",
          "pattern": {
           "shape": ""
          }
         },
         "name": "dimanche",
         "offsetgroup": "dimanche",
         "orientation": "v",
         "showlegend": true,
         "text": [
          "33"
         ],
         "textfont": {
          "size": 15
         },
         "textposition": "outside",
         "type": "bar",
         "x": [
          "dimanche"
         ],
         "xaxis": "x",
         "y": [
          33
         ],
         "yaxis": "y"
        },
        {
         "alignmentgroup": "True",
         "hovertemplate": " =%{text}<extra></extra>",
         "legendgroup": "lundi",
         "marker": {
          "color": "#00cc96",
          "pattern": {
           "shape": ""
          }
         },
         "name": "lundi",
         "offsetgroup": "lundi",
         "orientation": "v",
         "showlegend": true,
         "text": [
          "55"
         ],
         "textfont": {
          "size": 15
         },
         "textposition": "outside",
         "type": "bar",
         "x": [
          "lundi"
         ],
         "xaxis": "x",
         "y": [
          55
         ],
         "yaxis": "y"
        },
        {
         "alignmentgroup": "True",
         "hovertemplate": " =%{text}<extra></extra>",
         "legendgroup": "mardi",
         "marker": {
          "color": "#ab63fa",
          "pattern": {
           "shape": ""
          }
         },
         "name": "mardi",
         "offsetgroup": "mardi",
         "orientation": "v",
         "showlegend": true,
         "text": [
          "55"
         ],
         "textfont": {
          "size": 15
         },
         "textposition": "outside",
         "type": "bar",
         "x": [
          "mardi"
         ],
         "xaxis": "x",
         "y": [
          55
         ],
         "yaxis": "y"
        }
       ],
       "layout": {
        "autosize": false,
        "barmode": "relative",
        "height": 600,
        "legend": {
         "title": {
          "text": " "
         },
         "tracegroupgap": 0
        },
        "showlegend": false,
        "template": {
         "data": {
          "bar": [
           {
            "error_x": {
             "color": "#2a3f5f"
            },
            "error_y": {
             "color": "#2a3f5f"
            },
            "marker": {
             "line": {
              "color": "#E5ECF6",
              "width": 0.5
             },
             "pattern": {
              "fillmode": "overlay",
              "size": 10,
              "solidity": 0.2
             }
            },
            "type": "bar"
           }
          ],
          "barpolar": [
           {
            "marker": {
             "line": {
              "color": "#E5ECF6",
              "width": 0.5
             },
             "pattern": {
              "fillmode": "overlay",
              "size": 10,
              "solidity": 0.2
             }
            },
            "type": "barpolar"
           }
          ],
          "carpet": [
           {
            "aaxis": {
             "endlinecolor": "#2a3f5f",
             "gridcolor": "white",
             "linecolor": "white",
             "minorgridcolor": "white",
             "startlinecolor": "#2a3f5f"
            },
            "baxis": {
             "endlinecolor": "#2a3f5f",
             "gridcolor": "white",
             "linecolor": "white",
             "minorgridcolor": "white",
             "startlinecolor": "#2a3f5f"
            },
            "type": "carpet"
           }
          ],
          "choropleth": [
           {
            "colorbar": {
             "outlinewidth": 0,
             "ticks": ""
            },
            "type": "choropleth"
           }
          ],
          "contour": [
           {
            "colorbar": {
             "outlinewidth": 0,
             "ticks": ""
            },
            "colorscale": [
             [
              0,
              "#0d0887"
             ],
             [
              0.1111111111111111,
              "#46039f"
             ],
             [
              0.2222222222222222,
              "#7201a8"
             ],
             [
              0.3333333333333333,
              "#9c179e"
             ],
             [
              0.4444444444444444,
              "#bd3786"
             ],
             [
              0.5555555555555556,
              "#d8576b"
             ],
             [
              0.6666666666666666,
              "#ed7953"
             ],
             [
              0.7777777777777778,
              "#fb9f3a"
             ],
             [
              0.8888888888888888,
              "#fdca26"
             ],
             [
              1,
              "#f0f921"
             ]
            ],
            "type": "contour"
           }
          ],
          "contourcarpet": [
           {
            "colorbar": {
             "outlinewidth": 0,
             "ticks": ""
            },
            "type": "contourcarpet"
           }
          ],
          "heatmap": [
           {
            "colorbar": {
             "outlinewidth": 0,
             "ticks": ""
            },
            "colorscale": [
             [
              0,
              "#0d0887"
             ],
             [
              0.1111111111111111,
              "#46039f"
             ],
             [
              0.2222222222222222,
              "#7201a8"
             ],
             [
              0.3333333333333333,
              "#9c179e"
             ],
             [
              0.4444444444444444,
              "#bd3786"
             ],
             [
              0.5555555555555556,
              "#d8576b"
             ],
             [
              0.6666666666666666,
              "#ed7953"
             ],
             [
              0.7777777777777778,
              "#fb9f3a"
             ],
             [
              0.8888888888888888,
              "#fdca26"
             ],
             [
              1,
              "#f0f921"
             ]
            ],
            "type": "heatmap"
           }
          ],
          "heatmapgl": [
           {
            "colorbar": {
             "outlinewidth": 0,
             "ticks": ""
            },
            "colorscale": [
             [
              0,
              "#0d0887"
             ],
             [
              0.1111111111111111,
              "#46039f"
             ],
             [
              0.2222222222222222,
              "#7201a8"
             ],
             [
              0.3333333333333333,
              "#9c179e"
             ],
             [
              0.4444444444444444,
              "#bd3786"
             ],
             [
              0.5555555555555556,
              "#d8576b"
             ],
             [
              0.6666666666666666,
              "#ed7953"
             ],
             [
              0.7777777777777778,
              "#fb9f3a"
             ],
             [
              0.8888888888888888,
              "#fdca26"
             ],
             [
              1,
              "#f0f921"
             ]
            ],
            "type": "heatmapgl"
           }
          ],
          "histogram": [
           {
            "marker": {
             "pattern": {
              "fillmode": "overlay",
              "size": 10,
              "solidity": 0.2
             }
            },
            "type": "histogram"
           }
          ],
          "histogram2d": [
           {
            "colorbar": {
             "outlinewidth": 0,
             "ticks": ""
            },
            "colorscale": [
             [
              0,
              "#0d0887"
             ],
             [
              0.1111111111111111,
              "#46039f"
             ],
             [
              0.2222222222222222,
              "#7201a8"
             ],
             [
              0.3333333333333333,
              "#9c179e"
             ],
             [
              0.4444444444444444,
              "#bd3786"
             ],
             [
              0.5555555555555556,
              "#d8576b"
             ],
             [
              0.6666666666666666,
              "#ed7953"
             ],
             [
              0.7777777777777778,
              "#fb9f3a"
             ],
             [
              0.8888888888888888,
              "#fdca26"
             ],
             [
              1,
              "#f0f921"
             ]
            ],
            "type": "histogram2d"
           }
          ],
          "histogram2dcontour": [
           {
            "colorbar": {
             "outlinewidth": 0,
             "ticks": ""
            },
            "colorscale": [
             [
              0,
              "#0d0887"
             ],
             [
              0.1111111111111111,
              "#46039f"
             ],
             [
              0.2222222222222222,
              "#7201a8"
             ],
             [
              0.3333333333333333,
              "#9c179e"
             ],
             [
              0.4444444444444444,
              "#bd3786"
             ],
             [
              0.5555555555555556,
              "#d8576b"
             ],
             [
              0.6666666666666666,
              "#ed7953"
             ],
             [
              0.7777777777777778,
              "#fb9f3a"
             ],
             [
              0.8888888888888888,
              "#fdca26"
             ],
             [
              1,
              "#f0f921"
             ]
            ],
            "type": "histogram2dcontour"
           }
          ],
          "mesh3d": [
           {
            "colorbar": {
             "outlinewidth": 0,
             "ticks": ""
            },
            "type": "mesh3d"
           }
          ],
          "parcoords": [
           {
            "line": {
             "colorbar": {
              "outlinewidth": 0,
              "ticks": ""
             }
            },
            "type": "parcoords"
           }
          ],
          "pie": [
           {
            "automargin": true,
            "type": "pie"
           }
          ],
          "scatter": [
           {
            "marker": {
             "colorbar": {
              "outlinewidth": 0,
              "ticks": ""
             }
            },
            "type": "scatter"
           }
          ],
          "scatter3d": [
           {
            "line": {
             "colorbar": {
              "outlinewidth": 0,
              "ticks": ""
             }
            },
            "marker": {
             "colorbar": {
              "outlinewidth": 0,
              "ticks": ""
             }
            },
            "type": "scatter3d"
           }
          ],
          "scattercarpet": [
           {
            "marker": {
             "colorbar": {
              "outlinewidth": 0,
              "ticks": ""
             }
            },
            "type": "scattercarpet"
           }
          ],
          "scattergeo": [
           {
            "marker": {
             "colorbar": {
              "outlinewidth": 0,
              "ticks": ""
             }
            },
            "type": "scattergeo"
           }
          ],
          "scattergl": [
           {
            "marker": {
             "colorbar": {
              "outlinewidth": 0,
              "ticks": ""
             }
            },
            "type": "scattergl"
           }
          ],
          "scattermapbox": [
           {
            "marker": {
             "colorbar": {
              "outlinewidth": 0,
              "ticks": ""
             }
            },
            "type": "scattermapbox"
           }
          ],
          "scatterpolar": [
           {
            "marker": {
             "colorbar": {
              "outlinewidth": 0,
              "ticks": ""
             }
            },
            "type": "scatterpolar"
           }
          ],
          "scatterpolargl": [
           {
            "marker": {
             "colorbar": {
              "outlinewidth": 0,
              "ticks": ""
             }
            },
            "type": "scatterpolargl"
           }
          ],
          "scatterternary": [
           {
            "marker": {
             "colorbar": {
              "outlinewidth": 0,
              "ticks": ""
             }
            },
            "type": "scatterternary"
           }
          ],
          "surface": [
           {
            "colorbar": {
             "outlinewidth": 0,
             "ticks": ""
            },
            "colorscale": [
             [
              0,
              "#0d0887"
             ],
             [
              0.1111111111111111,
              "#46039f"
             ],
             [
              0.2222222222222222,
              "#7201a8"
             ],
             [
              0.3333333333333333,
              "#9c179e"
             ],
             [
              0.4444444444444444,
              "#bd3786"
             ],
             [
              0.5555555555555556,
              "#d8576b"
             ],
             [
              0.6666666666666666,
              "#ed7953"
             ],
             [
              0.7777777777777778,
              "#fb9f3a"
             ],
             [
              0.8888888888888888,
              "#fdca26"
             ],
             [
              1,
              "#f0f921"
             ]
            ],
            "type": "surface"
           }
          ],
          "table": [
           {
            "cells": {
             "fill": {
              "color": "#EBF0F8"
             },
             "line": {
              "color": "white"
             }
            },
            "header": {
             "fill": {
              "color": "#C8D4E3"
             },
             "line": {
              "color": "white"
             }
            },
            "type": "table"
           }
          ]
         },
         "layout": {
          "annotationdefaults": {
           "arrowcolor": "#2a3f5f",
           "arrowhead": 0,
           "arrowwidth": 1
          },
          "autotypenumbers": "strict",
          "coloraxis": {
           "colorbar": {
            "outlinewidth": 0,
            "ticks": ""
           }
          },
          "colorscale": {
           "diverging": [
            [
             0,
             "#8e0152"
            ],
            [
             0.1,
             "#c51b7d"
            ],
            [
             0.2,
             "#de77ae"
            ],
            [
             0.3,
             "#f1b6da"
            ],
            [
             0.4,
             "#fde0ef"
            ],
            [
             0.5,
             "#f7f7f7"
            ],
            [
             0.6,
             "#e6f5d0"
            ],
            [
             0.7,
             "#b8e186"
            ],
            [
             0.8,
             "#7fbc41"
            ],
            [
             0.9,
             "#4d9221"
            ],
            [
             1,
             "#276419"
            ]
           ],
           "sequential": [
            [
             0,
             "#0d0887"
            ],
            [
             0.1111111111111111,
             "#46039f"
            ],
            [
             0.2222222222222222,
             "#7201a8"
            ],
            [
             0.3333333333333333,
             "#9c179e"
            ],
            [
             0.4444444444444444,
             "#bd3786"
            ],
            [
             0.5555555555555556,
             "#d8576b"
            ],
            [
             0.6666666666666666,
             "#ed7953"
            ],
            [
             0.7777777777777778,
             "#fb9f3a"
            ],
            [
             0.8888888888888888,
             "#fdca26"
            ],
            [
             1,
             "#f0f921"
            ]
           ],
           "sequentialminus": [
            [
             0,
             "#0d0887"
            ],
            [
             0.1111111111111111,
             "#46039f"
            ],
            [
             0.2222222222222222,
             "#7201a8"
            ],
            [
             0.3333333333333333,
             "#9c179e"
            ],
            [
             0.4444444444444444,
             "#bd3786"
            ],
            [
             0.5555555555555556,
             "#d8576b"
            ],
            [
             0.6666666666666666,
             "#ed7953"
            ],
            [
             0.7777777777777778,
             "#fb9f3a"
            ],
            [
             0.8888888888888888,
             "#fdca26"
            ],
            [
             1,
             "#f0f921"
            ]
           ]
          },
          "colorway": [
           "#636efa",
           "#EF553B",
           "#00cc96",
           "#ab63fa",
           "#FFA15A",
           "#19d3f3",
           "#FF6692",
           "#B6E880",
           "#FF97FF",
           "#FECB52"
          ],
          "font": {
           "color": "#2a3f5f"
          },
          "geo": {
           "bgcolor": "white",
           "lakecolor": "white",
           "landcolor": "#E5ECF6",
           "showlakes": true,
           "showland": true,
           "subunitcolor": "white"
          },
          "hoverlabel": {
           "align": "left"
          },
          "hovermode": "closest",
          "mapbox": {
           "style": "light"
          },
          "paper_bgcolor": "white",
          "plot_bgcolor": "#E5ECF6",
          "polar": {
           "angularaxis": {
            "gridcolor": "white",
            "linecolor": "white",
            "ticks": ""
           },
           "bgcolor": "#E5ECF6",
           "radialaxis": {
            "gridcolor": "white",
            "linecolor": "white",
            "ticks": ""
           }
          },
          "scene": {
           "xaxis": {
            "backgroundcolor": "#E5ECF6",
            "gridcolor": "white",
            "gridwidth": 2,
            "linecolor": "white",
            "showbackground": true,
            "ticks": "",
            "zerolinecolor": "white"
           },
           "yaxis": {
            "backgroundcolor": "#E5ECF6",
            "gridcolor": "white",
            "gridwidth": 2,
            "linecolor": "white",
            "showbackground": true,
            "ticks": "",
            "zerolinecolor": "white"
           },
           "zaxis": {
            "backgroundcolor": "#E5ECF6",
            "gridcolor": "white",
            "gridwidth": 2,
            "linecolor": "white",
            "showbackground": true,
            "ticks": "",
            "zerolinecolor": "white"
           }
          },
          "shapedefaults": {
           "line": {
            "color": "#2a3f5f"
           }
          },
          "ternary": {
           "aaxis": {
            "gridcolor": "white",
            "linecolor": "white",
            "ticks": ""
           },
           "baxis": {
            "gridcolor": "white",
            "linecolor": "white",
            "ticks": ""
           },
           "bgcolor": "#E5ECF6",
           "caxis": {
            "gridcolor": "white",
            "linecolor": "white",
            "ticks": ""
           }
          },
          "title": {
           "x": 0.05
          },
          "xaxis": {
           "automargin": true,
           "gridcolor": "white",
           "linecolor": "white",
           "ticks": "",
           "title": {
            "standoff": 15
           },
           "zerolinecolor": "white",
           "zerolinewidth": 2
          },
          "yaxis": {
           "automargin": true,
           "gridcolor": "white",
           "linecolor": "white",
           "ticks": "",
           "title": {
            "standoff": 15
           },
           "zerolinecolor": "white",
           "zerolinewidth": 2
          }
         }
        },
        "title": {
         "text": "Nombre de bus, par jour, entre 5h et 12h",
         "x": 0.5
        },
        "width": 500,
        "xaxis": {
         "anchor": "y",
         "categoryarray": [
          "samedi",
          "dimanche",
          "lundi",
          "mardi"
         ],
         "categoryorder": "array",
         "domain": [
          0,
          1
         ],
         "title": {
          "text": " "
         }
        },
        "yaxis": {
         "anchor": "x",
         "domain": [
          0,
          1
         ],
         "range": [
          0,
          70
         ],
         "title": {
          "text": " "
         }
        }
       }
      },
      "text/html": [
       "<div>                            <div id=\"aa49295f-36a9-4ab4-81fa-a9b95a40be54\" class=\"plotly-graph-div\" style=\"height:600px; width:500px;\"></div>            <script type=\"text/javascript\">                require([\"plotly\"], function(Plotly) {                    window.PLOTLYENV=window.PLOTLYENV || {};                                    if (document.getElementById(\"aa49295f-36a9-4ab4-81fa-a9b95a40be54\")) {                    Plotly.newPlot(                        \"aa49295f-36a9-4ab4-81fa-a9b95a40be54\",                        [{\"alignmentgroup\":\"True\",\"hovertemplate\":\" =%{text}<extra></extra>\",\"legendgroup\":\"samedi\",\"marker\":{\"color\":\"#636efa\",\"pattern\":{\"shape\":\"\"}},\"name\":\"samedi\",\"offsetgroup\":\"samedi\",\"orientation\":\"v\",\"showlegend\":true,\"text\":[\"45\"],\"textfont\":{\"size\":15},\"textposition\":\"outside\",\"type\":\"bar\",\"x\":[\"samedi\"],\"xaxis\":\"x\",\"y\":[45],\"yaxis\":\"y\"},{\"alignmentgroup\":\"True\",\"hovertemplate\":\" =%{text}<extra></extra>\",\"legendgroup\":\"dimanche\",\"marker\":{\"color\":\"#EF553B\",\"pattern\":{\"shape\":\"\"}},\"name\":\"dimanche\",\"offsetgroup\":\"dimanche\",\"orientation\":\"v\",\"showlegend\":true,\"text\":[\"33\"],\"textfont\":{\"size\":15},\"textposition\":\"outside\",\"type\":\"bar\",\"x\":[\"dimanche\"],\"xaxis\":\"x\",\"y\":[33],\"yaxis\":\"y\"},{\"alignmentgroup\":\"True\",\"hovertemplate\":\" =%{text}<extra></extra>\",\"legendgroup\":\"lundi\",\"marker\":{\"color\":\"#00cc96\",\"pattern\":{\"shape\":\"\"}},\"name\":\"lundi\",\"offsetgroup\":\"lundi\",\"orientation\":\"v\",\"showlegend\":true,\"text\":[\"55\"],\"textfont\":{\"size\":15},\"textposition\":\"outside\",\"type\":\"bar\",\"x\":[\"lundi\"],\"xaxis\":\"x\",\"y\":[55],\"yaxis\":\"y\"},{\"alignmentgroup\":\"True\",\"hovertemplate\":\" =%{text}<extra></extra>\",\"legendgroup\":\"mardi\",\"marker\":{\"color\":\"#ab63fa\",\"pattern\":{\"shape\":\"\"}},\"name\":\"mardi\",\"offsetgroup\":\"mardi\",\"orientation\":\"v\",\"showlegend\":true,\"text\":[\"55\"],\"textfont\":{\"size\":15},\"textposition\":\"outside\",\"type\":\"bar\",\"x\":[\"mardi\"],\"xaxis\":\"x\",\"y\":[55],\"yaxis\":\"y\"}],                        {\"autosize\":false,\"barmode\":\"relative\",\"height\":600,\"legend\":{\"title\":{\"text\":\" \"},\"tracegroupgap\":0},\"showlegend\":false,\"template\":{\"data\":{\"bar\":[{\"error_x\":{\"color\":\"#2a3f5f\"},\"error_y\":{\"color\":\"#2a3f5f\"},\"marker\":{\"line\":{\"color\":\"#E5ECF6\",\"width\":0.5},\"pattern\":{\"fillmode\":\"overlay\",\"size\":10,\"solidity\":0.2}},\"type\":\"bar\"}],\"barpolar\":[{\"marker\":{\"line\":{\"color\":\"#E5ECF6\",\"width\":0.5},\"pattern\":{\"fillmode\":\"overlay\",\"size\":10,\"solidity\":0.2}},\"type\":\"barpolar\"}],\"carpet\":[{\"aaxis\":{\"endlinecolor\":\"#2a3f5f\",\"gridcolor\":\"white\",\"linecolor\":\"white\",\"minorgridcolor\":\"white\",\"startlinecolor\":\"#2a3f5f\"},\"baxis\":{\"endlinecolor\":\"#2a3f5f\",\"gridcolor\":\"white\",\"linecolor\":\"white\",\"minorgridcolor\":\"white\",\"startlinecolor\":\"#2a3f5f\"},\"type\":\"carpet\"}],\"choropleth\":[{\"colorbar\":{\"outlinewidth\":0,\"ticks\":\"\"},\"type\":\"choropleth\"}],\"contour\":[{\"colorbar\":{\"outlinewidth\":0,\"ticks\":\"\"},\"colorscale\":[[0.0,\"#0d0887\"],[0.1111111111111111,\"#46039f\"],[0.2222222222222222,\"#7201a8\"],[0.3333333333333333,\"#9c179e\"],[0.4444444444444444,\"#bd3786\"],[0.5555555555555556,\"#d8576b\"],[0.6666666666666666,\"#ed7953\"],[0.7777777777777778,\"#fb9f3a\"],[0.8888888888888888,\"#fdca26\"],[1.0,\"#f0f921\"]],\"type\":\"contour\"}],\"contourcarpet\":[{\"colorbar\":{\"outlinewidth\":0,\"ticks\":\"\"},\"type\":\"contourcarpet\"}],\"heatmap\":[{\"colorbar\":{\"outlinewidth\":0,\"ticks\":\"\"},\"colorscale\":[[0.0,\"#0d0887\"],[0.1111111111111111,\"#46039f\"],[0.2222222222222222,\"#7201a8\"],[0.3333333333333333,\"#9c179e\"],[0.4444444444444444,\"#bd3786\"],[0.5555555555555556,\"#d8576b\"],[0.6666666666666666,\"#ed7953\"],[0.7777777777777778,\"#fb9f3a\"],[0.8888888888888888,\"#fdca26\"],[1.0,\"#f0f921\"]],\"type\":\"heatmap\"}],\"heatmapgl\":[{\"colorbar\":{\"outlinewidth\":0,\"ticks\":\"\"},\"colorscale\":[[0.0,\"#0d0887\"],[0.1111111111111111,\"#46039f\"],[0.2222222222222222,\"#7201a8\"],[0.3333333333333333,\"#9c179e\"],[0.4444444444444444,\"#bd3786\"],[0.5555555555555556,\"#d8576b\"],[0.6666666666666666,\"#ed7953\"],[0.7777777777777778,\"#fb9f3a\"],[0.8888888888888888,\"#fdca26\"],[1.0,\"#f0f921\"]],\"type\":\"heatmapgl\"}],\"histogram\":[{\"marker\":{\"pattern\":{\"fillmode\":\"overlay\",\"size\":10,\"solidity\":0.2}},\"type\":\"histogram\"}],\"histogram2d\":[{\"colorbar\":{\"outlinewidth\":0,\"ticks\":\"\"},\"colorscale\":[[0.0,\"#0d0887\"],[0.1111111111111111,\"#46039f\"],[0.2222222222222222,\"#7201a8\"],[0.3333333333333333,\"#9c179e\"],[0.4444444444444444,\"#bd3786\"],[0.5555555555555556,\"#d8576b\"],[0.6666666666666666,\"#ed7953\"],[0.7777777777777778,\"#fb9f3a\"],[0.8888888888888888,\"#fdca26\"],[1.0,\"#f0f921\"]],\"type\":\"histogram2d\"}],\"histogram2dcontour\":[{\"colorbar\":{\"outlinewidth\":0,\"ticks\":\"\"},\"colorscale\":[[0.0,\"#0d0887\"],[0.1111111111111111,\"#46039f\"],[0.2222222222222222,\"#7201a8\"],[0.3333333333333333,\"#9c179e\"],[0.4444444444444444,\"#bd3786\"],[0.5555555555555556,\"#d8576b\"],[0.6666666666666666,\"#ed7953\"],[0.7777777777777778,\"#fb9f3a\"],[0.8888888888888888,\"#fdca26\"],[1.0,\"#f0f921\"]],\"type\":\"histogram2dcontour\"}],\"mesh3d\":[{\"colorbar\":{\"outlinewidth\":0,\"ticks\":\"\"},\"type\":\"mesh3d\"}],\"parcoords\":[{\"line\":{\"colorbar\":{\"outlinewidth\":0,\"ticks\":\"\"}},\"type\":\"parcoords\"}],\"pie\":[{\"automargin\":true,\"type\":\"pie\"}],\"scatter\":[{\"marker\":{\"colorbar\":{\"outlinewidth\":0,\"ticks\":\"\"}},\"type\":\"scatter\"}],\"scatter3d\":[{\"line\":{\"colorbar\":{\"outlinewidth\":0,\"ticks\":\"\"}},\"marker\":{\"colorbar\":{\"outlinewidth\":0,\"ticks\":\"\"}},\"type\":\"scatter3d\"}],\"scattercarpet\":[{\"marker\":{\"colorbar\":{\"outlinewidth\":0,\"ticks\":\"\"}},\"type\":\"scattercarpet\"}],\"scattergeo\":[{\"marker\":{\"colorbar\":{\"outlinewidth\":0,\"ticks\":\"\"}},\"type\":\"scattergeo\"}],\"scattergl\":[{\"marker\":{\"colorbar\":{\"outlinewidth\":0,\"ticks\":\"\"}},\"type\":\"scattergl\"}],\"scattermapbox\":[{\"marker\":{\"colorbar\":{\"outlinewidth\":0,\"ticks\":\"\"}},\"type\":\"scattermapbox\"}],\"scatterpolar\":[{\"marker\":{\"colorbar\":{\"outlinewidth\":0,\"ticks\":\"\"}},\"type\":\"scatterpolar\"}],\"scatterpolargl\":[{\"marker\":{\"colorbar\":{\"outlinewidth\":0,\"ticks\":\"\"}},\"type\":\"scatterpolargl\"}],\"scatterternary\":[{\"marker\":{\"colorbar\":{\"outlinewidth\":0,\"ticks\":\"\"}},\"type\":\"scatterternary\"}],\"surface\":[{\"colorbar\":{\"outlinewidth\":0,\"ticks\":\"\"},\"colorscale\":[[0.0,\"#0d0887\"],[0.1111111111111111,\"#46039f\"],[0.2222222222222222,\"#7201a8\"],[0.3333333333333333,\"#9c179e\"],[0.4444444444444444,\"#bd3786\"],[0.5555555555555556,\"#d8576b\"],[0.6666666666666666,\"#ed7953\"],[0.7777777777777778,\"#fb9f3a\"],[0.8888888888888888,\"#fdca26\"],[1.0,\"#f0f921\"]],\"type\":\"surface\"}],\"table\":[{\"cells\":{\"fill\":{\"color\":\"#EBF0F8\"},\"line\":{\"color\":\"white\"}},\"header\":{\"fill\":{\"color\":\"#C8D4E3\"},\"line\":{\"color\":\"white\"}},\"type\":\"table\"}]},\"layout\":{\"annotationdefaults\":{\"arrowcolor\":\"#2a3f5f\",\"arrowhead\":0,\"arrowwidth\":1},\"autotypenumbers\":\"strict\",\"coloraxis\":{\"colorbar\":{\"outlinewidth\":0,\"ticks\":\"\"}},\"colorscale\":{\"diverging\":[[0,\"#8e0152\"],[0.1,\"#c51b7d\"],[0.2,\"#de77ae\"],[0.3,\"#f1b6da\"],[0.4,\"#fde0ef\"],[0.5,\"#f7f7f7\"],[0.6,\"#e6f5d0\"],[0.7,\"#b8e186\"],[0.8,\"#7fbc41\"],[0.9,\"#4d9221\"],[1,\"#276419\"]],\"sequential\":[[0.0,\"#0d0887\"],[0.1111111111111111,\"#46039f\"],[0.2222222222222222,\"#7201a8\"],[0.3333333333333333,\"#9c179e\"],[0.4444444444444444,\"#bd3786\"],[0.5555555555555556,\"#d8576b\"],[0.6666666666666666,\"#ed7953\"],[0.7777777777777778,\"#fb9f3a\"],[0.8888888888888888,\"#fdca26\"],[1.0,\"#f0f921\"]],\"sequentialminus\":[[0.0,\"#0d0887\"],[0.1111111111111111,\"#46039f\"],[0.2222222222222222,\"#7201a8\"],[0.3333333333333333,\"#9c179e\"],[0.4444444444444444,\"#bd3786\"],[0.5555555555555556,\"#d8576b\"],[0.6666666666666666,\"#ed7953\"],[0.7777777777777778,\"#fb9f3a\"],[0.8888888888888888,\"#fdca26\"],[1.0,\"#f0f921\"]]},\"colorway\":[\"#636efa\",\"#EF553B\",\"#00cc96\",\"#ab63fa\",\"#FFA15A\",\"#19d3f3\",\"#FF6692\",\"#B6E880\",\"#FF97FF\",\"#FECB52\"],\"font\":{\"color\":\"#2a3f5f\"},\"geo\":{\"bgcolor\":\"white\",\"lakecolor\":\"white\",\"landcolor\":\"#E5ECF6\",\"showlakes\":true,\"showland\":true,\"subunitcolor\":\"white\"},\"hoverlabel\":{\"align\":\"left\"},\"hovermode\":\"closest\",\"mapbox\":{\"style\":\"light\"},\"paper_bgcolor\":\"white\",\"plot_bgcolor\":\"#E5ECF6\",\"polar\":{\"angularaxis\":{\"gridcolor\":\"white\",\"linecolor\":\"white\",\"ticks\":\"\"},\"bgcolor\":\"#E5ECF6\",\"radialaxis\":{\"gridcolor\":\"white\",\"linecolor\":\"white\",\"ticks\":\"\"}},\"scene\":{\"xaxis\":{\"backgroundcolor\":\"#E5ECF6\",\"gridcolor\":\"white\",\"gridwidth\":2,\"linecolor\":\"white\",\"showbackground\":true,\"ticks\":\"\",\"zerolinecolor\":\"white\"},\"yaxis\":{\"backgroundcolor\":\"#E5ECF6\",\"gridcolor\":\"white\",\"gridwidth\":2,\"linecolor\":\"white\",\"showbackground\":true,\"ticks\":\"\",\"zerolinecolor\":\"white\"},\"zaxis\":{\"backgroundcolor\":\"#E5ECF6\",\"gridcolor\":\"white\",\"gridwidth\":2,\"linecolor\":\"white\",\"showbackground\":true,\"ticks\":\"\",\"zerolinecolor\":\"white\"}},\"shapedefaults\":{\"line\":{\"color\":\"#2a3f5f\"}},\"ternary\":{\"aaxis\":{\"gridcolor\":\"white\",\"linecolor\":\"white\",\"ticks\":\"\"},\"baxis\":{\"gridcolor\":\"white\",\"linecolor\":\"white\",\"ticks\":\"\"},\"bgcolor\":\"#E5ECF6\",\"caxis\":{\"gridcolor\":\"white\",\"linecolor\":\"white\",\"ticks\":\"\"}},\"title\":{\"x\":0.05},\"xaxis\":{\"automargin\":true,\"gridcolor\":\"white\",\"linecolor\":\"white\",\"ticks\":\"\",\"title\":{\"standoff\":15},\"zerolinecolor\":\"white\",\"zerolinewidth\":2},\"yaxis\":{\"automargin\":true,\"gridcolor\":\"white\",\"linecolor\":\"white\",\"ticks\":\"\",\"title\":{\"standoff\":15},\"zerolinecolor\":\"white\",\"zerolinewidth\":2}}},\"title\":{\"text\":\"Nombre de bus, par jour, entre 5h et 12h\",\"x\":0.5},\"width\":500,\"xaxis\":{\"anchor\":\"y\",\"categoryarray\":[\"samedi\",\"dimanche\",\"lundi\",\"mardi\"],\"categoryorder\":\"array\",\"domain\":[0.0,1.0],\"title\":{\"text\":\" \"}},\"yaxis\":{\"anchor\":\"x\",\"domain\":[0.0,1.0],\"range\":[0,70],\"title\":{\"text\":\" \"}}},                        {\"responsive\": true}                    ).then(function(){\n",
       "                            \n",
       "var gd = document.getElementById('aa49295f-36a9-4ab4-81fa-a9b95a40be54');\n",
       "var x = new MutationObserver(function (mutations, observer) {{\n",
       "        var display = window.getComputedStyle(gd).display;\n",
       "        if (!display || display === 'none') {{\n",
       "            console.log([gd, 'removed!']);\n",
       "            Plotly.purge(gd);\n",
       "            observer.disconnect();\n",
       "        }}\n",
       "}});\n",
       "\n",
       "// Listen for the removal of the full notebook cells\n",
       "var notebookContainer = gd.closest('#notebook-container');\n",
       "if (notebookContainer) {{\n",
       "    x.observe(notebookContainer, {childList: true});\n",
       "}}\n",
       "\n",
       "// Listen for the clearing of the current output cell\n",
       "var outputEl = gd.closest('.output');\n",
       "if (outputEl) {{\n",
       "    x.observe(outputEl, {childList: true});\n",
       "}}\n",
       "\n",
       "                        })                };                });            </script>        </div>"
      ]
     },
     "metadata": {},
     "output_type": "display_data"
    }
   ],
   "source": [
    "# Attention je teste un truc\n",
    "\n",
    "import plotly.express as px\n",
    "import pandas as pd\n",
    "import numpy as np\n",
    "\n",
    "\n",
    "fig = px.bar(data_frame = traffic_total, \n",
    "             x= \"jour\", \n",
    "             y=\"coursetheorique\",\n",
    "             labels={'coursetheorique' : \" \", \"jour\" : \" \"},\n",
    "             color=\"jour\",\n",
    "             range_y = (0, 70),\n",
    "             text=\"coursetheorique\",\n",
    "             title = \"Nombre de bus, par jour, entre 5h et 12h\")\n",
    "    \n",
    "\n",
    "# Personnalisation de l'affichage du nombre de bus sur chaque bar\n",
    "fig.update_traces(textposition='outside', textfont_size=15)\n",
    "\n",
    "# Pour ne pas afficher la legende\n",
    "fig.update_layout(showlegend=False)\n",
    "\n",
    "# Pour personnaliser l'affichage du libellé lié au facet_row\n",
    "fig.for_each_annotation(lambda a: a.update(text=a.text.split(\"=\")[-1]))\n",
    "\n",
    "# Pour centrer le titre\n",
    "fig.update_layout(title_x = 0.5)\n",
    "\n",
    "# Pour redimensionner la figure\n",
    "fig.update_layout(autosize=False, width=500, height=600)\n",
    "\n",
    "fig.show()\n",
    "\n",
    "#fig.write_html(\"Frequence_totale.png\")"
   ]
  }
 ],
 "metadata": {
  "kernelspec": {
   "display_name": "Python 3",
   "language": "python",
   "name": "python3"
  },
  "language_info": {
   "codemirror_mode": {
    "name": "ipython",
    "version": 3
   },
   "file_extension": ".py",
   "mimetype": "text/x-python",
   "name": "python",
   "nbconvert_exporter": "python",
   "pygments_lexer": "ipython3",
   "version": "3.8.5"
  }
 },
 "nbformat": 4,
 "nbformat_minor": 4
}
